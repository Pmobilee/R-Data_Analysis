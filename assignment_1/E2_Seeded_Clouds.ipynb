{
 "cells": [
  {
   "cell_type": "markdown",
   "metadata": {},
   "source": [
    "# Exercise 2. Seeded Clouds\n",
    "![picture 1](images/af803a28f14d490dc75c64452db63c3d326991ca98535d20a1d631ee08ad1883.png)  \n"
   ]
  },
  {
   "cell_type": "markdown",
   "metadata": {},
   "source": [
    "## 2A"
   ]
  },
  {
   "cell_type": "markdown",
   "metadata": {},
   "source": [
    "![picture 2](images/4aa5133ac8e47114d4352f201f47d4d1b1944a0e539efbf6e6e16bd958f7f6e4.png)  \n"
   ]
  },
  {
   "cell_type": "code",
   "execution_count": 1,
   "metadata": {},
   "outputs": [
    {
     "data": {
      "text/html": [
       "<table>\n",
       "<thead><tr><th scope=col>seeded</th><th scope=col>unseeded</th></tr></thead>\n",
       "<tbody>\n",
       "\t<tr><td> 129.6</td><td> 26.10</td></tr>\n",
       "\t<tr><td>  31.4</td><td> 26.30</td></tr>\n",
       "\t<tr><td>2745.6</td><td> 87.00</td></tr>\n",
       "\t<tr><td> 489.1</td><td> 95.00</td></tr>\n",
       "\t<tr><td> 430.0</td><td>372.40</td></tr>\n",
       "\t<tr><td> 302.8</td><td>  0.01</td></tr>\n",
       "</tbody>\n",
       "</table>\n"
      ],
      "text/latex": [
       "\\begin{tabular}{r|ll}\n",
       " seeded & unseeded\\\\\n",
       "\\hline\n",
       "\t  129.6 &  26.10\\\\\n",
       "\t   31.4 &  26.30\\\\\n",
       "\t 2745.6 &  87.00\\\\\n",
       "\t  489.1 &  95.00\\\\\n",
       "\t  430.0 & 372.40\\\\\n",
       "\t  302.8 &   0.01\\\\\n",
       "\\end{tabular}\n"
      ],
      "text/markdown": [
       "\n",
       "| seeded | unseeded |\n",
       "|---|---|\n",
       "|  129.6 |  26.10 |\n",
       "|   31.4 |  26.30 |\n",
       "| 2745.6 |  87.00 |\n",
       "|  489.1 |  95.00 |\n",
       "|  430.0 | 372.40 |\n",
       "|  302.8 |   0.01 |\n",
       "\n"
      ],
      "text/plain": [
       "  seeded unseeded\n",
       "1  129.6  26.10  \n",
       "2   31.4  26.30  \n",
       "3 2745.6  87.00  \n",
       "4  489.1  95.00  \n",
       "5  430.0 372.40  \n",
       "6  302.8   0.01  "
      ]
     },
     "metadata": {},
     "output_type": "display_data"
    }
   ],
   "source": [
    "# Load in the clouds data\n",
    "clouds_data <- read.table(\"clouds.txt\", header = T)\n",
    "head(clouds_data)"
   ]
  },
  {
   "cell_type": "markdown",
   "metadata": {},
   "source": [
    "#### First let's see some data characteristics:"
   ]
  },
  {
   "cell_type": "code",
   "execution_count": 2,
   "metadata": {},
   "outputs": [
    {
     "data": {
      "text/html": [
       "441.984615384615"
      ],
      "text/latex": [
       "441.984615384615"
      ],
      "text/markdown": [
       "441.984615384615"
      ],
      "text/plain": [
       "[1] 441.9846"
      ]
     },
     "metadata": {},
     "output_type": "display_data"
    },
    {
     "data": {
      "text/html": [
       "164.561923076923"
      ],
      "text/latex": [
       "164.561923076923"
      ],
      "text/markdown": [
       "164.561923076923"
      ],
      "text/plain": [
       "[1] 164.5619"
      ]
     },
     "metadata": {},
     "output_type": "display_data"
    },
    {
     "data": {
      "text/plain": [
       "\n",
       "\tShapiro-Wilk normality test\n",
       "\n",
       "data:  clouds_data$seeded\n",
       "W = 0.65626, p-value = 1.411e-06\n"
      ]
     },
     "metadata": {},
     "output_type": "display_data"
    },
    {
     "data": {
      "text/plain": [
       "\n",
       "\tShapiro-Wilk normality test\n",
       "\n",
       "data:  clouds_data$unseeded\n",
       "W = 0.60257, p-value = 3.166e-07\n"
      ]
     },
     "metadata": {},
     "output_type": "display_data"
    }
   ],
   "source": [
    "mean(clouds_data$seeded); mean(clouds_data$unseeded); shapiro.test(clouds_data$seeded); shapiro.test(clouds_data$unseeded)"
   ]
  },
  {
   "cell_type": "code",
   "execution_count": 3,
   "metadata": {},
   "outputs": [
    {
     "data": {
      "text/html": [
       "<strong>png:</strong> 3"
      ],
      "text/latex": [
       "\\textbf{png:} 3"
      ],
      "text/markdown": [
       "**png:** 3"
      ],
      "text/plain": [
       "png \n",
       "  3 "
      ]
     },
     "metadata": {},
     "output_type": "display_data"
    },
    {
     "data": {
      "text/html": [
       "<strong>png:</strong> 2"
      ],
      "text/latex": [
       "\\textbf{png:} 2"
      ],
      "text/markdown": [
       "**png:** 2"
      ],
      "text/plain": [
       "png \n",
       "  2 "
      ]
     },
     "metadata": {},
     "output_type": "display_data"
    },
    {
     "data": {
      "image/png": "[encoded data removed]",
      "text/plain": [
       "Plot with title \"Unseeded Clouds\""
      ]
     },
     "metadata": {},
     "output_type": "display_data"
    }
   ],
   "source": [
    "par(mfrow = c(1, 2))\n",
    "hist(clouds_data$seeded, main='Seeded Clouds', xlab='Rain ft/acre'); hist(clouds_data$unseeded, main = \"Unseeded Clouds\",xlab='Rain ft/acre')\n",
    "dev.copy(png,'plots/2a_hist.png', width=800, height=400)\n",
    "dev.off()"
   ]
  },
  {
   "cell_type": "code",
   "execution_count": 4,
   "metadata": {},
   "outputs": [
    {
     "data": {
      "text/html": [
       "<strong>png:</strong> 3"
      ],
      "text/latex": [
       "\\textbf{png:} 3"
      ],
      "text/markdown": [
       "**png:** 3"
      ],
      "text/plain": [
       "png \n",
       "  3 "
      ]
     },
     "metadata": {},
     "output_type": "display_data"
    },
    {
     "data": {
      "text/html": [
       "<strong>png:</strong> 2"
      ],
      "text/latex": [
       "\\textbf{png:} 2"
      ],
      "text/markdown": [
       "**png:** 2"
      ],
      "text/plain": [
       "png \n",
       "  2 "
      ]
     },
     "metadata": {},
     "output_type": "display_data"
    },
    {
     "data": {
      "image/png": "[encoded data removed]",
      "text/plain": [
       "Plot with title \"Unseeded Clouds\""
      ]
     },
     "metadata": {},
     "output_type": "display_data"
    }
   ],
   "source": [
    "par(mfrow = c(1, 2))\n",
    "qqnorm(clouds_data$seeded, main='Seeded Clouds'); qqline(clouds_data$seeded, col = 1,lwd=2,lty=2) \n",
    "qqnorm(clouds_data$unseeded, main='Unseeded Clouds'); qqline(clouds_data$unseeded, col = 1,lwd=2,lty=2) \n",
    "dev.copy(png,'plots/2a_qqnorm.png', width=800, height=400)\n",
    "dev.off()"
   ]
  },
  {
   "cell_type": "markdown",
   "metadata": {},
   "source": [
    "#### Both data samples are not normally distributed"
   ]
  },
  {
   "cell_type": "markdown",
   "metadata": {},
   "source": [
    "#### First test, two-sampled T test:"
   ]
  },
  {
   "cell_type": "code",
   "execution_count": 5,
   "metadata": {},
   "outputs": [
    {
     "data": {
      "text/plain": [
       "\n",
       "\tPaired t-test\n",
       "\n",
       "data:  clouds_data$seeded and clouds_data$unseeded\n",
       "t = 2.1204, df = 25, p-value = 0.04407\n",
       "alternative hypothesis: true difference in means is not equal to 0\n",
       "95 percent confidence interval:\n",
       "   7.961957 546.883428\n",
       "sample estimates:\n",
       "mean of the differences \n",
       "               277.4227 \n"
      ]
     },
     "metadata": {},
     "output_type": "display_data"
    }
   ],
   "source": [
    "t.test(clouds_data$seeded, clouds_data$unseeded, paired = TRUE, alternative = \"two.sided\")"
   ]
  },
  {
   "cell_type": "markdown",
   "metadata": {},
   "source": [
    "#### The Paired Sample T-test indicates that the two distributions differ significantly, now to test the question of whether being seeded with nitrate increases rainfall:"
   ]
  },
  {
   "cell_type": "code",
   "execution_count": 6,
   "metadata": {},
   "outputs": [
    {
     "data": {
      "text/plain": [
       "\n",
       "\tWelch Two Sample t-test\n",
       "\n",
       "data:  clouds_data$seeded and clouds_data$unseeded\n",
       "t = 1.9984, df = 33.856, p-value = 0.02688\n",
       "alternative hypothesis: true difference in means is greater than 0\n",
       "95 percent confidence interval:\n",
       " 42.65827      Inf\n",
       "sample estimates:\n",
       "mean of x mean of y \n",
       " 441.9846  164.5619 \n"
      ]
     },
     "metadata": {},
     "output_type": "display_data"
    }
   ],
   "source": [
    "t.test(clouds_data$seeded, clouds_data$unseeded, paired = FALSE, alternative = \"greater\")"
   ]
  },
  {
   "cell_type": "markdown",
   "metadata": {},
   "source": [
    "#### This seems to indicate that nitrate seeding does indicate higher rainfall, however, the data is not normally distributed and therefore this test is not applicable. I would argue paired to not be true, since 52 unique clouds were sampled, without taking a cloud, measuring it, and then adding nitrate.\n",
    "#### Next, we use the mann-whitney u test:"
   ]
  },
  {
   "cell_type": "code",
   "execution_count": 7,
   "metadata": {},
   "outputs": [
    {
     "name": "stderr",
     "output_type": "stream",
     "text": [
      "Warning message in wilcox.test.default(clouds_data$seeded, clouds_data$unseeded, :\n",
      "\"cannot compute exact p-value with ties\""
     ]
    },
    {
     "data": {
      "text/plain": [
       "\n",
       "\tWilcoxon rank sum test with continuity correction\n",
       "\n",
       "data:  clouds_data$seeded and clouds_data$unseeded\n",
       "W = 473, p-value = 0.006916\n",
       "alternative hypothesis: true location shift is greater than 0\n"
      ]
     },
     "metadata": {},
     "output_type": "display_data"
    }
   ],
   "source": [
    "# We again add alternative to be \"greater\"\n",
    "wilcox.test(clouds_data$seeded, clouds_data$unseeded, alternative = \"greater\")"
   ]
  },
  {
   "cell_type": "markdown",
   "metadata": {},
   "source": [
    "#### This parametric test can be used since it's only requirement is that the two groups must be independent, which we may assume. Also the data must be continuous, which is the case\n",
    "#### The last test is the Kolmogorov-Smirnov test, this time with alternative = \"less\", due to the documentation: (Thus in the two-sample case alternative = \"greater\" includes distributions for which x is stochastically smaller than y (the CDF of x lies above and hence to the left of that for y), in contrast to t.test or wilcox.test)). Normally this test is used to assess normality just like the shapiro wilk, but in our case it is used to test if the seeded distribution has significantly increased rainfall compared to the unseeded distribution:"
   ]
  },
  {
   "cell_type": "code",
   "execution_count": 8,
   "metadata": {},
   "outputs": [
    {
     "name": "stderr",
     "output_type": "stream",
     "text": [
      "Warning message in ks.test(clouds_data$seeded, clouds_data$unseeded, alternative = \"less\"):\n",
      "\"cannot compute exact p-value with ties\""
     ]
    },
    {
     "data": {
      "text/plain": [
       "\n",
       "\tTwo-sample Kolmogorov-Smirnov test\n",
       "\n",
       "data:  clouds_data$seeded and clouds_data$unseeded\n",
       "D^- = 0.42308, p-value = 0.009525\n",
       "alternative hypothesis: the CDF of x lies below that of y\n"
      ]
     },
     "metadata": {},
     "output_type": "display_data"
    }
   ],
   "source": [
    "ks.test(clouds_data$seeded, clouds_data$unseeded, alternative = 'less')"
   ]
  },
  {
   "cell_type": "markdown",
   "metadata": {},
   "source": [
    "#### In conclusion, all tests agree with the hypothesis. However, due to non-normality of (both) the distribution(s), we may only take into account the results of the mann-whitney U- and Kolmogorov-Smirnov tests."
   ]
  },
  {
   "cell_type": "markdown",
   "metadata": {},
   "source": [
    "## 2B"
   ]
  },
  {
   "cell_type": "markdown",
   "metadata": {},
   "source": [
    "![picture 3](images/ac6da0ebb103c2c81bf4d7c7b922fb401dbf59285cddd30259fa3d5f35cd410d.png)  \n"
   ]
  },
  {
   "cell_type": "markdown",
   "metadata": {},
   "source": [
    "#### First we repeat all previous tests on the square root of the values:"
   ]
  },
  {
   "cell_type": "code",
   "execution_count": 9,
   "metadata": {},
   "outputs": [
    {
     "data": {
      "text/plain": [
       "\n",
       "\tShapiro-Wilk normality test\n",
       "\n",
       "data:  sqrt_seeded\n",
       "W = 0.87394, p-value = 0.004298\n"
      ]
     },
     "metadata": {},
     "output_type": "display_data"
    },
    {
     "data": {
      "text/plain": [
       "\n",
       "\tShapiro-Wilk normality test\n",
       "\n",
       "data:  sqrt_unseeded\n",
       "W = 0.83744, p-value = 0.0008196\n"
      ]
     },
     "metadata": {},
     "output_type": "display_data"
    }
   ],
   "source": [
    "sqrt_seeded <- sqrt(clouds_data$seeded)\n",
    "sqrt_unseeded <- sqrt(clouds_data$unseeded)\n",
    "sqrt_sqrt_seeded <- sqrt(sqrt_seeded)\n",
    "sqrt_sqrt_unseeded <- sqrt(sqrt_unseeded)\n",
    "\n",
    "# Quick normality tests\n",
    "shapiro.test(sqrt_seeded); shapiro.test(sqrt_unseeded)"
   ]
  },
  {
   "cell_type": "code",
   "execution_count": 10,
   "metadata": {},
   "outputs": [
    {
     "data": {
      "text/html": [
       "<strong>png:</strong> 3"
      ],
      "text/latex": [
       "\\textbf{png:} 3"
      ],
      "text/markdown": [
       "**png:** 3"
      ],
      "text/plain": [
       "png \n",
       "  3 "
      ]
     },
     "metadata": {},
     "output_type": "display_data"
    },
    {
     "data": {
      "text/html": [
       "<strong>png:</strong> 2"
      ],
      "text/latex": [
       "\\textbf{png:} 2"
      ],
      "text/markdown": [
       "**png:** 2"
      ],
      "text/plain": [
       "png \n",
       "  2 "
      ]
     },
     "metadata": {},
     "output_type": "display_data"
    },
    {
     "data": {
      "image/png": "[encoded data removed]",
      "text/plain": [
       "Plot with title \"SQRT Unseeded Clouds\""
      ]
     },
     "metadata": {},
     "output_type": "display_data"
    }
   ],
   "source": [
    "par(mfrow = c(1, 2))\n",
    "hist(sqrt_seeded, main='SQRT Seeded Clouds', xlab='SQRT Rain ft/acre'); hist(sqrt_unseeded, main = \"SQRT Unseeded Clouds\",xlab='SQRT Rain ft/acre')\n",
    "dev.copy(png,'plots/2b_sqrt_hist.png', width=800, height=400)\n",
    "dev.off()"
   ]
  },
  {
   "cell_type": "code",
   "execution_count": 11,
   "metadata": {},
   "outputs": [
    {
     "data": {
      "text/html": [
       "<strong>png:</strong> 3"
      ],
      "text/latex": [
       "\\textbf{png:} 3"
      ],
      "text/markdown": [
       "**png:** 3"
      ],
      "text/plain": [
       "png \n",
       "  3 "
      ]
     },
     "metadata": {},
     "output_type": "display_data"
    },
    {
     "data": {
      "text/html": [
       "<strong>png:</strong> 2"
      ],
      "text/latex": [
       "\\textbf{png:} 2"
      ],
      "text/markdown": [
       "**png:** 2"
      ],
      "text/plain": [
       "png \n",
       "  2 "
      ]
     },
     "metadata": {},
     "output_type": "display_data"
    },
    {
     "data": {
      "image/png": "[encoded data removed]",
      "text/plain": [
       "Plot with title \"SQRT Unseeded Clouds\""
      ]
     },
     "metadata": {},
     "output_type": "display_data"
    }
   ],
   "source": [
    "par(mfrow = c(1, 2))\n",
    "qqnorm(sqrt_seeded, main='SQRT Seeded Clouds'); qqline(sqrt_seeded, col = 1,lwd=2,lty=2) \n",
    "qqnorm(sqrt_unseeded, main='SQRT Unseeded Clouds'); qqline(sqrt_unseeded, col = 1,lwd=2,lty=2) \n",
    "dev.copy(png,'plots/2b_sqrt_qqnorm.png', width=800, height=400)\n",
    "dev.off()"
   ]
  },
  {
   "cell_type": "markdown",
   "metadata": {},
   "source": [
    "#### The data remains non-normal, so while we do all three tests for the assignment, we cannot include the results of the t-test:"
   ]
  },
  {
   "cell_type": "code",
   "execution_count": 12,
   "metadata": {},
   "outputs": [
    {
     "data": {
      "text/plain": [
       "\n",
       "\tWelch Two Sample t-test\n",
       "\n",
       "data:  sqrt_seeded and sqrt_unseeded\n",
       "t = 2.4246, df = 43.363, p-value = 0.009782\n",
       "alternative hypothesis: true difference in means is greater than 0\n",
       "95 percent confidence interval:\n",
       " 2.189448      Inf\n",
       "sample estimates:\n",
       "mean of x mean of y \n",
       "17.068014  9.931321 \n"
      ]
     },
     "metadata": {},
     "output_type": "display_data"
    },
    {
     "name": "stderr",
     "output_type": "stream",
     "text": [
      "Warning message in wilcox.test.default(sqrt_seeded, sqrt_unseeded, alternative = \"greater\"):\n",
      "\"cannot compute exact p-value with ties\""
     ]
    },
    {
     "data": {
      "text/plain": [
       "\n",
       "\tWilcoxon rank sum test with continuity correction\n",
       "\n",
       "data:  sqrt_seeded and sqrt_unseeded\n",
       "W = 473, p-value = 0.006916\n",
       "alternative hypothesis: true location shift is greater than 0\n"
      ]
     },
     "metadata": {},
     "output_type": "display_data"
    },
    {
     "name": "stderr",
     "output_type": "stream",
     "text": [
      "Warning message in ks.test(sqrt_seeded, sqrt_unseeded, alternative = \"less\"):\n",
      "\"cannot compute exact p-value with ties\""
     ]
    },
    {
     "data": {
      "text/plain": [
       "\n",
       "\tTwo-sample Kolmogorov-Smirnov test\n",
       "\n",
       "data:  sqrt_seeded and sqrt_unseeded\n",
       "D^- = 0.42308, p-value = 0.009525\n",
       "alternative hypothesis: the CDF of x lies below that of y\n"
      ]
     },
     "metadata": {},
     "output_type": "display_data"
    }
   ],
   "source": [
    "t.test(sqrt_seeded, sqrt_unseeded, paired = FALSE, alternative = \"greater\")\n",
    "wilcox.test(sqrt_seeded, sqrt_unseeded, alternative = \"greater\")\n",
    "ks.test(sqrt_seeded, sqrt_unseeded, alternative = 'less')"
   ]
  },
  {
   "cell_type": "markdown",
   "metadata": {},
   "source": [
    "#### We have stransformed the data by taking the square root of both datasets, however, this does not change the distribution and therefor still indicates that silver nitrate increases rainfaill"
   ]
  },
  {
   "cell_type": "markdown",
   "metadata": {},
   "source": [
    "#### And now for the square root of the square root of the data:"
   ]
  },
  {
   "cell_type": "code",
   "execution_count": 13,
   "metadata": {},
   "outputs": [
    {
     "data": {
      "text/plain": [
       "\n",
       "\tShapiro-Wilk normality test\n",
       "\n",
       "data:  sqrt_sqrt_seeded\n",
       "W = 0.96504, p-value = 0.5004\n"
      ]
     },
     "metadata": {},
     "output_type": "display_data"
    },
    {
     "data": {
      "text/plain": [
       "\n",
       "\tShapiro-Wilk normality test\n",
       "\n",
       "data:  sqrt_sqrt_unseeded\n",
       "W = 0.95778, p-value = 0.3497\n"
      ]
     },
     "metadata": {},
     "output_type": "display_data"
    }
   ],
   "source": [
    "shapiro.test(sqrt_sqrt_seeded); shapiro.test(sqrt_sqrt_unseeded)"
   ]
  },
  {
   "cell_type": "code",
   "execution_count": 14,
   "metadata": {},
   "outputs": [
    {
     "data": {
      "text/html": [
       "<strong>png:</strong> 3"
      ],
      "text/latex": [
       "\\textbf{png:} 3"
      ],
      "text/markdown": [
       "**png:** 3"
      ],
      "text/plain": [
       "png \n",
       "  3 "
      ]
     },
     "metadata": {},
     "output_type": "display_data"
    },
    {
     "data": {
      "text/html": [
       "<strong>png:</strong> 2"
      ],
      "text/latex": [
       "\\textbf{png:} 2"
      ],
      "text/markdown": [
       "**png:** 2"
      ],
      "text/plain": [
       "png \n",
       "  2 "
      ]
     },
     "metadata": {},
     "output_type": "display_data"
    },
    {
     "data": {
      "image/png": "[encoded data removed]",
      "text/plain": [
       "Plot with title \"SQRT SQRT Unseeded Clouds\""
      ]
     },
     "metadata": {},
     "output_type": "display_data"
    }
   ],
   "source": [
    "par(mfrow = c(1, 2))\n",
    "hist(sqrt_sqrt_seeded, main='SQRT SQRT Seeded Clouds', xlab='SQRT SQRT Rain ft/acre'); hist(sqrt_sqrt_unseeded, main = \"SQRT SQRT Unseeded Clouds\",xlab='SQRT SQRT Rain ft/acre')\n",
    "dev.copy(png,'plots/2b_sqrt_sqrt_hist.png', width=800, height=400)\n",
    "dev.off()"
   ]
  },
  {
   "cell_type": "code",
   "execution_count": 15,
   "metadata": {},
   "outputs": [
    {
     "data": {
      "text/html": [
       "<strong>png:</strong> 3"
      ],
      "text/latex": [
       "\\textbf{png:} 3"
      ],
      "text/markdown": [
       "**png:** 3"
      ],
      "text/plain": [
       "png \n",
       "  3 "
      ]
     },
     "metadata": {},
     "output_type": "display_data"
    },
    {
     "data": {
      "text/html": [
       "<strong>png:</strong> 2"
      ],
      "text/latex": [
       "\\textbf{png:} 2"
      ],
      "text/markdown": [
       "**png:** 2"
      ],
      "text/plain": [
       "png \n",
       "  2 "
      ]
     },
     "metadata": {},
     "output_type": "display_data"
    },
    {
     "data": {
      "image/png": "[encoded data removed]",
      "text/plain": [
       "Plot with title \"SQRT SQRT Unseeded Clouds\""
      ]
     },
     "metadata": {},
     "output_type": "display_data"
    }
   ],
   "source": [
    "par(mfrow = c(1, 2))\n",
    "qqnorm(sqrt_sqrt_seeded, main='SQRT SQRT Seeded Clouds'); qqline(sqrt_sqrt_seeded, col = 1,lwd=2,lty=2) \n",
    "qqnorm(sqrt_sqrt_unseeded, main='SQRT SQRT Unseeded Clouds'); qqline(sqrt_sqrt_unseeded, col = 1,lwd=2,lty=2) \n",
    "dev.copy(png,'plots/2b_sqrt_sqrt_qqnorm.png', width=800, height=400)\n",
    "dev.off()"
   ]
  },
  {
   "cell_type": "markdown",
   "metadata": {},
   "source": [
    "#### Interestingly, the sqrt_sqrt versions now show normality, meaning all previously used tests become available for use:"
   ]
  },
  {
   "cell_type": "code",
   "execution_count": 16,
   "metadata": {},
   "outputs": [
    {
     "data": {
      "text/plain": [
       "\n",
       "\tWelch Two Sample t-test\n",
       "\n",
       "data:  sqrt_sqrt_seeded and sqrt_sqrt_unseeded\n",
       "t = 2.5968, df = 48.826, p-value = 0.0062\n",
       "alternative hypothesis: true difference in means is greater than 0\n",
       "95 percent confidence interval:\n",
       " 0.3442816       Inf\n",
       "sample estimates:\n",
       "mean of x mean of y \n",
       " 3.878988  2.907340 \n"
      ]
     },
     "metadata": {},
     "output_type": "display_data"
    },
    {
     "name": "stderr",
     "output_type": "stream",
     "text": [
      "Warning message in wilcox.test.default(sqrt_sqrt_seeded, sqrt_sqrt_unseeded, alternative = \"greater\"):\n",
      "\"cannot compute exact p-value with ties\""
     ]
    },
    {
     "data": {
      "text/plain": [
       "\n",
       "\tWilcoxon rank sum test with continuity correction\n",
       "\n",
       "data:  sqrt_sqrt_seeded and sqrt_sqrt_unseeded\n",
       "W = 473, p-value = 0.006916\n",
       "alternative hypothesis: true location shift is greater than 0\n"
      ]
     },
     "metadata": {},
     "output_type": "display_data"
    },
    {
     "name": "stderr",
     "output_type": "stream",
     "text": [
      "Warning message in ks.test(sqrt_sqrt_seeded, sqrt_sqrt_unseeded, alternative = \"less\"):\n",
      "\"cannot compute exact p-value with ties\""
     ]
    },
    {
     "data": {
      "text/plain": [
       "\n",
       "\tTwo-sample Kolmogorov-Smirnov test\n",
       "\n",
       "data:  sqrt_sqrt_seeded and sqrt_sqrt_unseeded\n",
       "D^- = 0.42308, p-value = 0.009525\n",
       "alternative hypothesis: the CDF of x lies below that of y\n"
      ]
     },
     "metadata": {},
     "output_type": "display_data"
    }
   ],
   "source": [
    "t.test(sqrt_sqrt_seeded, sqrt_sqrt_unseeded, paired = FALSE, alternative = \"greater\")\n",
    "wilcox.test(sqrt_sqrt_seeded, sqrt_sqrt_unseeded, alternative = \"greater\")\n",
    "ks.test(sqrt_sqrt_seeded, sqrt_sqrt_unseeded, alternative = 'less')"
   ]
  },
  {
   "cell_type": "markdown",
   "metadata": {},
   "source": [
    "#### So applying the transformation has made our distributions approximately normal, allowing us to use the previously mentioned two sample t-test for the first time. However, none of our statistical values has changed because of the transformation"
   ]
  },
  {
   "cell_type": "markdown",
   "metadata": {},
   "source": [
    "## 2C"
   ]
  },
  {
   "cell_type": "markdown",
   "metadata": {},
   "source": [
    "![picture 6](images/f4f9f9834378fb6408cf1bbb25020407e3e31668f6ccd3ed8560888eddd33b29.png)  \n"
   ]
  },
  {
   "cell_type": "markdown",
   "metadata": {},
   "source": [
    "#### So here we use sampling to estimate the distribution of our seeded clouds data, and construct the 95%-confidence interval with a bootstrap test. First, lets generate a sample distribution:"
   ]
  },
  {
   "cell_type": "code",
   "execution_count": 17,
   "metadata": {},
   "outputs": [
    {
     "data": {
      "text/html": [
       "221.6"
      ],
      "text/latex": [
       "221.6"
      ],
      "text/markdown": [
       "221.6"
      ],
      "text/plain": [
       "[1] 221.6"
      ]
     },
     "metadata": {},
     "output_type": "display_data"
    },
    {
     "data": {
      "text/html": [
       "<strong>2.5%:</strong> 324.9"
      ],
      "text/latex": [
       "\\textbf{2.5\\textbackslash{}\\%:} 324.9"
      ],
      "text/markdown": [
       "**2.5%:** 324.9"
      ],
      "text/plain": [
       " 2.5% \n",
       "324.9 "
      ]
     },
     "metadata": {},
     "output_type": "display_data"
    },
    {
     "data": {
      "text/html": [
       "221.6"
      ],
      "text/latex": [
       "221.6"
      ],
      "text/markdown": [
       "221.6"
      ],
      "text/plain": [
       "[1] 221.6"
      ]
     },
     "metadata": {},
     "output_type": "display_data"
    },
    {
     "data": {
      "text/html": [
       "<strong>97.5%:</strong> 138.8"
      ],
      "text/latex": [
       "\\textbf{97.5\\textbackslash{}\\%:} 138.8"
      ],
      "text/markdown": [
       "**97.5%:** 138.8"
      ],
      "text/plain": [
       "97.5% \n",
       "138.8 "
      ]
     },
     "metadata": {},
     "output_type": "display_data"
    }
   ],
   "source": [
    "population <- clouds_data$seeded\n",
    "\n",
    "T <- median(population)\n",
    "\n",
    "iter <- 1000\n",
    "samples <- numeric(iter)\n",
    "\n",
    "for(iter in 1:iter) {\n",
    "    sample <- sample(population, replace=T)\n",
    "    samples[iter] <- median(sample)}\n",
    "\n",
    "samples_025 <- quantile(samples, 0.025)\n",
    "samples_975 <- quantile(samples, 0.975)\n",
    "\n",
    "T; 2 * T - samples_025; median(samples); 2 * T - samples_975"
   ]
  },
  {
   "cell_type": "code",
   "execution_count": 18,
   "metadata": {},
   "outputs": [
    {
     "data": {
      "text/html": [
       "<strong>png:</strong> 3"
      ],
      "text/latex": [
       "\\textbf{png:} 3"
      ],
      "text/markdown": [
       "**png:** 3"
      ],
      "text/plain": [
       "png \n",
       "  3 "
      ]
     },
     "metadata": {},
     "output_type": "display_data"
    },
    {
     "data": {
      "text/html": [
       "<strong>png:</strong> 2"
      ],
      "text/latex": [
       "\\textbf{png:} 2"
      ],
      "text/markdown": [
       "**png:** 2"
      ],
      "text/plain": [
       "png \n",
       "  2 "
      ]
     },
     "metadata": {},
     "output_type": "display_data"
    },
    {
     "data": {
      "image/png": "[encoded data removed]",
      "text/plain": [
       "Plot with title \"Normal Q-Q Plot\""
      ]
     },
     "metadata": {},
     "output_type": "display_data"
    }
   ],
   "source": [
    "par(mfrow=c(1,2))\n",
    "hist(samples); qqnorm(samples); qqline(samples, col = 'red')\n",
    "dev.copy(png,'plots/2c_hist_qq_samples.png', width=800, height=400)\n",
    "dev.off()"
   ]
  },
  {
   "cell_type": "markdown",
   "metadata": {},
   "source": [
    "Neither the histogram, nor the qqplot give any indication of the samples being exponentially distributed"
   ]
  },
  {
   "cell_type": "markdown",
   "metadata": {},
   "source": [
    "To perform the Kolmogorov-Smirnov test we compare the sampled values with the actual values"
   ]
  },
  {
   "cell_type": "code",
   "execution_count": 21,
   "metadata": {},
   "outputs": [
    {
     "name": "stderr",
     "output_type": "stream",
     "text": [
      "Warning message in ks.test(samples, pexp):\n",
      "\"ties should not be present for the Kolmogorov-Smirnov test\""
     ]
    },
    {
     "data": {
      "text/plain": [
       "\n",
       "\tOne-sample Kolmogorov-Smirnov test\n",
       "\n",
       "data:  samples\n",
       "D = 1, p-value < 2.2e-16\n",
       "alternative hypothesis: two-sided\n"
      ]
     },
     "metadata": {},
     "output_type": "display_data"
    }
   ],
   "source": [
    "ks.test(samples, pexp)"
   ]
  },
  {
   "cell_type": "code",
   "execution_count": null,
   "metadata": {},
   "outputs": [],
   "source": [
    "par(mfrow=c(1,2))\n",
    "hist(population); qqnorm(population); qqline(population, col = 'red')\n",
    "dev.copy(png,'plots/2c_hist_qq_population.png', width=800, height=400)\n",
    "dev.off()"
   ]
  },
  {
   "cell_type": "markdown",
   "metadata": {},
   "source": [
    "The null hypothesis for the Kolmogorov-Smirnov test is that samples come from an exponential distribution, but we can reject the null hypothesis based on the test results. "
   ]
  },
  {
   "cell_type": "markdown",
   "metadata": {},
   "source": [
    "## 2D"
   ]
  },
  {
   "cell_type": "markdown",
   "metadata": {},
   "source": [
    "![picture 1](../images/f8d6ce07e6fd3e472396ad490ec3dac164f6e08770214c7c021058ea8780a725.png)  \n"
   ]
  },
  {
   "cell_type": "markdown",
   "metadata": {},
   "source": [
    "#### A one-sample wilcoxon test can be used to test the median of a population against a known value, in this case \"Less than 300\":"
   ]
  },
  {
   "cell_type": "code",
   "execution_count": null,
   "metadata": {},
   "outputs": [],
   "source": [
    "median(population)"
   ]
  },
  {
   "cell_type": "code",
   "execution_count": null,
   "metadata": {},
   "outputs": [],
   "source": [
    "wilcox.test(population, mu = 300, paired = F, alternative = 'less')"
   ]
  },
  {
   "cell_type": "markdown",
   "metadata": {},
   "source": [
    "#### The Wilcox Test shows non-significant results. Our next task is to use a test to assess whether the fraction of clouds with precipitation of less than 30 is at most 30%"
   ]
  },
  {
   "cell_type": "code",
   "execution_count": null,
   "metadata": {},
   "outputs": [],
   "source": [
    "# Method one, counting:\n",
    "# Method 2, quantiles\n",
    "sum(population < 30) < length(population) * 0.25 \n",
    "30 < quantile(population, 0.25)"
   ]
  },
  {
   "cell_type": "markdown",
   "metadata": {},
   "source": [
    "#### Both tests show the assumption to be correct."
   ]
  }
 ],
 "metadata": {
  "kernelspec": {
   "display_name": "R",
   "language": "R",
   "name": "ir"
  },
  "language_info": {
   "codemirror_mode": "r",
   "file_extension": ".r",
   "mimetype": "text/x-r-source",
   "name": "R",
   "pygments_lexer": "r",
   "version": "3.6.1"
  }
 },
 "nbformat": 4,
 "nbformat_minor": 2
}
