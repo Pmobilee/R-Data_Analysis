{
 "cells": [
  {
   "cell_type": "markdown",
   "metadata": {},
   "source": [
    "# Exercise 2. Seeded Clouds\n",
    "![picture 1](images/af803a28f14d490dc75c64452db63c3d326991ca98535d20a1d631ee08ad1883.png)  \n"
   ]
  },
  {
   "cell_type": "markdown",
   "metadata": {},
   "source": [
    "## 2A"
   ]
  },
  {
   "cell_type": "markdown",
   "metadata": {},
   "source": [
    "![picture 2](images/4aa5133ac8e47114d4352f201f47d4d1b1944a0e539efbf6e6e16bd958f7f6e4.png)  \n"
   ]
  },
  {
   "cell_type": "code",
   "execution_count": 3,
   "metadata": {},
   "outputs": [
    {
     "data": {
      "text/html": [
       "<table>\n",
       "<thead><tr><th scope=col>seeded</th><th scope=col>unseeded</th></tr></thead>\n",
       "<tbody>\n",
       "\t<tr><td> 129.6</td><td> 26.10</td></tr>\n",
       "\t<tr><td>  31.4</td><td> 26.30</td></tr>\n",
       "\t<tr><td>2745.6</td><td> 87.00</td></tr>\n",
       "\t<tr><td> 489.1</td><td> 95.00</td></tr>\n",
       "\t<tr><td> 430.0</td><td>372.40</td></tr>\n",
       "\t<tr><td> 302.8</td><td>  0.01</td></tr>\n",
       "</tbody>\n",
       "</table>\n"
      ],
      "text/latex": [
       "\\begin{tabular}{r|ll}\n",
       " seeded & unseeded\\\\\n",
       "\\hline\n",
       "\t  129.6 &  26.10\\\\\n",
       "\t   31.4 &  26.30\\\\\n",
       "\t 2745.6 &  87.00\\\\\n",
       "\t  489.1 &  95.00\\\\\n",
       "\t  430.0 & 372.40\\\\\n",
       "\t  302.8 &   0.01\\\\\n",
       "\\end{tabular}\n"
      ],
      "text/markdown": [
       "\n",
       "| seeded | unseeded |\n",
       "|---|---|\n",
       "|  129.6 |  26.10 |\n",
       "|   31.4 |  26.30 |\n",
       "| 2745.6 |  87.00 |\n",
       "|  489.1 |  95.00 |\n",
       "|  430.0 | 372.40 |\n",
       "|  302.8 |   0.01 |\n",
       "\n"
      ],
      "text/plain": [
       "  seeded unseeded\n",
       "1  129.6  26.10  \n",
       "2   31.4  26.30  \n",
       "3 2745.6  87.00  \n",
       "4  489.1  95.00  \n",
       "5  430.0 372.40  \n",
       "6  302.8   0.01  "
      ]
     },
     "metadata": {},
     "output_type": "display_data"
    }
   ],
   "source": [
    "# Load in the clouds data\n",
    "clouds_data <- read.table(\"clouds.txt\", header = T)\n",
    "head(clouds_data)"
   ]
  },
  {
   "cell_type": "markdown",
   "metadata": {},
   "source": [
    "#### First let's see some data characteristics:"
   ]
  },
  {
   "cell_type": "code",
   "execution_count": 4,
   "metadata": {},
   "outputs": [
    {
     "data": {
      "text/html": [
       "441.984615384615"
      ],
      "text/latex": [
       "441.984615384615"
      ],
      "text/markdown": [
       "441.984615384615"
      ],
      "text/plain": [
       "[1] 441.9846"
      ]
     },
     "metadata": {},
     "output_type": "display_data"
    },
    {
     "data": {
      "text/html": [
       "164.561923076923"
      ],
      "text/latex": [
       "164.561923076923"
      ],
      "text/markdown": [
       "164.561923076923"
      ],
      "text/plain": [
       "[1] 164.5619"
      ]
     },
     "metadata": {},
     "output_type": "display_data"
    },
    {
     "data": {
      "text/plain": [
       "\n",
       "\tShapiro-Wilk normality test\n",
       "\n",
       "data:  clouds_data$seeded\n",
       "W = 0.65626, p-value = 1.411e-06\n"
      ]
     },
     "metadata": {},
     "output_type": "display_data"
    },
    {
     "data": {
      "text/plain": [
       "\n",
       "\tShapiro-Wilk normality test\n",
       "\n",
       "data:  clouds_data$unseeded\n",
       "W = 0.60257, p-value = 3.166e-07\n"
      ]
     },
     "metadata": {},
     "output_type": "display_data"
    }
   ],
   "source": [
    "mean(clouds_data$seeded); mean(clouds_data$unseeded); shapiro.test(clouds_data$seeded); shapiro.test(clouds_data$unseeded)"
   ]
  },
  {
   "cell_type": "code",
   "execution_count": 31,
   "metadata": {},
   "outputs": [
    {
     "data": {
      "text/html": [
       "<strong>png:</strong> 3"
      ],
      "text/latex": [
       "\\textbf{png:} 3"
      ],
      "text/markdown": [
       "**png:** 3"
      ],
      "text/plain": [
       "png \n",
       "  3 "
      ]
     },
     "metadata": {},
     "output_type": "display_data"
    },
    {
     "data": {
      "text/html": [
       "<strong>png:</strong> 2"
      ],
      "text/latex": [
       "\\textbf{png:} 2"
      ],
      "text/markdown": [
       "**png:** 2"
      ],
      "text/plain": [
       "png \n",
       "  2 "
      ]
     },
     "metadata": {},
     "output_type": "display_data"
    },
    {
     "data": {
      "image/png": "[encoded data removed]",
      "text/plain": [
       "Plot with title \"Unseeded Clouds\""
      ]
     },
     "metadata": {},
     "output_type": "display_data"
    }
   ],
   "source": [
    "par(mfrow = c(1, 2))\n",
    "hist(clouds_data$seeded, main='Seeded Clouds', xlab='Rain ft/acre'); hist(clouds_data$unseeded, main = \"Unseeded Clouds\",xlab='Rain ft/acre')\n",
    "dev.copy(png,'plots/2a_hist.png', width=800, height=400)\n",
    "dev.off()"
   ]
  },
  {
   "cell_type": "code",
   "execution_count": 27,
   "metadata": {},
   "outputs": [
    {
     "data": {
      "text/html": [
       "<strong>png:</strong> 3"
      ],
      "text/latex": [
       "\\textbf{png:} 3"
      ],
      "text/markdown": [
       "**png:** 3"
      ],
      "text/plain": [
       "png \n",
       "  3 "
      ]
     },
     "metadata": {},
     "output_type": "display_data"
    },
    {
     "data": {
      "text/html": [
       "<strong>png:</strong> 2"
      ],
      "text/latex": [
       "\\textbf{png:} 2"
      ],
      "text/markdown": [
       "**png:** 2"
      ],
      "text/plain": [
       "png \n",
       "  2 "
      ]
     },
     "metadata": {},
     "output_type": "display_data"
    },
    {
     "data": {
      "image/png": "[encoded data removed]",
      "text/plain": [
       "Plot with title \"Uneeded Clouds\""
      ]
     },
     "metadata": {},
     "output_type": "display_data"
    }
   ],
   "source": [
    "par(mfrow = c(1, 2))\n",
    "qqnorm(clouds_data$seeded, main='Seeded Clouds'); qqline(clouds_data$seeded, col = 1,lwd=2,lty=2) \n",
    "qqnorm(clouds_data$unseeded, main='Uneeded Clouds'); qqline(clouds_data$seeded, col = 1,lwd=2,lty=2) \n",
    "dev.copy(png,'plots/2a_qqnorm.png', width=800, height=400)\n",
    "dev.off()"
   ]
  },
  {
   "cell_type": "markdown",
   "metadata": {},
   "source": [
    "#### Both data samples are not normally distributed"
   ]
  },
  {
   "cell_type": "markdown",
   "metadata": {},
   "source": [
    "#### First test, two-sampled T test:"
   ]
  },
  {
   "cell_type": "code",
   "execution_count": 28,
   "metadata": {},
   "outputs": [
    {
     "data": {
      "text/plain": [
       "\n",
       "\tPaired t-test\n",
       "\n",
       "data:  clouds_data$seeded and clouds_data$unseeded\n",
       "t = 2.1204, df = 25, p-value = 0.04407\n",
       "alternative hypothesis: true difference in means is not equal to 0\n",
       "95 percent confidence interval:\n",
       "   7.961957 546.883428\n",
       "sample estimates:\n",
       "mean of the differences \n",
       "               277.4227 \n"
      ]
     },
     "metadata": {},
     "output_type": "display_data"
    }
   ],
   "source": [
    "t.test(clouds_data$seeded, clouds_data$unseeded, paired = TRUE, alternative = \"two.sided\")"
   ]
  },
  {
   "cell_type": "markdown",
   "metadata": {},
   "source": [
    "#### The Paired Sample T-test indicates that the two distributions differ significantly, now to test the question of whether being seeded with nitrate increases rainfall:"
   ]
  },
  {
   "cell_type": "code",
   "execution_count": 30,
   "metadata": {},
   "outputs": [
    {
     "data": {
      "text/plain": [
       "\n",
       "\tPaired t-test\n",
       "\n",
       "data:  clouds_data$seeded and clouds_data$unseeded\n",
       "t = 2.1204, df = 25, p-value = 0.02204\n",
       "alternative hypothesis: true difference in means is greater than 0\n",
       "95 percent confidence interval:\n",
       " 53.93726      Inf\n",
       "sample estimates:\n",
       "mean of the differences \n",
       "               277.4227 \n"
      ]
     },
     "metadata": {},
     "output_type": "display_data"
    }
   ],
   "source": [
    "t.test(clouds_data$seeded, clouds_data$unseeded, paired = TRUE, alternative = \"greater\")"
   ]
  },
  {
   "cell_type": "markdown",
   "metadata": {},
   "source": [
    "#### This seems to indicate that nitrate seeding does indicate higher rainfall, however, the data is not normally distributed and therefore this test is not applicable. \n",
    "#### Next, we use the mann-whitney u test:"
   ]
  },
  {
   "cell_type": "code",
   "execution_count": null,
   "metadata": {},
   "outputs": [],
   "source": []
  }
 ],
 "metadata": {
  "kernelspec": {
   "display_name": "R",
   "language": "R",
   "name": "python397jvsc74a57bd0fcd74ca6de8b0cef01546b97488633c36ca07830b7936ac2d49e46ad1b704c42"
  },
  "language_info": {
   "codemirror_mode": "r",
   "file_extension": ".r",
   "mimetype": "text/x-r-source",
   "name": "R",
   "pygments_lexer": "r",
   "version": "3.6.1"
  },
  "orig_nbformat": 4
 },
 "nbformat": 4,
 "nbformat_minor": 2
}
