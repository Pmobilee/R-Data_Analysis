{
 "cells": [
  {
   "cell_type": "markdown",
   "metadata": {},
   "source": [
    "# Exercise 1. Waiting time"
   ]
  },
  {
   "cell_type": "markdown",
   "metadata": {},
   "source": [
    "## 1A"
   ]
  },
  {
   "cell_type": "markdown",
   "metadata": {},
   "source": [
    "![picture 2](images/943113cf94c15371588eae88a0f24f70016016863a21b63ac2652b4359d226b5.png)  \n"
   ]
  },
  {
   "cell_type": "code",
   "execution_count": 1,
   "metadata": {},
   "outputs": [
    {
     "data": {
      "text/plain": [
       "\n",
       "\tShapiro-Wilk normality test\n",
       "\n",
       "data:  x\n",
       "W = 0.93473, p-value = 0.3207\n"
      ]
     },
     "metadata": {},
     "output_type": "display_data"
    },
    {
     "data": {
      "text/html": [
       "<strong>png:</strong> 3"
      ],
      "text/latex": [
       "\\textbf{png:} 3"
      ],
      "text/markdown": [
       "**png:** 3"
      ],
      "text/plain": [
       "png \n",
       "  3 "
      ]
     },
     "metadata": {},
     "output_type": "display_data"
    },
    {
     "data": {
      "text/html": [
       "<strong>png:</strong> 2"
      ],
      "text/latex": [
       "\\textbf{png:} 2"
      ],
      "text/markdown": [
       "**png:** 2"
      ],
      "text/plain": [
       "png \n",
       "  2 "
      ]
     },
     "metadata": {},
     "output_type": "display_data"
    },
    {
     "data": {
      "image/png": "[encoded data removed]",
      "text/plain": [
       "Plot with title \"Normal Q-Q Plot\""
      ]
     },
     "metadata": {},
     "output_type": "display_data"
    }
   ],
   "source": [
    "x <- c(15.4, 17.9, 19.0, 0.5, 15.9, 2.7, 6.2, 2.5, 4.7, 6.9, 10.8, 24.3, 5.6, 23.0, 10.7) # nolint\n",
    "mean_wait <- mean(x)\n",
    "sd_wait <- sd(x)\n",
    "len_wait <- length(x)\n",
    "\n",
    "# Check for normality\n",
    "qqnorm(x) ; qqline(x, col = 1,lwd=2,lty=2) ; shapiro.test(x)\n",
    "dev.copy(png,'plots/1a_qqnorm.png')\n",
    "dev.off()"
   ]
  },
  {
   "cell_type": "markdown",
   "metadata": {},
   "source": [
    "#### The data seems to follow a normal distribution, gathered from the qqline and the shapiro test results (p > 0.05)\n",
    "#### Now we first calculate the confidence interval via a third party package:"
   ]
  },
  {
   "cell_type": "code",
   "execution_count": 2,
   "metadata": {},
   "outputs": [
    {
     "name": "stderr",
     "output_type": "stream",
     "text": [
      "Warning message:\n",
      "\"package 'Rmisc' was built under R version 3.6.3\"Loading required package: lattice\n",
      "Warning message:\n",
      "\"package 'lattice' was built under R version 3.6.3\"Loading required package: plyr\n",
      "Warning message:\n",
      "\"package 'plyr' was built under R version 3.6.3\""
     ]
    },
    {
     "data": {
      "text/html": [
       "<dl class=dl-horizontal>\n",
       "\t<dt>upper</dt>\n",
       "\t\t<dd>15.8916424490779</dd>\n",
       "\t<dt>mean</dt>\n",
       "\t\t<dd>11.0733333333333</dd>\n",
       "\t<dt>lower</dt>\n",
       "\t\t<dd>6.25502421758877</dd>\n",
       "</dl>\n"
      ],
      "text/latex": [
       "\\begin{description*}\n",
       "\\item[upper] 15.8916424490779\n",
       "\\item[mean] 11.0733333333333\n",
       "\\item[lower] 6.25502421758877\n",
       "\\end{description*}\n"
      ],
      "text/markdown": [
       "upper\n",
       ":   15.8916424490779mean\n",
       ":   11.0733333333333lower\n",
       ":   6.25502421758877\n",
       "\n"
      ],
      "text/plain": [
       "    upper      mean     lower \n",
       "15.891642 11.073333  6.255024 "
      ]
     },
     "metadata": {},
     "output_type": "display_data"
    }
   ],
   "source": [
    "#install.packages(\"Rmisc\")\n",
    "library(Rmisc)\n",
    "confidence_interval <- CI(x, 0.97)\n",
    "confidence_interval"
   ]
  },
  {
   "cell_type": "markdown",
   "metadata": {},
   "source": [
    "#### And then calculate it normally:"
   ]
  },
  {
   "cell_type": "code",
   "execution_count": 3,
   "metadata": {},
   "outputs": [
    {
     "data": {
      "text/html": [
       "15.8916424490779"
      ],
      "text/latex": [
       "15.8916424490779"
      ],
      "text/markdown": [
       "15.8916424490779"
      ],
      "text/plain": [
       "[1] 15.89164"
      ]
     },
     "metadata": {},
     "output_type": "display_data"
    },
    {
     "data": {
      "text/html": [
       "11.0733333333333"
      ],
      "text/latex": [
       "11.0733333333333"
      ],
      "text/markdown": [
       "11.0733333333333"
      ],
      "text/plain": [
       "[1] 11.07333"
      ]
     },
     "metadata": {},
     "output_type": "display_data"
    },
    {
     "data": {
      "text/html": [
       "6.25502421758877"
      ],
      "text/latex": [
       "6.25502421758877"
      ],
      "text/markdown": [
       "6.25502421758877"
      ],
      "text/plain": [
       "[1] 6.255024"
      ]
     },
     "metadata": {},
     "output_type": "display_data"
    }
   ],
   "source": [
    "# First we calculate the CI normally:\n",
    "error <- qt(0.985, df = len_wait - 1) * sd_wait / sqrt(len_wait)\n",
    "lower <- mean_wait - error\n",
    "upper <- mean_wait + error\n",
    "upper; mean_wait; lower"
   ]
  },
  {
   "cell_type": "markdown",
   "metadata": {},
   "source": [
    "#### Now for the bootstrap method:"
   ]
  },
  {
   "cell_type": "code",
   "execution_count": 4,
   "metadata": {},
   "outputs": [
    {
     "data": {
      "text/html": [
       "<strong>1.5%:</strong> 15.1202"
      ],
      "text/latex": [
       "\\textbf{1.5\\textbackslash{}\\%:} 15.1202"
      ],
      "text/markdown": [
       "**1.5%:** 15.1202"
      ],
      "text/plain": [
       "   1.5% \n",
       "15.1202 "
      ]
     },
     "metadata": {},
     "output_type": "display_data"
    },
    {
     "data": {
      "text/html": [
       "11.0733333333333"
      ],
      "text/latex": [
       "11.0733333333333"
      ],
      "text/markdown": [
       "11.0733333333333"
      ],
      "text/plain": [
       "[1] 11.07333"
      ]
     },
     "metadata": {},
     "output_type": "display_data"
    },
    {
     "data": {
      "text/html": [
       "<strong>98.5%:</strong> 6.84596666666667"
      ],
      "text/latex": [
       "\\textbf{98.5\\textbackslash{}\\%:} 6.84596666666667"
      ],
      "text/markdown": [
       "**98.5%:** 6.84596666666667"
      ],
      "text/plain": [
       "   98.5% \n",
       "6.845967 "
      ]
     },
     "metadata": {},
     "output_type": "display_data"
    }
   ],
   "source": [
    "iter <- 1000\n",
    "waits <- numeric(iter)\n",
    "for(iter in 1:iter) {\n",
    "    wait <- sample(x, replace=T)\n",
    "    waits[iter] <- mean(wait)}\n",
    "\n",
    "waits_015 <- quantile(waits, 0.015)\n",
    "waits_985 <- quantile(waits, 0.985)\n",
    "2 * mean_wait - waits_015; mean_wait; 2 * mean_wait - waits_985"
   ]
  },
  {
   "cell_type": "markdown",
   "metadata": {},
   "source": [
    "#### Now let's calculate the sample size needed for a maximum 97%-CI length of 2:"
   ]
  },
  {
   "cell_type": "code",
   "execution_count": 5,
   "metadata": {},
   "outputs": [
    {
     "data": {
      "text/html": [
       "281.215162270732"
      ],
      "text/latex": [
       "281.215162270732"
      ],
      "text/markdown": [
       "281.215162270732"
      ],
      "text/plain": [
       "[1] 281.2152"
      ]
     },
     "metadata": {},
     "output_type": "display_data"
    }
   ],
   "source": [
    "za <- qnorm(0.985)\n",
    "\n",
    "# We take length (2) divided by two to gain the desired error\n",
    "minimum_n <- (za ** 2 * sd_wait **2) / (2 / 2) ** 2\n",
    "minimum_n"
   ]
  },
  {
   "cell_type": "markdown",
   "metadata": {},
   "source": [
    "#### We a need minimum of 282 samples"
   ]
  },
  {
   "cell_type": "markdown",
   "metadata": {},
   "source": [
    "#### So clearly the bootstrap method performs very similar to the direct confidence interval calculation. Increasing the amount of iterations seemed to bring the results closer to the earlier confidence interval we calculated."
   ]
  },
  {
   "cell_type": "markdown",
   "metadata": {},
   "source": [
    "## 1B"
   ]
  },
  {
   "cell_type": "markdown",
   "metadata": {},
   "source": [
    "![picture 3](images/47e31fdccd701f461b621397da394b394c82f51183ea2bf986e1d1c0c0bc48ac.png)  \n"
   ]
  },
  {
   "cell_type": "markdown",
   "metadata": {},
   "source": [
    "#### Since we know the data is normally distributed, we can use a simple one-sided t-test, since we want to know whether the mean is less than 15 seconds."
   ]
  },
  {
   "cell_type": "code",
   "execution_count": 6,
   "metadata": {},
   "outputs": [
    {
     "data": {
      "text/plain": [
       "\n",
       "\tOne Sample t-test\n",
       "\n",
       "data:  x\n",
       "t = -1.968, df = 14, p-value = 0.0346\n",
       "alternative hypothesis: true mean is less than 15\n",
       "95 percent confidence interval:\n",
       "     -Inf 14.58758\n",
       "sample estimates:\n",
       "mean of x \n",
       " 11.07333 \n"
      ]
     },
     "metadata": {},
     "output_type": "display_data"
    }
   ],
   "source": [
    "# Zou de alternative niet 'more' moeten zijn?\n",
    "t_test <- t.test(x, mu = 15, alternative='less')\n",
    "t_test"
   ]
  },
  {
   "cell_type": "markdown",
   "metadata": {},
   "source": [
    "#### Since our p-value does not exceed the threshold of alpha = 0.05, we can say that the doctors claim was statistically valid. The confidence interval here indicates the 95%-confidence interval for our mean wait time. This indicates we can say with 95% confidence the true mean lies within these boundaries. The upper bound is 14.588, meaning that we can say with 95% confidence that the mean wait time is at most less than 14.588 seconds. Our value of 15 lies above this 95% confidence upper bound threshold, decreasing the p-value beyond 0.05.\n",
    "#### Now for the sign test, technically it tests median values and not mean values, and I wasn't able to find a sign test regarding means. However, I still used one: "
   ]
  },
  {
   "cell_type": "code",
   "execution_count": 7,
   "metadata": {},
   "outputs": [
    {
     "name": "stderr",
     "output_type": "stream",
     "text": [
      "\n",
      "Attaching package: 'BSDA'\n",
      "\n",
      "The following object is masked from 'package:datasets':\n",
      "\n",
      "    Orange\n",
      "\n"
     ]
    },
    {
     "data": {
      "text/plain": [
       "\n",
       "\tOne-sample Sign-Test\n",
       "\n",
       "data:  x\n",
       "s = 6, p-value = 0.3036\n",
       "alternative hypothesis: true median is less than 15\n",
       "95 percent confidence interval:\n",
       "     -Inf 16.34337\n",
       "sample estimates:\n",
       "median of x \n",
       "       10.7 \n",
       "\n",
       "Achieved and Interpolated Confidence Intervals: \n",
       "\n",
       "                  Conf.Level L.E.pt  U.E.pt\n",
       "Lower Achieved CI     0.9408   -Inf 15.9000\n",
       "Interpolated CI       0.9500   -Inf 16.3434\n",
       "Upper Achieved CI     0.9824   -Inf 17.9000\n"
      ]
     },
     "metadata": {},
     "output_type": "display_data"
    }
   ],
   "source": [
    "#install.packages(\"BSDA\")\n",
    "library(BSDA)\n",
    "sign_test <- SIGN.test(x, alternative = \"less\", md=15, conf.level=0.95)\n",
    "sign_test"
   ]
  },
  {
   "cell_type": "markdown",
   "metadata": {},
   "source": [
    "#### Showing no statistical significance to the doctors claim. To continue with the question, a wilcoxon signed rank test is a method we could use, though once again based on median, based on ranking:"
   ]
  },
  {
   "cell_type": "code",
   "execution_count": 8,
   "metadata": {},
   "outputs": [
    {
     "data": {
      "text/plain": [
       "\n",
       "\tWilcoxon signed rank test\n",
       "\n",
       "data:  x\n",
       "V = 27, p-value = 0.03186\n",
       "alternative hypothesis: true location is less than 15\n"
      ]
     },
     "metadata": {},
     "output_type": "display_data"
    }
   ],
   "source": [
    "wilcox_test <- wilcox.test(x, alternative = \"less\", mu=15)\n",
    "wilcox_test"
   ]
  },
  {
   "cell_type": "markdown",
   "metadata": {},
   "source": [
    "#### This test shows near identical results to the t.test"
   ]
  },
  {
   "cell_type": "markdown",
   "metadata": {},
   "source": [
    "## 1C"
   ]
  },
  {
   "cell_type": "markdown",
   "metadata": {},
   "source": [
    "![picture 1](../images/66a30491b9165968160a76e1c8df126ea9b6f9a0e0feeb460d1101c86d9c43e4.png)  \n"
   ]
  },
  {
   "cell_type": "markdown",
   "metadata": {},
   "source": [
    "#### The power of a test can be calculated using the critical value for the test"
   ]
  },
  {
   "cell_type": "code",
   "execution_count": 10,
   "metadata": {},
   "outputs": [
    {
     "name": "stderr",
     "output_type": "stream",
     "text": [
      "Warning message:\n",
      "\"package 'pwr' was built under R version 3.6.3\""
     ]
    }
   ],
   "source": [
    "library(pwr)\n",
    "effect_size = cohen.ES(test = \"t\", size = \"medium\")$effect.size"
   ]
  },
  {
   "cell_type": "code",
   "execution_count": 11,
   "metadata": {},
   "outputs": [
    {
     "data": {
      "text/plain": [
       "\n",
       "     One-sample t test power calculation \n",
       "\n",
       "              n = 15\n",
       "              d = 0.2493245\n",
       "      sig.level = 0.05\n",
       "          power = 0.2340437\n",
       "    alternative = greater\n"
      ]
     },
     "metadata": {},
     "output_type": "display_data"
    },
    {
     "data": {
      "text/plain": [
       "\n",
       "     One-sample t test power calculation \n",
       "\n",
       "              n = 15\n",
       "              d = 0.3787318\n",
       "      sig.level = 0.05\n",
       "          power = 0.4016244\n",
       "    alternative = greater\n"
      ]
     },
     "metadata": {},
     "output_type": "display_data"
    }
   ],
   "source": [
    "# Source: https://cran.r-project.org/web/packages/pwr/vignettes/pwr-vignette.html\n",
    "\n",
    "#install.packages(\"pwr\")\n",
    "\n",
    "d_13 <- (13-mean(x))/sd(x)\n",
    "d_14 <- (14-mean(x))/sd(x)\n",
    "\n",
    "pwr_13 <- pwr.t.test(n=length(x), d=d_13, sig.level=0.05, type=\"one.sample\", alternative=\"greater\")\n",
    "pwr_14 <- pwr.t.test(n=length(x), d=d_14, sig.level=0.05, type=\"one.sample\", alternative=\"greater\")\n",
    "\n",
    "pwr_13\n",
    "pwr_14"
   ]
  },
  {
   "cell_type": "markdown",
   "metadata": {},
   "source": [
    "#### Power of the sign test at 13 and 14:"
   ]
  },
  {
   "cell_type": "code",
   "execution_count": null,
   "metadata": {},
   "outputs": [],
   "source": [
    "sign_13 <- SIGN.test(x, md = 13)\n",
    "sign_14 <- SIGN.test(x, md = 14)\n",
    "1 - sign_13$p.value; 1- sign_14$p.value"
   ]
  },
  {
   "cell_type": "markdown",
   "metadata": {},
   "source": [
    "#### So for the sign test it clearly makes no difference, but as expected the t.test gains power when the given mean deviates more from the true mean (13 < 14)"
   ]
  },
  {
   "cell_type": "markdown",
   "metadata": {},
   "source": [
    "## 1D"
   ]
  },
  {
   "cell_type": "markdown",
   "metadata": {},
   "source": [
    "![picture 2](../images/759c991387611583fb41af3aa91f39fb9175175df5e516510cdef47182455fda.png)  \n"
   ]
  },
  {
   "cell_type": "markdown",
   "metadata": {},
   "source": [
    "#### "
   ]
  }
 ],
 "metadata": {
  "interpreter": {
   "hash": "fcd74ca6de8b0cef01546b97488633c36ca07830b7936ac2d49e46ad1b704c42"
  },
  "kernelspec": {
   "display_name": "R",
   "language": "R",
   "name": "ir"
  },
  "language_info": {
   "codemirror_mode": "r",
   "file_extension": ".r",
   "mimetype": "text/x-r-source",
   "name": "R",
   "pygments_lexer": "r",
   "version": "3.6.1"
  }
 },
 "nbformat": 4,
 "nbformat_minor": 2
}
