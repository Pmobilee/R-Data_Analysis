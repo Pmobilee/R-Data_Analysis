{
 "cells": [
  {
   "cell_type": "markdown",
   "id": "cbf59f24",
   "metadata": {},
   "source": [
    "## Exercise 4. Hemoglobin in trout"
   ]
  },
  {
   "cell_type": "markdown",
   "id": "236a04ee",
   "metadata": {},
   "source": [
    "Hemoglobin is measured (g/100 ml.) in the blood of brown trout after 35 days of treatment with four rates of sulfamerazine: the daily rates of 0, 5, 10 and 15 g of sulfamerazine per 100 pounds of fish, denoted as rates 1, 2, 3 and 4, respectively. (Beware that the levels of the factor rate are coded by numbers.) Two methods (denoted as A and B) of administering the sulfamerazine were used. The data is collected in data set hemoglobin.txt"
   ]
  },
  {
   "cell_type": "code",
   "execution_count": 1,
   "id": "36940e93",
   "metadata": {},
   "outputs": [],
   "source": [
    "fish = read.table(\"hemoglobin.txt\",header=TRUE)"
   ]
  },
  {
   "cell_type": "markdown",
   "id": "91e6cbae",
   "metadata": {},
   "source": [
    "### 4a)  Present an R-code for the randomization process to distribute 80 fishes over all combinations of levels of factors rate and method."
   ]
  },
  {
   "cell_type": "code",
   "execution_count": 2,
   "id": "0e22aa6c",
   "metadata": {},
   "outputs": [
    {
     "data": {
      "text/html": [
       "<table>\n",
       "<thead><tr><th scope=col>hemoglobin</th><th scope=col>rate</th><th scope=col>method</th></tr></thead>\n",
       "<tbody>\n",
       "\t<tr><td>6.7</td><td>1  </td><td>A  </td></tr>\n",
       "\t<tr><td>7.0</td><td>1  </td><td>B  </td></tr>\n",
       "\t<tr><td>7.8</td><td>1  </td><td>A  </td></tr>\n",
       "\t<tr><td>7.8</td><td>1  </td><td>B  </td></tr>\n",
       "\t<tr><td>5.5</td><td>1  </td><td>A  </td></tr>\n",
       "\t<tr><td>6.8</td><td>1  </td><td>B  </td></tr>\n",
       "</tbody>\n",
       "</table>\n"
      ],
      "text/latex": [
       "\\begin{tabular}{r|lll}\n",
       " hemoglobin & rate & method\\\\\n",
       "\\hline\n",
       "\t 6.7 & 1   & A  \\\\\n",
       "\t 7.0 & 1   & B  \\\\\n",
       "\t 7.8 & 1   & A  \\\\\n",
       "\t 7.8 & 1   & B  \\\\\n",
       "\t 5.5 & 1   & A  \\\\\n",
       "\t 6.8 & 1   & B  \\\\\n",
       "\\end{tabular}\n"
      ],
      "text/markdown": [
       "\n",
       "| hemoglobin | rate | method |\n",
       "|---|---|---|\n",
       "| 6.7 | 1   | A   |\n",
       "| 7.0 | 1   | B   |\n",
       "| 7.8 | 1   | A   |\n",
       "| 7.8 | 1   | B   |\n",
       "| 5.5 | 1   | A   |\n",
       "| 6.8 | 1   | B   |\n",
       "\n"
      ],
      "text/plain": [
       "  hemoglobin rate method\n",
       "1 6.7        1    A     \n",
       "2 7.0        1    B     \n",
       "3 7.8        1    A     \n",
       "4 7.8        1    B     \n",
       "5 5.5        1    A     \n",
       "6 6.8        1    B     "
      ]
     },
     "metadata": {},
     "output_type": "display_data"
    }
   ],
   "source": [
    "head(fish)"
   ]
  },
  {
   "cell_type": "code",
   "execution_count": 17,
   "id": "985841be",
   "metadata": {},
   "outputs": [
    {
     "data": {
      "text/html": [
       "<ol class=list-inline>\n",
       "\t<li>A</li>\n",
       "\t<li>B</li>\n",
       "\t<li>A</li>\n",
       "\t<li>B</li>\n",
       "\t<li>A</li>\n",
       "\t<li>B</li>\n",
       "\t<li>A</li>\n",
       "\t<li>B</li>\n",
       "\t<li>A</li>\n",
       "\t<li>B</li>\n",
       "\t<li>A</li>\n",
       "\t<li>B</li>\n",
       "\t<li>A</li>\n",
       "\t<li>B</li>\n",
       "\t<li>A</li>\n",
       "\t<li>B</li>\n",
       "\t<li>A</li>\n",
       "\t<li>B</li>\n",
       "\t<li>A</li>\n",
       "\t<li>B</li>\n",
       "\t<li>A</li>\n",
       "\t<li>B</li>\n",
       "\t<li>A</li>\n",
       "\t<li>B</li>\n",
       "\t<li>A</li>\n",
       "\t<li>B</li>\n",
       "\t<li>A</li>\n",
       "\t<li>B</li>\n",
       "\t<li>A</li>\n",
       "\t<li>B</li>\n",
       "\t<li>A</li>\n",
       "\t<li>B</li>\n",
       "\t<li>A</li>\n",
       "\t<li>B</li>\n",
       "\t<li>A</li>\n",
       "\t<li>B</li>\n",
       "\t<li>A</li>\n",
       "\t<li>B</li>\n",
       "\t<li>A</li>\n",
       "\t<li>B</li>\n",
       "\t<li>A</li>\n",
       "\t<li>B</li>\n",
       "\t<li>A</li>\n",
       "\t<li>B</li>\n",
       "\t<li>A</li>\n",
       "\t<li>B</li>\n",
       "\t<li>A</li>\n",
       "\t<li>B</li>\n",
       "\t<li>A</li>\n",
       "\t<li>B</li>\n",
       "\t<li>A</li>\n",
       "\t<li>B</li>\n",
       "\t<li>A</li>\n",
       "\t<li>B</li>\n",
       "\t<li>A</li>\n",
       "\t<li>B</li>\n",
       "\t<li>A</li>\n",
       "\t<li>B</li>\n",
       "\t<li>A</li>\n",
       "\t<li>B</li>\n",
       "\t<li>A</li>\n",
       "\t<li>B</li>\n",
       "\t<li>A</li>\n",
       "\t<li>B</li>\n",
       "\t<li>A</li>\n",
       "\t<li>B</li>\n",
       "\t<li>A</li>\n",
       "\t<li>B</li>\n",
       "\t<li>A</li>\n",
       "\t<li>B</li>\n",
       "\t<li>A</li>\n",
       "\t<li>B</li>\n",
       "\t<li>A</li>\n",
       "\t<li>B</li>\n",
       "\t<li>A</li>\n",
       "\t<li>B</li>\n",
       "\t<li>A</li>\n",
       "\t<li>B</li>\n",
       "\t<li>A</li>\n",
       "\t<li>B</li>\n",
       "</ol>\n",
       "\n",
       "<details>\n",
       "\t<summary style=display:list-item;cursor:pointer>\n",
       "\t\t<strong>Levels</strong>:\n",
       "\t</summary>\n",
       "\t<ol class=list-inline>\n",
       "\t\t<li>'A'</li>\n",
       "\t\t<li>'B'</li>\n",
       "\t</ol>\n",
       "</details>"
      ],
      "text/latex": [
       "\\begin{enumerate*}\n",
       "\\item A\n",
       "\\item B\n",
       "\\item A\n",
       "\\item B\n",
       "\\item A\n",
       "\\item B\n",
       "\\item A\n",
       "\\item B\n",
       "\\item A\n",
       "\\item B\n",
       "\\item A\n",
       "\\item B\n",
       "\\item A\n",
       "\\item B\n",
       "\\item A\n",
       "\\item B\n",
       "\\item A\n",
       "\\item B\n",
       "\\item A\n",
       "\\item B\n",
       "\\item A\n",
       "\\item B\n",
       "\\item A\n",
       "\\item B\n",
       "\\item A\n",
       "\\item B\n",
       "\\item A\n",
       "\\item B\n",
       "\\item A\n",
       "\\item B\n",
       "\\item A\n",
       "\\item B\n",
       "\\item A\n",
       "\\item B\n",
       "\\item A\n",
       "\\item B\n",
       "\\item A\n",
       "\\item B\n",
       "\\item A\n",
       "\\item B\n",
       "\\item A\n",
       "\\item B\n",
       "\\item A\n",
       "\\item B\n",
       "\\item A\n",
       "\\item B\n",
       "\\item A\n",
       "\\item B\n",
       "\\item A\n",
       "\\item B\n",
       "\\item A\n",
       "\\item B\n",
       "\\item A\n",
       "\\item B\n",
       "\\item A\n",
       "\\item B\n",
       "\\item A\n",
       "\\item B\n",
       "\\item A\n",
       "\\item B\n",
       "\\item A\n",
       "\\item B\n",
       "\\item A\n",
       "\\item B\n",
       "\\item A\n",
       "\\item B\n",
       "\\item A\n",
       "\\item B\n",
       "\\item A\n",
       "\\item B\n",
       "\\item A\n",
       "\\item B\n",
       "\\item A\n",
       "\\item B\n",
       "\\item A\n",
       "\\item B\n",
       "\\item A\n",
       "\\item B\n",
       "\\item A\n",
       "\\item B\n",
       "\\end{enumerate*}\n",
       "\n",
       "\\emph{Levels}: \\begin{enumerate*}\n",
       "\\item 'A'\n",
       "\\item 'B'\n",
       "\\end{enumerate*}\n"
      ],
      "text/markdown": [
       "1. A\n",
       "2. B\n",
       "3. A\n",
       "4. B\n",
       "5. A\n",
       "6. B\n",
       "7. A\n",
       "8. B\n",
       "9. A\n",
       "10. B\n",
       "11. A\n",
       "12. B\n",
       "13. A\n",
       "14. B\n",
       "15. A\n",
       "16. B\n",
       "17. A\n",
       "18. B\n",
       "19. A\n",
       "20. B\n",
       "21. A\n",
       "22. B\n",
       "23. A\n",
       "24. B\n",
       "25. A\n",
       "26. B\n",
       "27. A\n",
       "28. B\n",
       "29. A\n",
       "30. B\n",
       "31. A\n",
       "32. B\n",
       "33. A\n",
       "34. B\n",
       "35. A\n",
       "36. B\n",
       "37. A\n",
       "38. B\n",
       "39. A\n",
       "40. B\n",
       "41. A\n",
       "42. B\n",
       "43. A\n",
       "44. B\n",
       "45. A\n",
       "46. B\n",
       "47. A\n",
       "48. B\n",
       "49. A\n",
       "50. B\n",
       "51. A\n",
       "52. B\n",
       "53. A\n",
       "54. B\n",
       "55. A\n",
       "56. B\n",
       "57. A\n",
       "58. B\n",
       "59. A\n",
       "60. B\n",
       "61. A\n",
       "62. B\n",
       "63. A\n",
       "64. B\n",
       "65. A\n",
       "66. B\n",
       "67. A\n",
       "68. B\n",
       "69. A\n",
       "70. B\n",
       "71. A\n",
       "72. B\n",
       "73. A\n",
       "74. B\n",
       "75. A\n",
       "76. B\n",
       "77. A\n",
       "78. B\n",
       "79. A\n",
       "80. B\n",
       "\n",
       "\n",
       "\n",
       "**Levels**: 1. 'A'\n",
       "2. 'B'\n",
       "\n",
       "\n"
      ],
      "text/plain": [
       " [1] A B A B A B A B A B A B A B A B A B A B A B A B A B A B A B A B A B A B A B\n",
       "[39] A B A B A B A B A B A B A B A B A B A B A B A B A B A B A B A B A B A B A B\n",
       "[77] A B A B\n",
       "Levels: A B"
      ]
     },
     "metadata": {},
     "output_type": "display_data"
    },
    {
     "data": {
      "text/html": [
       "<table>\n",
       "<tbody>\n",
       "\t<tr><td>1   </td><td>2.0 </td><td>1.0 </td><td>2.0 </td><td>1   </td><td>2.0 </td><td>1.0 </td><td>2.0 </td><td>1.0 </td><td>2.0 </td><td>... </td><td> 1.0</td><td> 2  </td><td> 1.0</td><td>2.0 </td><td> 1.0</td><td> 2.0</td><td>1   </td><td>2.0 </td><td>1.0 </td><td>2.0 </td></tr>\n",
       "\t<tr><td>1   </td><td>1.0 </td><td>1.0 </td><td>1.0 </td><td>1   </td><td>1.0 </td><td>1.0 </td><td>1.0 </td><td>1.0 </td><td>1.0 </td><td>... </td><td> 4.0</td><td> 4  </td><td> 4.0</td><td>4.0 </td><td> 4.0</td><td> 4.0</td><td>4   </td><td>4.0 </td><td>4.0 </td><td>4.0 </td></tr>\n",
       "\t<tr><td>7   </td><td>8.1 </td><td>7.8 </td><td>8.8 </td><td>9   </td><td>5.5 </td><td>7.8 </td><td>6.8 </td><td>9.3 </td><td>8.7 </td><td>... </td><td>10.7</td><td>11  </td><td>10.4</td><td>9.9 </td><td>10.4</td><td>11.7</td><td>8   </td><td>9.1 </td><td>8.6 </td><td>9.1 </td></tr>\n",
       "</tbody>\n",
       "</table>\n"
      ],
      "text/latex": [
       "\\begin{tabular}{llllllllllllllllllllllllllllllllllllllllllllllllllllllllllllllllllllllllllllllll}\n",
       "\t 1    & 2.0  & 1.0  & 2.0  & 1    & 2.0  & 1.0  & 2.0  & 1.0  & 2.0  & ...  &  1.0 &  2   &  1.0 & 2.0  &  1.0 &  2.0 & 1    & 2.0  & 1.0  & 2.0 \\\\\n",
       "\t 1    & 1.0  & 1.0  & 1.0  & 1    & 1.0  & 1.0  & 1.0  & 1.0  & 1.0  & ...  &  4.0 &  4   &  4.0 & 4.0  &  4.0 &  4.0 & 4    & 4.0  & 4.0  & 4.0 \\\\\n",
       "\t 7    & 8.1  & 7.8  & 8.8  & 9    & 5.5  & 7.8  & 6.8  & 9.3  & 8.7  & ...  & 10.7 & 11   & 10.4 & 9.9  & 10.4 & 11.7 & 8    & 9.1  & 8.6  & 9.1 \\\\\n",
       "\\end{tabular}\n"
      ],
      "text/markdown": [
       "\n",
       "| 1    | 2.0  | 1.0  | 2.0  | 1    | 2.0  | 1.0  | 2.0  | 1.0  | 2.0  | ...  |  1.0 |  2   |  1.0 | 2.0  |  1.0 |  2.0 | 1    | 2.0  | 1.0  | 2.0  |\n",
       "| 1    | 1.0  | 1.0  | 1.0  | 1    | 1.0  | 1.0  | 1.0  | 1.0  | 1.0  | ...  |  4.0 |  4   |  4.0 | 4.0  |  4.0 |  4.0 | 4    | 4.0  | 4.0  | 4.0  |\n",
       "| 7    | 8.1  | 7.8  | 8.8  | 9    | 5.5  | 7.8  | 6.8  | 9.3  | 8.7  | ...  | 10.7 | 11   | 10.4 | 9.9  | 10.4 | 11.7 | 8    | 9.1  | 8.6  | 9.1  |\n",
       "\n"
      ],
      "text/plain": [
       "     [,1] [,2] [,3] [,4] [,5] [,6] [,7] [,8] [,9] [,10] [,11] [,12] [,13] [,14]\n",
       "[1,] 1    2.0  1.0  2.0  1    2.0  1.0  2.0  1.0  2.0   ...    1.0   2     1.0 \n",
       "[2,] 1    1.0  1.0  1.0  1    1.0  1.0  1.0  1.0  1.0   ...    4.0   4     4.0 \n",
       "[3,] 7    8.1  7.8  8.8  9    5.5  7.8  6.8  9.3  8.7   ...   10.7  11    10.4 \n",
       "     [,15] [,16] [,17] [,18] [,19] [,20] [,21]\n",
       "[1,] 2.0    1.0   2.0  1     2.0   1.0   2.0  \n",
       "[2,] 4.0    4.0   4.0  4     4.0   4.0   4.0  \n",
       "[3,] 9.9   10.4  11.7  8     9.1   8.6   9.1  "
      ]
     },
     "metadata": {},
     "output_type": "display_data"
    }
   ],
   "source": [
    "#install.packages(\"forcats\")\n",
    "library(forcats)\n",
    "\n",
    "hemoglobin=fish$hemoglobin; rate=fish$rate; method=fish$method; \n",
    "rbind(rep(method), rep(rate), sample(hemoglobin))\n"
   ]
  },
  {
   "cell_type": "markdown",
   "id": "fa2805fc",
   "metadata": {},
   "source": [
    "### 4b) Perform the two-way ANOVA to test for effects of factors rate, method and their interaction on the response variable hemoglobin. Comment on your findings."
   ]
  },
  {
   "cell_type": "code",
   "execution_count": 5,
   "id": "6f9fb155",
   "metadata": {},
   "outputs": [
    {
     "name": "stderr",
     "output_type": "stream",
     "text": [
      "The following objects are masked _by_ .GlobalEnv:\n",
      "\n",
      "    hemoglobin, method, rate\n",
      "\n"
     ]
    },
    {
     "data": {
      "image/png": "[encoded data removed]",
      "text/plain": [
       "plot without title"
      ]
     },
     "metadata": {},
     "output_type": "display_data"
    }
   ],
   "source": [
    "par(mfrow=c(1,2))\n",
    "attach(fish)\n",
    "boxplot(hemoglobin~rate); boxplot(hemoglobin~method)"
   ]
  },
  {
   "cell_type": "code",
   "execution_count": 6,
   "id": "6c59f792",
   "metadata": {},
   "outputs": [
    {
     "data": {
      "image/png": "[encoded data removed]",
      "text/plain": [
       "plot without title"
      ]
     },
     "metadata": {},
     "output_type": "display_data"
    }
   ],
   "source": [
    "par(mfrow=c(2,1))\n",
    "interaction.plot(method, rate, hemoglobin); interaction.plot(rate, method, hemoglobin)"
   ]
  },
  {
   "cell_type": "markdown",
   "id": "1696960d",
   "metadata": {},
   "source": [
    "Since rate is defined as a numerical variable it has to be converted to a factor variable"
   ]
  },
  {
   "cell_type": "code",
   "execution_count": 7,
   "id": "10c69612",
   "metadata": {},
   "outputs": [],
   "source": [
    "fish$rate = factor(fish$rate, \n",
    "                    levels = c(1,2,3,4),\n",
    "                    labels = c('Rate1', 'Rate2', 'Rate3', 'Rate4'))"
   ]
  },
  {
   "cell_type": "markdown",
   "id": "ab716b66",
   "metadata": {},
   "source": [
    "We assume that factors rate and method are independent for the first test"
   ]
  },
  {
   "cell_type": "code",
   "execution_count": 8,
   "id": "4fc49567",
   "metadata": {},
   "outputs": [
    {
     "data": {
      "text/plain": [
       "            Df Sum Sq Mean Sq F value  Pr(>F)    \n",
       "method       1   2.42   2.415   1.558   0.216    \n",
       "rate         3  90.56  30.187  19.469 2.4e-09 ***\n",
       "method:rate  3   4.87   1.624   1.047   0.377    \n",
       "Residuals   72 111.64   1.551                    \n",
       "---\n",
       "Signif. codes:  0 '***' 0.001 '**' 0.01 '*' 0.05 '.' 0.1 ' ' 1"
      ]
     },
     "metadata": {},
     "output_type": "display_data"
    }
   ],
   "source": [
    "res.aov_dep = aov(hemoglobin ~ method * rate, data = fish)\n",
    "summary(res.aov_dep)"
   ]
  },
  {
   "cell_type": "markdown",
   "id": "1f66e41d",
   "metadata": {},
   "source": [
    "From this test, we can conclude that the interaction of the method on the hemoglobin is not significant, but that the rate is significant on the amount of hemoglobin in the trout. This is based on the significance level α=0.05. Since the null hypothesis can be rejected based on this test, there is no need to test for the effects under the additive model."
   ]
  },
  {
   "cell_type": "code",
   "execution_count": 9,
   "id": "79b6b3e1",
   "metadata": {},
   "outputs": [
    {
     "data": {
      "image/png": "[encoded data removed]",
      "text/plain": [
       "Plot with title \"Normal Q-Q Plot\""
      ]
     },
     "metadata": {},
     "output_type": "display_data"
    }
   ],
   "source": [
    "par(mfrow=c(1,2)); qqnorm(residuals(res.aov_dep)); qqline(residuals(res.aov_dep), col = 'red')\n",
    "plot(fitted(res.aov_dep), residuals(res.aov_dep)); "
   ]
  },
  {
   "cell_type": "markdown",
   "id": "66867ce1",
   "metadata": {},
   "source": [
    "The normality of the left plot is clear, while the right plot seems to have a larger concentration and spread when the fitted values get above 9."
   ]
  },
  {
   "cell_type": "markdown",
   "id": "7d979152",
   "metadata": {},
   "source": [
    "### 4c) Which of the two factors has the greatest influence? Is this a good question? Consider the additive model. Which combination of rate and method yield the highest hemoglobin? Estimate the mean hemoglobin value for rate 3 by using method A. What rate leads to the highest mean hemoglobin?"
   ]
  },
  {
   "cell_type": "code",
   "execution_count": 10,
   "id": "7cf7a698",
   "metadata": {},
   "outputs": [
    {
     "data": {
      "text/plain": [
       "            Df Sum Sq Mean Sq F value   Pr(>F)    \n",
       "method       1   2.42   2.415   1.555    0.216    \n",
       "rate         3  90.56  30.187  19.432 2.02e-09 ***\n",
       "Residuals   75 116.51   1.553                     \n",
       "---\n",
       "Signif. codes:  0 '***' 0.001 '**' 0.01 '*' 0.05 '.' 0.1 ' ' 1"
      ]
     },
     "metadata": {},
     "output_type": "display_data"
    }
   ],
   "source": [
    "res.aov_ind = aov(hemoglobin ~ method + rate, data = fish)\n",
    "summary(res.aov_ind)"
   ]
  },
  {
   "cell_type": "markdown",
   "id": "74591424",
   "metadata": {},
   "source": [
    "To first address which of the factors has the greatest influence, since the interaction of rate on the hemoglobin values is the only factor that has a significant interaction with the hemoglobin we can conclude that the rate has the greatest influence.\n",
    "\n",
    "This is also the case in the additive model seen above, where the method doesn't have a significant influence on the amount of hemoglobin.\n",
    "\n",
    "#### good question??"
   ]
  },
  {
   "cell_type": "code",
   "execution_count": 11,
   "id": "f476c26d",
   "metadata": {},
   "outputs": [
    {
     "data": {
      "text/html": [
       "<table>\n",
       "<thead><tr><th></th><th scope=col>hemoglobin</th><th scope=col>rate</th><th scope=col>method</th></tr></thead>\n",
       "<tbody>\n",
       "\t<tr><th scope=row>31</th><td>11.9 </td><td>Rate2</td><td>A    </td></tr>\n",
       "</tbody>\n",
       "</table>\n"
      ],
      "text/latex": [
       "\\begin{tabular}{r|lll}\n",
       "  & hemoglobin & rate & method\\\\\n",
       "\\hline\n",
       "\t31 & 11.9  & Rate2 & A    \\\\\n",
       "\\end{tabular}\n"
      ],
      "text/markdown": [
       "\n",
       "| <!--/--> | hemoglobin | rate | method |\n",
       "|---|---|---|---|\n",
       "| 31 | 11.9  | Rate2 | A     |\n",
       "\n"
      ],
      "text/plain": [
       "   hemoglobin rate  method\n",
       "31 11.9       Rate2 A     "
      ]
     },
     "metadata": {},
     "output_type": "display_data"
    }
   ],
   "source": [
    "fish[which.max(fish$hemoglobin),]"
   ]
  },
  {
   "cell_type": "code",
   "execution_count": 12,
   "id": "318fe43f",
   "metadata": {},
   "outputs": [
    {
     "data": {
      "text/html": [
       "9.03"
      ],
      "text/latex": [
       "9.03"
      ],
      "text/markdown": [
       "9.03"
      ],
      "text/plain": [
       "[1] 9.03"
      ]
     },
     "metadata": {},
     "output_type": "display_data"
    }
   ],
   "source": [
    "rate3_method_a = fish[fish$rate == 'Rate3' & fish$method == 'A', ]; mean(rate3_method_a$hemoglobin)"
   ]
  },
  {
   "cell_type": "code",
   "execution_count": 13,
   "id": "fc8645fc",
   "metadata": {},
   "outputs": [
    {
     "data": {
      "text/html": [
       "6.975"
      ],
      "text/latex": [
       "6.975"
      ],
      "text/markdown": [
       "6.975"
      ],
      "text/plain": [
       "[1] 6.975"
      ]
     },
     "metadata": {},
     "output_type": "display_data"
    },
    {
     "data": {
      "text/html": [
       "9.735"
      ],
      "text/latex": [
       "9.735"
      ],
      "text/markdown": [
       "9.735"
      ],
      "text/plain": [
       "[1] 9.735"
      ]
     },
     "metadata": {},
     "output_type": "display_data"
    },
    {
     "data": {
      "text/html": [
       "9.38"
      ],
      "text/latex": [
       "9.38"
      ],
      "text/markdown": [
       "9.38"
      ],
      "text/plain": [
       "[1] 9.38"
      ]
     },
     "metadata": {},
     "output_type": "display_data"
    },
    {
     "data": {
      "text/html": [
       "8.855"
      ],
      "text/latex": [
       "8.855"
      ],
      "text/markdown": [
       "8.855"
      ],
      "text/plain": [
       "[1] 8.855"
      ]
     },
     "metadata": {},
     "output_type": "display_data"
    }
   ],
   "source": [
    "mean(fish[fish$rate == 'Rate1', ]$hemoglobin); \n",
    "mean(fish[fish$rate == 'Rate2', ]$hemoglobin); \n",
    "mean(fish[fish$rate == 'Rate3', ]$hemoglobin); \n",
    "mean(fish[fish$rate == 'Rate4', ]$hemoglobin)"
   ]
  },
  {
   "cell_type": "markdown",
   "id": "62d89194",
   "metadata": {},
   "source": [
    "By using Rate 2 and method A, the highest hemoglobin count can be achieved at 11.9. The mean hemoglobin value for rate 3 using method A is 9.03 and the highest mean hemoglobin can be achieved using Rate 2, at a value of 9.735."
   ]
  },
  {
   "cell_type": "markdown",
   "id": "69961811",
   "metadata": {},
   "source": [
    "### 4d) Test the null hypothesis that the hemoglobin is the same for all rates by a one-way ANOVA test, ignoring the variable method. Is it right/wrong or useful/not useful to perform this test on this dataset?"
   ]
  },
  {
   "cell_type": "code",
   "execution_count": 14,
   "id": "71166b59",
   "metadata": {},
   "outputs": [],
   "source": [
    "fish_no_method = subset(fish, select=c(hemoglobin, rate))"
   ]
  },
  {
   "cell_type": "code",
   "execution_count": 15,
   "id": "6d0e0465",
   "metadata": {},
   "outputs": [
    {
     "data": {
      "text/html": [
       "<table>\n",
       "<thead><tr><th></th><th scope=col>Df</th><th scope=col>Sum Sq</th><th scope=col>Mean Sq</th><th scope=col>F value</th><th scope=col>Pr(&gt;F)</th></tr></thead>\n",
       "<tbody>\n",
       "\t<tr><th scope=row>rate</th><td> 3          </td><td> 90.56038   </td><td>30.186792   </td><td>19.2912     </td><td>2.128803e-09</td></tr>\n",
       "\t<tr><th scope=row>Residuals</th><td>76          </td><td>118.92450   </td><td> 1.564796   </td><td>     NA     </td><td>          NA</td></tr>\n",
       "</tbody>\n",
       "</table>\n"
      ],
      "text/latex": [
       "\\begin{tabular}{r|lllll}\n",
       "  & Df & Sum Sq & Mean Sq & F value & Pr(>F)\\\\\n",
       "\\hline\n",
       "\trate &  3           &  90.56038    & 30.186792    & 19.2912      & 2.128803e-09\\\\\n",
       "\tResiduals & 76           & 118.92450    &  1.564796    &      NA      &           NA\\\\\n",
       "\\end{tabular}\n"
      ],
      "text/markdown": [
       "\n",
       "| <!--/--> | Df | Sum Sq | Mean Sq | F value | Pr(>F) |\n",
       "|---|---|---|---|---|---|\n",
       "| rate |  3           |  90.56038    | 30.186792    | 19.2912      | 2.128803e-09 |\n",
       "| Residuals | 76           | 118.92450    |  1.564796    |      NA      |           NA |\n",
       "\n"
      ],
      "text/plain": [
       "          Df Sum Sq    Mean Sq   F value Pr(>F)      \n",
       "rate       3  90.56038 30.186792 19.2912 2.128803e-09\n",
       "Residuals 76 118.92450  1.564796      NA           NA"
      ]
     },
     "metadata": {},
     "output_type": "display_data"
    }
   ],
   "source": [
    "fish_no_methodaov=lm(hemoglobin~rate, data=fish_no_method);\n",
    "anova(fish_no_methodaov)"
   ]
  },
  {
   "cell_type": "markdown",
   "id": "9fc9ed39",
   "metadata": {},
   "source": [
    "Since the p-value is below 0.05, we can reject the null hypothesis, stating that hemoglobin is the same for all rates."
   ]
  },
  {
   "cell_type": "code",
   "execution_count": 16,
   "id": "f37d9d46",
   "metadata": {},
   "outputs": [
    {
     "data": {
      "image/png": "[encoded data removed]",
      "text/plain": [
       "Plot with title \"Normal Q-Q Plot\""
      ]
     },
     "metadata": {},
     "output_type": "display_data"
    }
   ],
   "source": [
    "par(mfrow=c(1,2)); qqnorm(residuals(fish_no_methodaov)); qqline(residuals(fish_no_methodaov), col = 'red')\n",
    "plot(fitted(fish_no_methodaov), residuals(fish_no_methodaov)); "
   ]
  },
  {
   "cell_type": "markdown",
   "id": "6b7a77b0",
   "metadata": {},
   "source": [
    "The qqplot shows normality, however, the value seen in the right plot has a heavy skew towards the right, implying non-normality"
   ]
  },
  {
   "cell_type": "markdown",
   "id": "f1023654",
   "metadata": {},
   "source": [
    "While the influence of method on hemoglobin was deemed insignificant, the little effect it might have had is now added onto the rates, this makes it somewhat of a wrong way to go about testing significance. However, it can be useful to have a more isolated view of the influence of the rates."
   ]
  }
 ],
 "metadata": {
  "kernelspec": {
   "display_name": "R",
   "language": "R",
   "name": "ir"
  },
  "language_info": {
   "codemirror_mode": "r",
   "file_extension": ".r",
   "mimetype": "text/x-r-source",
   "name": "R",
   "pygments_lexer": "r",
   "version": "3.6.1"
  }
 },
 "nbformat": 4,
 "nbformat_minor": 5
}
