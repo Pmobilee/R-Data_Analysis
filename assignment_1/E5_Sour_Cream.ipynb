{
 "cells": [
  {
   "cell_type": "markdown",
   "id": "cbf59f24",
   "metadata": {},
   "source": [
    "## Exercise 5. Sour cream"
   ]
  },
  {
   "cell_type": "markdown",
   "id": "c7694278",
   "metadata": {},
   "source": [
    "The file cream.txt contains data on an experiment to produce sour cream. Yogurt was placed in sweet cream, and yogurt bacteria were allowed to develop. Bacteria produce lactic acid, and as a surrogate for the number of yogurt bacteria, the acidity of the cream was measured. Interest was in the effect of the type of yogurt (denoted as starter) on acidity. The mixtures of yogurt and sweet cream were kept at constant temperature in a yogurt maker, in which five different positions could be used. The experiment was carried out with five batches of sweet cream, which were meant to have the same composition. With each batch each of five types of starter was used, with the yogurt placed in one of the five positions. The combinations of levels of three factors form a three-dimensional latin square. (You may need to install the R-package lme4, which is not included in the standard distribution of R.)"
   ]
  },
  {
   "cell_type": "code",
   "execution_count": 24,
   "id": "10f3dc94",
   "metadata": {},
   "outputs": [
    {
     "ename": "ERROR",
     "evalue": "Error in library(\"devtools\"): there is no package called 'devtools'\n",
     "output_type": "error",
     "traceback": [
      "Error in library(\"devtools\"): there is no package called 'devtools'\nTraceback:\n",
      "1. library(\"devtools\")"
     ]
    },
    {
     "ename": "ERROR",
     "evalue": "Error in install_github(\"lme4\", user = \"lme4\"): could not find function \"install_github\"\n",
     "output_type": "error",
     "traceback": [
      "Error in install_github(\"lme4\", user = \"lme4\"): could not find function \"install_github\"\nTraceback:\n"
     ]
    }
   ],
   "source": [
    "library(\"devtools\"); install_github(\"lme4\",user=\"lme4\")"
   ]
  },
  {
   "cell_type": "code",
   "execution_count": 2,
   "id": "75a5f7b8",
   "metadata": {},
   "outputs": [
    {
     "data": {
      "text/html": [
       "<table>\n",
       "<thead><tr><th scope=col>acidity</th><th scope=col>batch</th><th scope=col>position</th><th scope=col>starter</th></tr></thead>\n",
       "<tbody>\n",
       "\t<tr><td> 8.04</td><td>1    </td><td>1    </td><td>3    </td></tr>\n",
       "\t<tr><td> 6.61</td><td>1    </td><td>2    </td><td>2    </td></tr>\n",
       "\t<tr><td>11.99</td><td>1    </td><td>3    </td><td>4    </td></tr>\n",
       "\t<tr><td> 7.78</td><td>1    </td><td>4    </td><td>5    </td></tr>\n",
       "\t<tr><td> 8.40</td><td>1    </td><td>5    </td><td>1    </td></tr>\n",
       "\t<tr><td> 9.58</td><td>2    </td><td>1    </td><td>4    </td></tr>\n",
       "</tbody>\n",
       "</table>\n"
      ],
      "text/latex": [
       "\\begin{tabular}{r|llll}\n",
       " acidity & batch & position & starter\\\\\n",
       "\\hline\n",
       "\t  8.04 & 1     & 1     & 3    \\\\\n",
       "\t  6.61 & 1     & 2     & 2    \\\\\n",
       "\t 11.99 & 1     & 3     & 4    \\\\\n",
       "\t  7.78 & 1     & 4     & 5    \\\\\n",
       "\t  8.40 & 1     & 5     & 1    \\\\\n",
       "\t  9.58 & 2     & 1     & 4    \\\\\n",
       "\\end{tabular}\n"
      ],
      "text/markdown": [
       "\n",
       "| acidity | batch | position | starter |\n",
       "|---|---|---|---|\n",
       "|  8.04 | 1     | 1     | 3     |\n",
       "|  6.61 | 1     | 2     | 2     |\n",
       "| 11.99 | 1     | 3     | 4     |\n",
       "|  7.78 | 1     | 4     | 5     |\n",
       "|  8.40 | 1     | 5     | 1     |\n",
       "|  9.58 | 2     | 1     | 4     |\n",
       "\n"
      ],
      "text/plain": [
       "  acidity batch position starter\n",
       "1  8.04   1     1        3      \n",
       "2  6.61   1     2        2      \n",
       "3 11.99   1     3        4      \n",
       "4  7.78   1     4        5      \n",
       "5  8.40   1     5        1      \n",
       "6  9.58   2     1        4      "
      ]
     },
     "metadata": {},
     "output_type": "display_data"
    }
   ],
   "source": [
    "cream = read.table(\"cream.txt\", header=TRUE)\n",
    "head(cream)"
   ]
  },
  {
   "cell_type": "markdown",
   "id": "b1c7f9f3",
   "metadata": {},
   "source": [
    "### 5a) Analyze the data in a three-way experiment without interactions with acidity as response and starter, batch and position as factors. By using summary command, can you tell whether there is a significant difference between the effects of starter 1 and starter 2 on acidity?"
   ]
  },
  {
   "cell_type": "code",
   "execution_count": 3,
   "id": "553584e4",
   "metadata": {},
   "outputs": [],
   "source": [
    "cream$batch = as.factor(cream$batch); cream$position = as.factor(cream$position); cream$starter = as.factor(cream$starter)"
   ]
  },
  {
   "cell_type": "code",
   "execution_count": 4,
   "id": "2cc4ef92",
   "metadata": {},
   "outputs": [
    {
     "data": {
      "text/html": [
       "<table>\n",
       "<thead><tr><th></th><th scope=col>Df</th><th scope=col>Sum Sq</th><th scope=col>Mean Sq</th><th scope=col>F value</th><th scope=col>Pr(&gt;F)</th></tr></thead>\n",
       "<tbody>\n",
       "\t<tr><th scope=row>batch</th><td> 4          </td><td>18.777504   </td><td> 4.6943760  </td><td> 8.597454   </td><td>1.632238e-03</td></tr>\n",
       "\t<tr><th scope=row>position</th><td> 4          </td><td> 2.347944   </td><td> 0.5869860  </td><td> 1.075028   </td><td>4.111910e-01</td></tr>\n",
       "\t<tr><th scope=row>starter</th><td> 4          </td><td>44.135864   </td><td>11.0339660  </td><td>20.208013   </td><td>2.904007e-05</td></tr>\n",
       "\t<tr><th scope=row>Residuals</th><td>12          </td><td> 6.552232   </td><td> 0.5460193  </td><td>       NA   </td><td>          NA</td></tr>\n",
       "</tbody>\n",
       "</table>\n"
      ],
      "text/latex": [
       "\\begin{tabular}{r|lllll}\n",
       "  & Df & Sum Sq & Mean Sq & F value & Pr(>F)\\\\\n",
       "\\hline\n",
       "\tbatch &  4           & 18.777504    &  4.6943760   &  8.597454    & 1.632238e-03\\\\\n",
       "\tposition &  4           &  2.347944    &  0.5869860   &  1.075028    & 4.111910e-01\\\\\n",
       "\tstarter &  4           & 44.135864    & 11.0339660   & 20.208013    & 2.904007e-05\\\\\n",
       "\tResiduals & 12           &  6.552232    &  0.5460193   &        NA    &           NA\\\\\n",
       "\\end{tabular}\n"
      ],
      "text/markdown": [
       "\n",
       "| <!--/--> | Df | Sum Sq | Mean Sq | F value | Pr(>F) |\n",
       "|---|---|---|---|---|---|\n",
       "| batch |  4           | 18.777504    |  4.6943760   |  8.597454    | 1.632238e-03 |\n",
       "| position |  4           |  2.347944    |  0.5869860   |  1.075028    | 4.111910e-01 |\n",
       "| starter |  4           | 44.135864    | 11.0339660   | 20.208013    | 2.904007e-05 |\n",
       "| Residuals | 12           |  6.552232    |  0.5460193   |        NA    |           NA |\n",
       "\n"
      ],
      "text/plain": [
       "          Df Sum Sq    Mean Sq    F value   Pr(>F)      \n",
       "batch      4 18.777504  4.6943760  8.597454 1.632238e-03\n",
       "position   4  2.347944  0.5869860  1.075028 4.111910e-01\n",
       "starter    4 44.135864 11.0339660 20.208013 2.904007e-05\n",
       "Residuals 12  6.552232  0.5460193        NA           NA"
      ]
     },
     "metadata": {},
     "output_type": "display_data"
    }
   ],
   "source": [
    "cream_aov=lm(acidity~batch+position+starter,data=cream); anova(cream_aov)"
   ]
  },
  {
   "cell_type": "markdown",
   "id": "990a4e20",
   "metadata": {},
   "source": [
    "In order to be able to use the results of this three-way ANOVA, the normality of the residuals has to be tested"
   ]
  },
  {
   "cell_type": "code",
   "execution_count": 5,
   "id": "557feed6",
   "metadata": {},
   "outputs": [
    {
     "data": {
      "image/png": "[encoded data removed]",
      "text/plain": [
       "Plot with title \"Normal Q-Q Plot\""
      ]
     },
     "metadata": {},
     "output_type": "display_data"
    }
   ],
   "source": [
    "par(mfrow=c(1,2)); qqnorm(residuals(cream_aov)); qqline(residuals(cream_aov), col = 'red')\n",
    "plot(fitted(cream_aov), residuals(cream_aov)); "
   ]
  },
  {
   "cell_type": "markdown",
   "id": "1712f48b",
   "metadata": {},
   "source": [
    "The left plot strongly implies normality while the right plot shows larger spread for fitted values in the middle with some extreme data points"
   ]
  },
  {
   "cell_type": "code",
   "execution_count": 6,
   "id": "f764694b",
   "metadata": {},
   "outputs": [
    {
     "data": {
      "text/plain": [
       "\n",
       "Call:\n",
       "lm(formula = acidity ~ batch + position + starter, data = cream)\n",
       "\n",
       "Residuals:\n",
       "    Min      1Q  Median      3Q     Max \n",
       "-1.2836 -0.2336  0.0384  0.3584  1.0204 \n",
       "\n",
       "Coefficients:\n",
       "            Estimate Std. Error t value Pr(>|t|)    \n",
       "(Intercept)   8.6616     0.5329  16.255 1.55e-09 ***\n",
       "batch2       -1.3480     0.4673  -2.884   0.0137 *  \n",
       "batch3        0.2760     0.4673   0.591   0.5658    \n",
       "batch4        1.3680     0.4673   2.927   0.0127 *  \n",
       "batch5        0.2000     0.4673   0.428   0.6763    \n",
       "position2    -0.6180     0.4673  -1.322   0.2107    \n",
       "position3    -0.0380     0.4673  -0.081   0.9365    \n",
       "position4    -0.7640     0.4673  -1.635   0.1280    \n",
       "position5    -0.2640     0.4673  -0.565   0.5825    \n",
       "starter2     -0.1500     0.4673  -0.321   0.7538    \n",
       "starter3     -0.9800     0.4673  -2.097   0.0579 .  \n",
       "starter4      2.8100     0.4673   6.013 6.10e-05 ***\n",
       "starter5     -0.4840     0.4673  -1.036   0.3208    \n",
       "---\n",
       "Signif. codes:  0 '***' 0.001 '**' 0.01 '*' 0.05 '.' 0.1 ' ' 1\n",
       "\n",
       "Residual standard error: 0.7389 on 12 degrees of freedom\n",
       "Multiple R-squared:  0.9088,\tAdjusted R-squared:  0.8175 \n",
       "F-statistic:  9.96 on 12 and 12 DF,  p-value: 0.0001777\n"
      ]
     },
     "metadata": {},
     "output_type": "display_data"
    }
   ],
   "source": [
    "summary(cream_aov)"
   ]
  },
  {
   "cell_type": "markdown",
   "id": "c8603eeb",
   "metadata": {},
   "source": [
    "Yes, the difference between starter 1 and starter 2 is estimated to be 0.15, this is larger than 0.05, meaning that there is a significant difference between the two."
   ]
  },
  {
   "cell_type": "markdown",
   "id": "28fbb9d5",
   "metadata": {},
   "source": [
    "### 5b) Recall that the main interest is in the effect of starter on the acidity; factors positions and batches represent the block variables. Remove insignificant block variable(s) if there are such, and perform an ANOVA for the resulting “fixed effects” model. Which starter(s) lead to significantly different acidity?"
   ]
  },
  {
   "cell_type": "markdown",
   "id": "0297c164",
   "metadata": {},
   "source": [
    "As we know from 5a), the variable position is not significant. Therefore we can perform ANOVA by dropping it"
   ]
  },
  {
   "cell_type": "code",
   "execution_count": 18,
   "id": "01e39d7b",
   "metadata": {},
   "outputs": [
    {
     "data": {
      "text/html": [
       "<table>\n",
       "<thead><tr><th></th><th scope=col>Df</th><th scope=col>Sum Sq</th><th scope=col>Mean Sq</th><th scope=col>F value</th><th scope=col>Pr(&gt;F)</th></tr></thead>\n",
       "<tbody>\n",
       "\t<tr><th scope=row>starter</th><td> 4          </td><td>44.135864   </td><td>11.033966   </td><td>19.835951   </td><td>4.816222e-06</td></tr>\n",
       "\t<tr><th scope=row>batch</th><td> 4          </td><td>18.777504   </td><td> 4.694376   </td><td> 8.439161   </td><td>7.348386e-04</td></tr>\n",
       "\t<tr><th scope=row>Residuals</th><td>16          </td><td> 8.900176   </td><td> 0.556261   </td><td>       NA   </td><td>          NA</td></tr>\n",
       "</tbody>\n",
       "</table>\n"
      ],
      "text/latex": [
       "\\begin{tabular}{r|lllll}\n",
       "  & Df & Sum Sq & Mean Sq & F value & Pr(>F)\\\\\n",
       "\\hline\n",
       "\tstarter &  4           & 44.135864    & 11.033966    & 19.835951    & 4.816222e-06\\\\\n",
       "\tbatch &  4           & 18.777504    &  4.694376    &  8.439161    & 7.348386e-04\\\\\n",
       "\tResiduals & 16           &  8.900176    &  0.556261    &        NA    &           NA\\\\\n",
       "\\end{tabular}\n"
      ],
      "text/markdown": [
       "\n",
       "| <!--/--> | Df | Sum Sq | Mean Sq | F value | Pr(>F) |\n",
       "|---|---|---|---|---|---|\n",
       "| starter |  4           | 44.135864    | 11.033966    | 19.835951    | 4.816222e-06 |\n",
       "| batch |  4           | 18.777504    |  4.694376    |  8.439161    | 7.348386e-04 |\n",
       "| Residuals | 16           |  8.900176    |  0.556261    |        NA    |           NA |\n",
       "\n"
      ],
      "text/plain": [
       "          Df Sum Sq    Mean Sq   F value   Pr(>F)      \n",
       "starter    4 44.135864 11.033966 19.835951 4.816222e-06\n",
       "batch      4 18.777504  4.694376  8.439161 7.348386e-04\n",
       "Residuals 16  8.900176  0.556261        NA           NA"
      ]
     },
     "metadata": {},
     "output_type": "display_data"
    }
   ],
   "source": [
    "sig_cream = lm(acidity~starter+batch,data=cream); anova(sig_cream)"
   ]
  },
  {
   "cell_type": "code",
   "execution_count": 19,
   "id": "6a600cc8",
   "metadata": {},
   "outputs": [
    {
     "data": {
      "text/plain": [
       "\n",
       "Call:\n",
       "lm(formula = acidity ~ starter + batch, data = cream)\n",
       "\n",
       "Residuals:\n",
       "    Min      1Q  Median      3Q     Max \n",
       "-1.5648 -0.2548 -0.0548  0.3592  1.1352 \n",
       "\n",
       "Coefficients:\n",
       "            Estimate Std. Error t value Pr(>|t|)    \n",
       "(Intercept)   8.3248     0.4475  18.603 2.91e-12 ***\n",
       "starter2     -0.1500     0.4717  -0.318   0.7546    \n",
       "starter3     -0.9800     0.4717  -2.078   0.0542 .  \n",
       "starter4      2.8100     0.4717   5.957 2.01e-05 ***\n",
       "starter5     -0.4840     0.4717  -1.026   0.3201    \n",
       "batch2       -1.3480     0.4717  -2.858   0.0114 *  \n",
       "batch3        0.2760     0.4717   0.585   0.5666    \n",
       "batch4        1.3680     0.4717   2.900   0.0104 *  \n",
       "batch5        0.2000     0.4717   0.424   0.6772    \n",
       "---\n",
       "Signif. codes:  0 '***' 0.001 '**' 0.01 '*' 0.05 '.' 0.1 ' ' 1\n",
       "\n",
       "Residual standard error: 0.7458 on 16 degrees of freedom\n",
       "Multiple R-squared:  0.8761,\tAdjusted R-squared:  0.8141 \n",
       "F-statistic: 14.14 on 8 and 16 DF,  p-value: 6.474e-06\n"
      ]
     },
     "metadata": {},
     "output_type": "display_data"
    }
   ],
   "source": [
    "summary(sig_cream)"
   ]
  },
  {
   "cell_type": "markdown",
   "id": "9fd8a3fc",
   "metadata": {},
   "source": [
    "When looking at the summary, it becomes clear that only starter 4 has a significant effect on the acidity, starter 3 is almost significant but not quite and the rest of the starters do not come close to having a significant impact."
   ]
  },
  {
   "cell_type": "markdown",
   "id": "c13206fd",
   "metadata": {},
   "source": [
    "### 5c) For the model from 5b), can we also apply the Friedman test to test whether there is an effect of starter on acidity? Motivate your answer."
   ]
  },
  {
   "cell_type": "markdown",
   "id": "58b6a4ef",
   "metadata": {},
   "source": []
  },
  {
   "cell_type": "markdown",
   "id": "a9e1186f",
   "metadata": {},
   "source": [
    "### 5d) Repeat 5b) by performing a mixed effects analysis, modeling the block variable(s) (if there are any) as a random effect by using the function lmer. Compare your results to the results found by using the fixed effects model in 5b)."
   ]
  },
  {
   "cell_type": "code",
   "execution_count": 22,
   "id": "ae2d9eef",
   "metadata": {},
   "outputs": [
    {
     "ename": "ERROR",
     "evalue": "Error in lmer(acidity ~ starter + batch, data = cream): could not find function \"lmer\"\n",
     "output_type": "error",
     "traceback": [
      "Error in lmer(acidity ~ starter + batch, data = cream): could not find function \"lmer\"\nTraceback:\n"
     ]
    }
   ],
   "source": [
    "mixed_cream = lmer(acidity~starter+batch,data=cream)"
   ]
  }
 ],
 "metadata": {
  "kernelspec": {
   "display_name": "R",
   "language": "R",
   "name": "ir"
  },
  "language_info": {
   "codemirror_mode": "r",
   "file_extension": ".r",
   "mimetype": "text/x-r-source",
   "name": "R",
   "pygments_lexer": "r",
   "version": "3.6.1"
  }
 },
 "nbformat": 4,
 "nbformat_minor": 5
}
