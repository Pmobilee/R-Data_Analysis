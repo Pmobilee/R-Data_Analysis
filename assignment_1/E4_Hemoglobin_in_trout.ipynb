{
 "cells": [
  {
   "cell_type": "markdown",
   "id": "cbf59f24",
   "metadata": {},
   "source": [
    "## Exercise 4. Hemoglobin in trout"
   ]
  },
  {
   "cell_type": "markdown",
   "id": "236a04ee",
   "metadata": {},
   "source": [
    "Hemoglobin is measured (g/100 ml.) in the blood of brown trout after 35 days of treatment with four rates of sulfamerazine: the daily rates of 0, 5, 10 and 15 g of sulfamerazine per 100 pounds of fish, denoted as rates 1, 2, 3 and 4, respectively. (Beware that the levels of the factor rate are coded by numbers.) Two methods (denoted as A and B) of administering the sulfamerazine were used. The data is collected in data set hemoglobin.txt"
   ]
  },
  {
   "cell_type": "code",
   "execution_count": 1,
   "id": "36940e93",
   "metadata": {},
   "outputs": [],
   "source": [
    "fish = read.table(\"hemoglobin.txt\",header=TRUE)"
   ]
  },
  {
   "cell_type": "markdown",
   "id": "91e6cbae",
   "metadata": {},
   "source": [
    "### 4a)  Present an R-code for the randomization process to distribute 80 fishes over all combinations of levels of factors rate and method."
   ]
  },
  {
   "cell_type": "code",
   "execution_count": 4,
   "id": "985841be",
   "metadata": {},
   "outputs": [
    {
     "data": {
      "text/html": [
       "<table>\n",
       "<tbody>\n",
       "\t<tr><td> 1.0</td><td>2.0 </td><td>1.0 </td><td> 2.0</td><td>1   </td><td>2.0 </td><td>1   </td><td>2.0 </td><td>1.0 </td><td>2.0 </td><td>... </td><td>1.0 </td><td> 2.0</td><td>1.0 </td><td> 2.0</td><td>1.0 </td><td>2.0 </td><td>1.0 </td><td>2.0 </td><td> 1.0</td><td>2.0 </td></tr>\n",
       "\t<tr><td> 1.0</td><td>1.0 </td><td>1.0 </td><td> 1.0</td><td>1   </td><td>1.0 </td><td>1   </td><td>1.0 </td><td>1.0 </td><td>1.0 </td><td>... </td><td>4.0 </td><td> 4.0</td><td>4.0 </td><td> 4.0</td><td>4.0 </td><td>4.0 </td><td>4.0 </td><td>4.0 </td><td> 4.0</td><td>4.0 </td></tr>\n",
       "\t<tr><td>10.2</td><td>9.3 </td><td>8.1 </td><td>11.3</td><td>9   </td><td>6.8 </td><td>7   </td><td>7.8 </td><td>6.7 </td><td>6.1 </td><td>... </td><td>8.6 </td><td>10.2</td><td>9.3 </td><td>10.6</td><td>7.1 </td><td>9.3 </td><td>9.3 </td><td>7.2 </td><td>10.7</td><td>5.5 </td></tr>\n",
       "</tbody>\n",
       "</table>\n"
      ],
      "text/latex": [
       "\\begin{tabular}{llllllllllllllllllllllllllllllllllllllllllllllllllllllllllllllllllllllllllllllll}\n",
       "\t  1.0 & 2.0  & 1.0  &  2.0 & 1    & 2.0  & 1    & 2.0  & 1.0  & 2.0  & ...  & 1.0  &  2.0 & 1.0  &  2.0 & 1.0  & 2.0  & 1.0  & 2.0  &  1.0 & 2.0 \\\\\n",
       "\t  1.0 & 1.0  & 1.0  &  1.0 & 1    & 1.0  & 1    & 1.0  & 1.0  & 1.0  & ...  & 4.0  &  4.0 & 4.0  &  4.0 & 4.0  & 4.0  & 4.0  & 4.0  &  4.0 & 4.0 \\\\\n",
       "\t 10.2 & 9.3  & 8.1  & 11.3 & 9    & 6.8  & 7    & 7.8  & 6.7  & 6.1  & ...  & 8.6  & 10.2 & 9.3  & 10.6 & 7.1  & 9.3  & 9.3  & 7.2  & 10.7 & 5.5 \\\\\n",
       "\\end{tabular}\n"
      ],
      "text/markdown": [
       "\n",
       "|  1.0 | 2.0  | 1.0  |  2.0 | 1    | 2.0  | 1    | 2.0  | 1.0  | 2.0  | ...  | 1.0  |  2.0 | 1.0  |  2.0 | 1.0  | 2.0  | 1.0  | 2.0  |  1.0 | 2.0  |\n",
       "|  1.0 | 1.0  | 1.0  |  1.0 | 1    | 1.0  | 1    | 1.0  | 1.0  | 1.0  | ...  | 4.0  |  4.0 | 4.0  |  4.0 | 4.0  | 4.0  | 4.0  | 4.0  |  4.0 | 4.0  |\n",
       "| 10.2 | 9.3  | 8.1  | 11.3 | 9    | 6.8  | 7    | 7.8  | 6.7  | 6.1  | ...  | 8.6  | 10.2 | 9.3  | 10.6 | 7.1  | 9.3  | 9.3  | 7.2  | 10.7 | 5.5  |\n",
       "\n"
      ],
      "text/plain": [
       "     [,1] [,2] [,3] [,4] [,5] [,6] [,7] [,8] [,9] [,10] [,11] [,12] [,13] [,14]\n",
       "[1,]  1.0 2.0  1.0   2.0 1    2.0  1    2.0  1.0  2.0   ...   1.0    2.0  1.0  \n",
       "[2,]  1.0 1.0  1.0   1.0 1    1.0  1    1.0  1.0  1.0   ...   4.0    4.0  4.0  \n",
       "[3,] 10.2 9.3  8.1  11.3 9    6.8  7    7.8  6.7  6.1   ...   8.6   10.2  9.3  \n",
       "     [,15] [,16] [,17] [,18] [,19] [,20] [,21]\n",
       "[1,]  2.0  1.0   2.0   1.0   2.0    1.0  2.0  \n",
       "[2,]  4.0  4.0   4.0   4.0   4.0    4.0  4.0  \n",
       "[3,] 10.6  7.1   9.3   9.3   7.2   10.7  5.5  "
      ]
     },
     "metadata": {},
     "output_type": "display_data"
    }
   ],
   "source": [
    "hemoglobin=fish$hemoglobin; rate=fish$rate; method=fish$method; \n",
    "rbind(rep(method), rep(rate), sample(hemoglobin))"
   ]
  },
  {
   "cell_type": "markdown",
   "id": "fa2805fc",
   "metadata": {},
   "source": [
    "### 4b) Perform the two-way ANOVA to test for effects of factors rate, method and their interaction on the response variable hemoglobin. Comment on your findings."
   ]
  },
  {
   "cell_type": "code",
   "execution_count": 5,
   "id": "6f9fb155",
   "metadata": {},
   "outputs": [
    {
     "name": "stderr",
     "output_type": "stream",
     "text": [
      "The following objects are masked _by_ .GlobalEnv:\n",
      "\n",
      "    hemoglobin, method, rate\n",
      "\n"
     ]
    },
    {
     "data": {
      "image/png": "[encoded data removed]",
      "text/plain": [
       "plot without title"
      ]
     },
     "metadata": {},
     "output_type": "display_data"
    }
   ],
   "source": [
    "par(mfrow=c(1,2))\n",
    "attach(fish)\n",
    "boxplot(hemoglobin~rate); boxplot(hemoglobin~method)"
   ]
  },
  {
   "cell_type": "code",
   "execution_count": 6,
   "id": "6c59f792",
   "metadata": {},
   "outputs": [
    {
     "data": {
      "image/png": "[encoded data removed]",
      "text/plain": [
       "plot without title"
      ]
     },
     "metadata": {},
     "output_type": "display_data"
    }
   ],
   "source": [
    "par(mfrow=c(2,1))\n",
    "interaction.plot(method, rate, hemoglobin); interaction.plot(rate, method, hemoglobin)"
   ]
  },
  {
   "cell_type": "markdown",
   "id": "1696960d",
   "metadata": {},
   "source": [
    "Since rate is defined as a numerical variable it has to be converted to a factor variable"
   ]
  },
  {
   "cell_type": "code",
   "execution_count": 7,
   "id": "10c69612",
   "metadata": {},
   "outputs": [],
   "source": [
    "fish$rate = factor(fish$rate, \n",
    "                    levels = c(1,2,3,4),\n",
    "                    labels = c('Rate1', 'Rate2', 'Rate3', 'Rate4'))"
   ]
  },
  {
   "cell_type": "markdown",
   "id": "ab716b66",
   "metadata": {},
   "source": [
    "We assume that factors rate and method are independent for the first test"
   ]
  },
  {
   "cell_type": "code",
   "execution_count": 8,
   "id": "4fc49567",
   "metadata": {},
   "outputs": [
    {
     "data": {
      "text/plain": [
       "            Df Sum Sq Mean Sq F value  Pr(>F)    \n",
       "method       1   2.42   2.415   1.558   0.216    \n",
       "rate         3  90.56  30.187  19.469 2.4e-09 ***\n",
       "method:rate  3   4.87   1.624   1.047   0.377    \n",
       "Residuals   72 111.64   1.551                    \n",
       "---\n",
       "Signif. codes:  0 '***' 0.001 '**' 0.01 '*' 0.05 '.' 0.1 ' ' 1"
      ]
     },
     "metadata": {},
     "output_type": "display_data"
    }
   ],
   "source": [
    "res.aov_dep = aov(hemoglobin ~ method * rate, data = fish)\n",
    "summary(res.aov_dep)"
   ]
  },
  {
   "cell_type": "markdown",
   "id": "1f66e41d",
   "metadata": {},
   "source": [
    "From this test, we can conclude that the interaction of the method on the hemoglobin is not significant, but that the rate is significant on the amount of hemoglobin in the trout. This is based on the significance level α=0.05. Since the null hypothesis can be rejected based on this test, there is no need to test for the effects under the additive model."
   ]
  },
  {
   "cell_type": "code",
   "execution_count": 9,
   "id": "79b6b3e1",
   "metadata": {},
   "outputs": [
    {
     "data": {
      "image/png": "[encoded data removed]",
      "text/plain": [
       "Plot with title \"Normal Q-Q Plot\""
      ]
     },
     "metadata": {},
     "output_type": "display_data"
    }
   ],
   "source": [
    "par(mfrow=c(1,2)); qqnorm(residuals(res.aov_dep)); qqline(residuals(res.aov_dep), col = 'red')\n",
    "plot(fitted(res.aov_dep), residuals(res.aov_dep)); "
   ]
  },
  {
   "cell_type": "markdown",
   "id": "66867ce1",
   "metadata": {},
   "source": [
    "The normality of the left plot is clear, while the right plot seems to have a larger concentration and spread when the fitted values get above 9. It doesn't seem to deviate significantly from normal."
   ]
  },
  {
   "cell_type": "markdown",
   "id": "7d979152",
   "metadata": {},
   "source": [
    "### 4c) Which of the two factors has the greatest influence? Is this a good question? Consider the additive model. Which combination of rate and method yield the highest hemoglobin? Estimate the mean hemoglobin value for rate 3 by using method A. What rate leads to the highest mean hemoglobin?"
   ]
  },
  {
   "cell_type": "code",
   "execution_count": 27,
   "id": "7cf7a698",
   "metadata": {},
   "outputs": [
    {
     "data": {
      "text/plain": [
       "            Df Sum Sq Mean Sq F value   Pr(>F)    \n",
       "method       1   2.42   2.415   1.555    0.216    \n",
       "rate         3  90.56  30.187  19.432 2.02e-09 ***\n",
       "Residuals   75 116.51   1.553                     \n",
       "---\n",
       "Signif. codes:  0 '***' 0.001 '**' 0.01 '*' 0.05 '.' 0.1 ' ' 1"
      ]
     },
     "metadata": {},
     "output_type": "display_data"
    }
   ],
   "source": [
    "fish_method_rate_aov = aov(hemoglobin ~ method + rate, data = fish)\n",
    "summary(fish_method_rate_aov)"
   ]
  },
  {
   "cell_type": "markdown",
   "id": "74591424",
   "metadata": {},
   "source": [
    "To first address which of the factors has the greatest influence, since the interaction of rate on the hemoglobin values is the only factor that has a significant interaction with the hemoglobin we can conclude that the rate has the greatest influence.\n",
    "\n",
    "This is also the case in the additive model seen above, where the method doesn't have a significant influence on the amount of hemoglobin.\n",
    "\n",
    "By answering the question which factor is more influential it becomes clear what causes the differences in hemoglobin in trout which would be crucuial when deciding what kind of treatment to perform on trouts."
   ]
  },
  {
   "cell_type": "code",
   "execution_count": 28,
   "id": "f476c26d",
   "metadata": {},
   "outputs": [
    {
     "data": {
      "text/html": [
       "<table>\n",
       "<thead><tr><th></th><th scope=col>hemoglobin</th><th scope=col>rate</th><th scope=col>method</th></tr></thead>\n",
       "<tbody>\n",
       "\t<tr><th scope=row>31</th><td>11.9 </td><td>Rate2</td><td>A    </td></tr>\n",
       "</tbody>\n",
       "</table>\n"
      ],
      "text/latex": [
       "\\begin{tabular}{r|lll}\n",
       "  & hemoglobin & rate & method\\\\\n",
       "\\hline\n",
       "\t31 & 11.9  & Rate2 & A    \\\\\n",
       "\\end{tabular}\n"
      ],
      "text/markdown": [
       "\n",
       "| <!--/--> | hemoglobin | rate | method |\n",
       "|---|---|---|---|\n",
       "| 31 | 11.9  | Rate2 | A     |\n",
       "\n"
      ],
      "text/plain": [
       "   hemoglobin rate  method\n",
       "31 11.9       Rate2 A     "
      ]
     },
     "metadata": {},
     "output_type": "display_data"
    }
   ],
   "source": [
    "fish[which.max(fish$hemoglobin),]"
   ]
  },
  {
   "cell_type": "code",
   "execution_count": 29,
   "id": "318fe43f",
   "metadata": {},
   "outputs": [
    {
     "data": {
      "text/html": [
       "9.03"
      ],
      "text/latex": [
       "9.03"
      ],
      "text/markdown": [
       "9.03"
      ],
      "text/plain": [
       "[1] 9.03"
      ]
     },
     "metadata": {},
     "output_type": "display_data"
    }
   ],
   "source": [
    "rate3_method_a = fish[fish$rate == 'Rate3' & fish$method == 'A', ]; mean(rate3_method_a$hemoglobin)"
   ]
  },
  {
   "cell_type": "code",
   "execution_count": 30,
   "id": "fc8645fc",
   "metadata": {},
   "outputs": [
    {
     "data": {
      "text/html": [
       "6.975"
      ],
      "text/latex": [
       "6.975"
      ],
      "text/markdown": [
       "6.975"
      ],
      "text/plain": [
       "[1] 6.975"
      ]
     },
     "metadata": {},
     "output_type": "display_data"
    },
    {
     "data": {
      "text/html": [
       "9.735"
      ],
      "text/latex": [
       "9.735"
      ],
      "text/markdown": [
       "9.735"
      ],
      "text/plain": [
       "[1] 9.735"
      ]
     },
     "metadata": {},
     "output_type": "display_data"
    },
    {
     "data": {
      "text/html": [
       "9.38"
      ],
      "text/latex": [
       "9.38"
      ],
      "text/markdown": [
       "9.38"
      ],
      "text/plain": [
       "[1] 9.38"
      ]
     },
     "metadata": {},
     "output_type": "display_data"
    },
    {
     "data": {
      "text/html": [
       "8.855"
      ],
      "text/latex": [
       "8.855"
      ],
      "text/markdown": [
       "8.855"
      ],
      "text/plain": [
       "[1] 8.855"
      ]
     },
     "metadata": {},
     "output_type": "display_data"
    }
   ],
   "source": [
    "mean(fish[fish$rate == 'Rate1', ]$hemoglobin); \n",
    "mean(fish[fish$rate == 'Rate2', ]$hemoglobin); \n",
    "mean(fish[fish$rate == 'Rate3', ]$hemoglobin); \n",
    "mean(fish[fish$rate == 'Rate4', ]$hemoglobin)"
   ]
  },
  {
   "cell_type": "markdown",
   "id": "62d89194",
   "metadata": {},
   "source": [
    "By using Rate 2 and method A, the highest hemoglobin count can be achieved at 11.9. The mean hemoglobin value for rate 3 using method A is 9.03 and the highest mean hemoglobin can be achieved using Rate 2, at a value of 9.735."
   ]
  },
  {
   "cell_type": "markdown",
   "id": "69961811",
   "metadata": {},
   "source": [
    "### 4d) Test the null hypothesis that the hemoglobin is the same for all rates by a one-way ANOVA test, ignoring the variable method. Is it right/wrong or useful/not useful to perform this test on this dataset?"
   ]
  },
  {
   "cell_type": "code",
   "execution_count": 31,
   "id": "f5578ed2",
   "metadata": {},
   "outputs": [
    {
     "data": {
      "text/plain": [
       "\n",
       "Call:\n",
       "lm(formula = hemoglobin ~ rate, data = fish)\n",
       "\n",
       "Residuals:\n",
       "   Min     1Q Median     3Q    Max \n",
       "-3.335 -0.740  0.075  0.825  2.165 \n",
       "\n",
       "Coefficients:\n",
       "            Estimate Std. Error t value Pr(>|t|)    \n",
       "(Intercept)   6.9750     0.2797  24.936  < 2e-16 ***\n",
       "rateRate2     2.7600     0.3956   6.977 9.69e-10 ***\n",
       "rateRate3     2.4050     0.3956   6.080 4.48e-08 ***\n",
       "rateRate4     1.8800     0.3956   4.753 9.31e-06 ***\n",
       "---\n",
       "Signif. codes:  0 '***' 0.001 '**' 0.01 '*' 0.05 '.' 0.1 ' ' 1\n",
       "\n",
       "Residual standard error: 1.251 on 76 degrees of freedom\n",
       "Multiple R-squared:  0.4323,\tAdjusted R-squared:  0.4099 \n",
       "F-statistic: 19.29 on 3 and 76 DF,  p-value: 2.129e-09\n"
      ]
     },
     "metadata": {},
     "output_type": "display_data"
    },
    {
     "data": {
      "text/html": [
       "<table>\n",
       "<thead><tr><th></th><th scope=col>2.5 %</th><th scope=col>97.5 %</th></tr></thead>\n",
       "<tbody>\n",
       "\t<tr><th scope=row>(Intercept)</th><td>6.417902</td><td>7.532098</td></tr>\n",
       "\t<tr><th scope=row>rateRate2</th><td>1.972144</td><td>3.547856</td></tr>\n",
       "\t<tr><th scope=row>rateRate3</th><td>1.617144</td><td>3.192856</td></tr>\n",
       "\t<tr><th scope=row>rateRate4</th><td>1.092144</td><td>2.667856</td></tr>\n",
       "</tbody>\n",
       "</table>\n"
      ],
      "text/latex": [
       "\\begin{tabular}{r|ll}\n",
       "  & 2.5 \\% & 97.5 \\%\\\\\n",
       "\\hline\n",
       "\t(Intercept) & 6.417902 & 7.532098\\\\\n",
       "\trateRate2 & 1.972144 & 3.547856\\\\\n",
       "\trateRate3 & 1.617144 & 3.192856\\\\\n",
       "\trateRate4 & 1.092144 & 2.667856\\\\\n",
       "\\end{tabular}\n"
      ],
      "text/markdown": [
       "\n",
       "| <!--/--> | 2.5 % | 97.5 % |\n",
       "|---|---|---|\n",
       "| (Intercept) | 6.417902 | 7.532098 |\n",
       "| rateRate2 | 1.972144 | 3.547856 |\n",
       "| rateRate3 | 1.617144 | 3.192856 |\n",
       "| rateRate4 | 1.092144 | 2.667856 |\n",
       "\n"
      ],
      "text/plain": [
       "            2.5 %    97.5 %  \n",
       "(Intercept) 6.417902 7.532098\n",
       "rateRate2   1.972144 3.547856\n",
       "rateRate3   1.617144 3.192856\n",
       "rateRate4   1.092144 2.667856"
      ]
     },
     "metadata": {},
     "output_type": "display_data"
    }
   ],
   "source": [
    "fish_rate_aov=lm(hemoglobin~rate, data=fish);\n",
    "summary(fish_rate_aov)\n",
    "confint(fish_rate_aov)"
   ]
  },
  {
   "cell_type": "markdown",
   "id": "4b81b1d8",
   "metadata": {},
   "source": [
    "Check whether the assumption of normality is not totally untrue"
   ]
  },
  {
   "cell_type": "code",
   "execution_count": 32,
   "id": "c86f09f3",
   "metadata": {},
   "outputs": [
    {
     "data": {
      "image/png": "[encoded data removed]",
      "text/plain": [
       "Plot with title \"Normal Q-Q Plot\""
      ]
     },
     "metadata": {},
     "output_type": "display_data"
    }
   ],
   "source": [
    "par(mfrow=c(1,2)); qqnorm(residuals(fish_rate_aov)); qqline(residuals(fish_rate_aov), col = 'red')\n",
    "plot(fitted(fish_rate_aov), residuals(fish_rate_aov)); "
   ]
  },
  {
   "cell_type": "markdown",
   "id": "94b5edb2",
   "metadata": {},
   "source": [
    "The QQ plot implies normality, while the right plot seems to have a larger concentration and spread when the fitted values get above 9. The residual plot doesn't seem to deviate significantly from normal."
   ]
  },
  {
   "cell_type": "markdown",
   "id": "9fc9ed39",
   "metadata": {},
   "source": [
    "A confidence interval is said to be significantly different if it doesn't contain the value we are testing against, since the null hypothesis states that hemoglobin is the same for all rates, we can take Rate 1 and look at the mean, which is 6.975. This value is not present in the confidence intervals of any of the other rates, meaning that not all rates lead to the same hemoglobin. We thus reject the null hypothesis."
   ]
  },
  {
   "cell_type": "markdown",
   "id": "f1023654",
   "metadata": {},
   "source": [
    "While the influence of method on hemoglobin was deemed insignificant, the little effect it might have had is now added onto the rates, this makes it somewhat of a wrong way to go about testing significance. Especially because a two-way ANOVA test would also work and is more suited. However, it can be useful to have a more isolated view of the influence of the rates."
   ]
  }
 ],
 "metadata": {
  "kernelspec": {
   "display_name": "R",
   "language": "R",
   "name": "ir"
  },
  "language_info": {
   "codemirror_mode": "r",
   "file_extension": ".r",
   "mimetype": "text/x-r-source",
   "name": "R",
   "pygments_lexer": "r",
   "version": "3.6.1"
  }
 },
 "nbformat": 4,
 "nbformat_minor": 5
}
