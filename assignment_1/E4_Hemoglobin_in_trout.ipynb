{
 "cells": [
  {
   "cell_type": "markdown",
   "metadata": {},
   "source": [
    "# Exercise 4.  Hemoglobin in trout"
   ]
  },
  {
   "cell_type": "markdown",
   "metadata": {},
   "source": [
    "![picture 2](../images/7efcfc2401a60dd4f30d5602c9d80e761db1d368c15fd3e9870a85c06ffbb93a.png)  \n"
   ]
  },
  {
   "cell_type": "markdown",
   "metadata": {},
   "source": [
    "#### Loading in the data and visualizing"
   ]
  },
  {
   "cell_type": "code",
   "execution_count": 3,
   "metadata": {},
   "outputs": [
    {
     "data": {
      "text/html": [
       "<table>\n",
       "<thead><tr><th scope=col>hemoglobin</th><th scope=col>rate</th><th scope=col>method</th></tr></thead>\n",
       "<tbody>\n",
       "\t<tr><td>6.7</td><td>1  </td><td>A  </td></tr>\n",
       "\t<tr><td>7.0</td><td>1  </td><td>B  </td></tr>\n",
       "\t<tr><td>7.8</td><td>1  </td><td>A  </td></tr>\n",
       "\t<tr><td>7.8</td><td>1  </td><td>B  </td></tr>\n",
       "\t<tr><td>5.5</td><td>1  </td><td>A  </td></tr>\n",
       "\t<tr><td>6.8</td><td>1  </td><td>B  </td></tr>\n",
       "</tbody>\n",
       "</table>\n"
      ],
      "text/latex": [
       "\\begin{tabular}{r|lll}\n",
       " hemoglobin & rate & method\\\\\n",
       "\\hline\n",
       "\t 6.7 & 1   & A  \\\\\n",
       "\t 7.0 & 1   & B  \\\\\n",
       "\t 7.8 & 1   & A  \\\\\n",
       "\t 7.8 & 1   & B  \\\\\n",
       "\t 5.5 & 1   & A  \\\\\n",
       "\t 6.8 & 1   & B  \\\\\n",
       "\\end{tabular}\n"
      ],
      "text/markdown": [
       "\n",
       "| hemoglobin | rate | method |\n",
       "|---|---|---|\n",
       "| 6.7 | 1   | A   |\n",
       "| 7.0 | 1   | B   |\n",
       "| 7.8 | 1   | A   |\n",
       "| 7.8 | 1   | B   |\n",
       "| 5.5 | 1   | A   |\n",
       "| 6.8 | 1   | B   |\n",
       "\n"
      ],
      "text/plain": [
       "  hemoglobin rate method\n",
       "1 6.7        1    A     \n",
       "2 7.0        1    B     \n",
       "3 7.8        1    A     \n",
       "4 7.8        1    B     \n",
       "5 5.5        1    A     \n",
       "6 6.8        1    B     "
      ]
     },
     "metadata": {},
     "output_type": "display_data"
    }
   ],
   "source": [
    "data <- read.table(\"hemoglobin.txt\", header = T)\n",
    "head(data)"
   ]
  },
  {
   "cell_type": "code",
   "execution_count": 6,
   "metadata": {},
   "outputs": [
    {
     "data": {
      "text/html": [
       "<ol class=list-inline>\n",
       "\t<li>1</li>\n",
       "\t<li>2</li>\n",
       "\t<li>3</li>\n",
       "\t<li>4</li>\n",
       "</ol>\n"
      ],
      "text/latex": [
       "\\begin{enumerate*}\n",
       "\\item 1\n",
       "\\item 2\n",
       "\\item 3\n",
       "\\item 4\n",
       "\\end{enumerate*}\n"
      ],
      "text/markdown": [
       "1. 1\n",
       "2. 2\n",
       "3. 3\n",
       "4. 4\n",
       "\n",
       "\n"
      ],
      "text/plain": [
       "[1] 1 2 3 4"
      ]
     },
     "metadata": {},
     "output_type": "display_data"
    }
   ],
   "source": [
    "# Check the rate column, see what values are possible\n",
    "unique(data$rate)."
   ]
  },
  {
   "cell_type": "markdown",
   "metadata": {},
   "source": [
    "![picture 3](../images/6ff18002d4d14e1490f957c1b7ebb3ed30d5fda4301d72fdcbac1958b58b834e.png)  \n"
   ]
  },
  {
   "cell_type": "code",
   "execution_count": 7,
   "metadata": {},
   "outputs": [
    {
     "data": {
      "text/html": [
       "80"
      ],
      "text/latex": [
       "80"
      ],
      "text/markdown": [
       "80"
      ],
      "text/plain": [
       "[1] 80"
      ]
     },
     "metadata": {},
     "output_type": "display_data"
    }
   ],
   "source": [
    "# See how many fish we have\n",
    "length(data$hemoglobin)"
   ]
  },
  {
   "cell_type": "markdown",
   "metadata": {},
   "source": [
    "#### Okay I don't think I really understand what they mean, but I'll assume they want me to create groups of fish, based on method and rate. However, anova tests don't really need this? Anova also requires normal data, so I guess we just assume that for now. Maybe we could add some qq plots anyway"
   ]
  },
  {
   "cell_type": "code",
   "execution_count": 20,
   "metadata": {},
   "outputs": [
    {
     "data": {
      "text/plain": [
       "            Df Sum Sq Mean Sq F value  Pr(>F)    \n",
       "rate         1  27.93  27.931  12.006 0.00087 ***\n",
       "method       1   2.42   2.415   1.038 0.31145    \n",
       "Residuals   77 179.14   2.326                    \n",
       "---\n",
       "Signif. codes:  0 '***' 0.001 '**' 0.01 '*' 0.05 '.' 0.1 ' ' 1"
      ]
     },
     "metadata": {},
     "output_type": "display_data"
    }
   ],
   "source": [
    "mod.aov <- aov(hemoglobin ~ rate + method, data = data)\n",
    "summary(mod.aov)"
   ]
  },
  {
   "cell_type": "markdown",
   "metadata": {},
   "source": [
    "#### This clearly shows the rate of sulfamerazine to have a great effect on hemoglobin levels, and the method does not seem to make any statistically significant change. For more detailes, let's see the effect of rate on the hemoglobin levels:"
   ]
  },
  {
   "cell_type": "code",
   "execution_count": 28,
   "metadata": {},
   "outputs": [
    {
     "data": {
      "text/html": [
       "<strong>png:</strong> 9"
      ],
      "text/latex": [
       "\\textbf{png:} 9"
      ],
      "text/markdown": [
       "**png:** 9"
      ],
      "text/plain": [
       "png \n",
       "  9 "
      ]
     },
     "metadata": {},
     "output_type": "display_data"
    },
    {
     "data": {
      "image/png": "[encoded data removed]",
      "text/plain": [
       "plot without title"
      ]
     },
     "metadata": {},
     "output_type": "display_data"
    }
   ],
   "source": [
    "boxplot(hemoglobin ~ rate, data = data)\n",
    "dev.copy(png,'plots/4b_effect_rate_hemo.png', width=800, height=400)"
   ]
  }
 ],
 "metadata": {
  "kernelspec": {
   "display_name": "R",
   "language": "R",
   "name": "python397jvsc74a57bd0fcd74ca6de8b0cef01546b97488633c36ca07830b7936ac2d49e46ad1b704c42"
  },
  "language_info": {
   "codemirror_mode": "r",
   "file_extension": ".r",
   "mimetype": "text/x-r-source",
   "name": "R",
   "pygments_lexer": "r",
   "version": "3.6.1"
  },
  "orig_nbformat": 4
 },
 "nbformat": 4,
 "nbformat_minor": 2
}
