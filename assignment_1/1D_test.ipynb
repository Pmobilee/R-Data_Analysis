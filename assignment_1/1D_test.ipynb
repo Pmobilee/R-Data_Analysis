{
 "cells": [
  {
   "cell_type": "markdown",
   "metadata": {},
   "source": [
    "### 1D)  Recover the whole confidence interval and its confidence level"
   ]
  },
  {
   "cell_type": "markdown",
   "metadata": {},
   "source": [
    "formula: p_hat ± Z * sqrt((p_hat(1-p_hat) / n))\n"
   ]
  },
  {
   "cell_type": "markdown",
   "metadata": {},
   "source": [
    "first compute p_hat, which is the probability that a patient has to wait longer than 15.5 minutes:"
   ]
  },
  {
   "cell_type": "code",
   "execution_count": 2,
   "metadata": {},
   "outputs": [],
   "source": [
    "y = c(15.4, 17.9, 19.0, 0.5, 15.9, 2.7, 6.2, 2.5, 4.7, 6.9, 10.8, 24.3, 5.6, 23.0, 10.7)\n",
    "n = length(y)\n",
    "mu =  mean(y)\n",
    "sd = sd(y)\n",
    "right_ci = 0.53"
   ]
  },
  {
   "cell_type": "code",
   "execution_count": 3,
   "metadata": {},
   "outputs": [
    {
     "data": {
      "text/html": [
       "0.28337565044696"
      ],
      "text/latex": [
       "0.28337565044696"
      ],
      "text/markdown": [
       "0.28337565044696"
      ],
      "text/plain": [
       "[1] 0.2833757"
      ]
     },
     "metadata": {},
     "output_type": "display_data"
    }
   ],
   "source": [
    "p_hat = pnorm(15.5, mean = mu, sd = sd, lower.tail = FALSE)\n",
    "p_hat"
   ]
  },
  {
   "cell_type": "markdown",
   "metadata": {},
   "source": [
    "Now we know p_hat, n, but not Z (Z-score, needed to acquire the confidence level)"
   ]
  },
  {
   "cell_type": "markdown",
   "metadata": {},
   "source": [
    "What we also know is that the right value of the confidence interval is 0.53."
   ]
  },
  {
   "cell_type": "markdown",
   "metadata": {},
   "source": [
    "So first we'll figure out the Z value, which can be acquired by using the following equation:"
   ]
  },
  {
   "cell_type": "code",
   "execution_count": 4,
   "metadata": {},
   "outputs": [
    {
     "data": {
      "text/html": [
       "2.11960305642828"
      ],
      "text/latex": [
       "2.11960305642828"
      ],
      "text/markdown": [
       "2.11960305642828"
      ],
      "text/plain": [
       "[1] 2.119603"
      ]
     },
     "metadata": {},
     "output_type": "display_data"
    }
   ],
   "source": [
    "Z_value = (right_ci-p_hat) / sqrt(p_hat*(1-p_hat)/n)\n",
    "Z_value"
   ]
  },
  {
   "cell_type": "markdown",
   "metadata": {},
   "source": [
    "Now, we can compute the left confidence interval:"
   ]
  },
  {
   "cell_type": "code",
   "execution_count": 5,
   "metadata": {},
   "outputs": [
    {
     "data": {
      "text/html": [
       "0.0367513008939209"
      ],
      "text/latex": [
       "0.0367513008939209"
      ],
      "text/markdown": [
       "0.0367513008939209"
      ],
      "text/plain": [
       "[1] 0.0367513"
      ]
     },
     "metadata": {},
     "output_type": "display_data"
    }
   ],
   "source": [
    "left_ci = p_hat - Z_value * sqrt(p_hat*(1-p_hat)/n)\n",
    "left_ci"
   ]
  },
  {
   "cell_type": "markdown",
   "metadata": {},
   "source": [
    "So, the restored confidence interval is\n",
    "[0.036, 0.53]\n",
    "\n",
    "The corresponding confidence level of Z_value is 96.6%"
   ]
  },
  {
   "cell_type": "code",
   "execution_count": null,
   "metadata": {},
   "outputs": [],
   "source": []
  }
 ],
 "metadata": {
  "kernelspec": {
   "display_name": "R",
   "language": "R",
   "name": "ir"
  },
  "language_info": {
   "codemirror_mode": "r",
   "file_extension": ".r",
   "mimetype": "text/x-r-source",
   "name": "R",
   "pygments_lexer": "r",
   "version": "3.6.3"
  }
 },
 "nbformat": 4,
 "nbformat_minor": 4
}
