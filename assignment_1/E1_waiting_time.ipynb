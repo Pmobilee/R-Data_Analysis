{
 "cells": [
  {
   "cell_type": "markdown",
   "metadata": {},
   "source": [
    "# Exercise 1. Waiting time"
   ]
  },
  {
   "cell_type": "markdown",
   "metadata": {},
   "source": [
    "![picture 2](images/943113cf94c15371588eae88a0f24f70016016863a21b63ac2652b4359d226b5.png)  \n"
   ]
  },
  {
   "cell_type": "code",
   "execution_count": 11,
   "metadata": {},
   "outputs": [
    {
     "data": {
      "text/plain": [
       "\n",
       "\tShapiro-Wilk normality test\n",
       "\n",
       "data:  x\n",
       "W = 0.93473, p-value = 0.3207\n"
      ]
     },
     "metadata": {},
     "output_type": "display_data"
    },
    {
     "data": {
      "text/html": [
       "<strong>png:</strong> 3"
      ],
      "text/latex": [
       "\\textbf{png:} 3"
      ],
      "text/markdown": [
       "**png:** 3"
      ],
      "text/plain": [
       "png \n",
       "  3 "
      ]
     },
     "metadata": {},
     "output_type": "display_data"
    },
    {
     "data": {
      "text/html": [
       "<strong>png:</strong> 2"
      ],
      "text/latex": [
       "\\textbf{png:} 2"
      ],
      "text/markdown": [
       "**png:** 2"
      ],
      "text/plain": [
       "png \n",
       "  2 "
      ]
     },
     "metadata": {},
     "output_type": "display_data"
    },
    {
     "data": {
      "image/png": "[encoded data removed]",
      "text/plain": [
       "Plot with title \"Normal Q-Q Plot\""
      ]
     },
     "metadata": {},
     "output_type": "display_data"
    }
   ],
   "source": [
    "x <- c(15.4, 17.9, 19.0, 0.5, 15.9, 2.7, 6.2, 2.5, 4.7, 6.9, 10.8, 24.3, 5.6, 23.0, 10.7) # nolint\n",
    "mean_wait <- mean(x)\n",
    "sd_wait <- sd(x)\n",
    "len_wait <- length(x)\n",
    "\n",
    "# Check for normality\n",
    "qqnorm(x) ; qqline(x, col = 1,lwd=2,lty=2) ; shapiro.test(x)\n",
    "dev.copy(png,'plots/1a_qqnorm.png')\n",
    "dev.off()"
   ]
  },
  {
   "cell_type": "markdown",
   "metadata": {},
   "source": [
    "#### The data seems to follow a normal distribution, gathered from the qqline and the shapiro test results (p > 0.05)\n",
    "#### Now we first calculate the confidence interval via a third party package:"
   ]
  },
  {
   "cell_type": "code",
   "execution_count": 13,
   "metadata": {},
   "outputs": [
    {
     "name": "stdout",
     "output_type": "stream",
     "text": [
      "package 'Rmisc' successfully unpacked and MD5 sums checked\n",
      "\n",
      "The downloaded binary packages are in\n",
      "\tC:\\Users\\Unni\\AppData\\Local\\Temp\\RtmpCouLVp\\downloaded_packages\n"
     ]
    },
    {
     "name": "stderr",
     "output_type": "stream",
     "text": [
      "Warning message:\n",
      "\"package 'Rmisc' was built under R version 3.6.3\"Loading required package: lattice\n",
      "Loading required package: plyr\n"
     ]
    },
    {
     "data": {
      "text/html": [
       "<dl class=dl-horizontal>\n",
       "\t<dt>upper</dt>\n",
       "\t\t<dd>15.8916424490779</dd>\n",
       "\t<dt>mean</dt>\n",
       "\t\t<dd>11.0733333333333</dd>\n",
       "\t<dt>lower</dt>\n",
       "\t\t<dd>6.25502421758877</dd>\n",
       "</dl>\n"
      ],
      "text/latex": [
       "\\begin{description*}\n",
       "\\item[upper] 15.8916424490779\n",
       "\\item[mean] 11.0733333333333\n",
       "\\item[lower] 6.25502421758877\n",
       "\\end{description*}\n"
      ],
      "text/markdown": [
       "upper\n",
       ":   15.8916424490779mean\n",
       ":   11.0733333333333lower\n",
       ":   6.25502421758877\n",
       "\n"
      ],
      "text/plain": [
       "    upper      mean     lower \n",
       "15.891642 11.073333  6.255024 "
      ]
     },
     "metadata": {},
     "output_type": "display_data"
    }
   ],
   "source": [
    "# install.packages(\"Rmisc\")\n",
    "# library(Rmisc)\n",
    "confidence_interval <- CI(x, 0.97)\n",
    "confidence_interval"
   ]
  },
  {
   "cell_type": "markdown",
   "metadata": {},
   "source": [
    "#### And then calculate it normally:"
   ]
  },
  {
   "cell_type": "code",
   "execution_count": 14,
   "metadata": {},
   "outputs": [
    {
     "data": {
      "text/html": [
       "15.8916424490779"
      ],
      "text/latex": [
       "15.8916424490779"
      ],
      "text/markdown": [
       "15.8916424490779"
      ],
      "text/plain": [
       "[1] 15.89164"
      ]
     },
     "metadata": {},
     "output_type": "display_data"
    },
    {
     "data": {
      "text/html": [
       "11.0733333333333"
      ],
      "text/latex": [
       "11.0733333333333"
      ],
      "text/markdown": [
       "11.0733333333333"
      ],
      "text/plain": [
       "[1] 11.07333"
      ]
     },
     "metadata": {},
     "output_type": "display_data"
    },
    {
     "data": {
      "text/html": [
       "6.25502421758877"
      ],
      "text/latex": [
       "6.25502421758877"
      ],
      "text/markdown": [
       "6.25502421758877"
      ],
      "text/plain": [
       "[1] 6.255024"
      ]
     },
     "metadata": {},
     "output_type": "display_data"
    }
   ],
   "source": [
    "# First we calculate the CI normally:\n",
    "error <- qt(0.985, df = len_wait - 1) * sd_wait / sqrt(len_wait)\n",
    "lower <- mean_wait - error\n",
    "upper <- mean_wait + error\n",
    "upper; mean_wait; lower"
   ]
  },
  {
   "cell_type": "markdown",
   "metadata": {},
   "source": [
    "#### Now for the bootstrap method:"
   ]
  },
  {
   "cell_type": "code",
   "execution_count": 21,
   "metadata": {},
   "outputs": [
    {
     "data": {
      "text/html": [
       "<strong>1.5%:</strong> 15.0104666666667"
      ],
      "text/latex": [
       "\\textbf{1.5\\textbackslash{}\\%:} 15.0104666666667"
      ],
      "text/markdown": [
       "**1.5%:** 15.0104666666667"
      ],
      "text/plain": [
       "    1.5% \n",
       "15.01047 "
      ]
     },
     "metadata": {},
     "output_type": "display_data"
    },
    {
     "data": {
      "text/html": [
       "11.0733333333333"
      ],
      "text/latex": [
       "11.0733333333333"
      ],
      "text/markdown": [
       "11.0733333333333"
      ],
      "text/plain": [
       "[1] 11.07333"
      ]
     },
     "metadata": {},
     "output_type": "display_data"
    },
    {
     "data": {
      "text/html": [
       "<strong>98.5%:</strong> 6.6395"
      ],
      "text/latex": [
       "\\textbf{98.5\\textbackslash{}\\%:} 6.6395"
      ],
      "text/markdown": [
       "**98.5%:** 6.6395"
      ],
      "text/plain": [
       " 98.5% \n",
       "6.6395 "
      ]
     },
     "metadata": {},
     "output_type": "display_data"
    }
   ],
   "source": [
    "iter <- 1000\n",
    "waits <- numeric(iter)\n",
    "for(iter in 1:iter) {\n",
    "    wait <- sample(x, replace=T)\n",
    "    waits[iter] <- mean(wait)}\n",
    "\n",
    "waits_015 <- quantile(waits, 0.015)\n",
    "waits_985 <- quantile(waits, 0.985)\n",
    "2 * mean_wait - waits_015; mean_wait; 2 * mean_wait - waits_985"
   ]
  },
  {
   "cell_type": "markdown",
   "metadata": {},
   "source": [
    "#### Now let's calculate the sample size needed for a maximum 97%-CI length of 2:"
   ]
  },
  {
   "cell_type": "code",
   "execution_count": 28,
   "metadata": {},
   "outputs": [
    {
     "data": {
      "text/html": [
       "<strong>1.5%:</strong> 130.986880581846"
      ],
      "text/latex": [
       "\\textbf{1.5\\textbackslash{}\\%:} 130.986880581846"
      ],
      "text/markdown": [
       "**1.5%:** 130.986880581846"
      ],
      "text/plain": [
       "    1.5% \n",
       "130.9869 "
      ]
     },
     "metadata": {},
     "output_type": "display_data"
    }
   ],
   "source": [
    "# The formula is this:\n",
    "minimum_n <- (waits_015 ** 2 * sd_wait **2) / error ** 2\n",
    "minimum_n"
   ]
  },
  {
   "cell_type": "markdown",
   "metadata": {},
   "source": [
    "#### We a need minimum of 131 samples"
   ]
  },
  {
   "cell_type": "markdown",
   "metadata": {},
   "source": [
    "#### So clearly the bootstrap method performs very similar to the direct confidence interval calculation. Increasing the amount of iterations seemed to bring the results closer to the earlier confidence interval we calculated."
   ]
  },
  {
   "cell_type": "markdown",
   "metadata": {},
   "source": [
    "![picture 3](images/47e31fdccd701f461b621397da394b394c82f51183ea2bf986e1d1c0c0bc48ac.png)  \n"
   ]
  },
  {
   "cell_type": "code",
   "execution_count": null,
   "metadata": {},
   "outputs": [],
   "source": []
  }
 ],
 "metadata": {
  "interpreter": {
   "hash": "fcd74ca6de8b0cef01546b97488633c36ca07830b7936ac2d49e46ad1b704c42"
  },
  "kernelspec": {
   "display_name": "R",
   "language": "R",
   "name": "python397jvsc74a57bd0fcd74ca6de8b0cef01546b97488633c36ca07830b7936ac2d49e46ad1b704c42"
  },
  "language_info": {
   "codemirror_mode": "r",
   "file_extension": ".r",
   "mimetype": "text/x-r-source",
   "name": "R",
   "pygments_lexer": "r",
   "version": "3.6.1"
  },
  "orig_nbformat": 4
 },
 "nbformat": 4,
 "nbformat_minor": 2
}
