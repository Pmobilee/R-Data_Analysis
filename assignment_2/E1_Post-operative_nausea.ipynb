{
 "cells": [
  {
   "cell_type": "markdown",
   "metadata": {},
   "source": [
    "# Exercise 1: Post-operative nausea"
   ]
  },
  {
   "cell_type": "markdown",
   "metadata": {},
   "source": [
    "### a)  Discuss whether a contingency table test is appropriate here. If yes, perform this test in order to test whether the different medicines work equally well against nausea. Where are the main inconsistencies?"
   ]
  },
  {
   "cell_type": "markdown",
   "metadata": {},
   "source": [
    "Yes contingency table test is appropriate here. There are two factors (nausea level & medicines) and the 'expected' values are all above 5, so the test is reliable.\n"
   ]
  },
  {
   "cell_type": "code",
   "execution_count": 2,
   "metadata": {},
   "outputs": [
    {
     "data": {
      "text/html": [
       "<table class=\"dataframe\">\n",
       "<caption>A data.frame: 3 × 2</caption>\n",
       "<thead>\n",
       "\t<tr><th></th><th scope=col>Incidence.of.no.nausea</th><th scope=col>Incidence.of.Nausea</th></tr>\n",
       "\t<tr><th></th><th scope=col>&lt;int&gt;</th><th scope=col>&lt;int&gt;</th></tr>\n",
       "</thead>\n",
       "<tbody>\n",
       "\t<tr><th scope=row>Chlorpromazine</th><td>100</td><td>52</td></tr>\n",
       "\t<tr><th scope=row>Pentobarbital(100mg)</th><td> 32</td><td>35</td></tr>\n",
       "\t<tr><th scope=row>Pentobarbital(150mg)</th><td> 48</td><td>37</td></tr>\n",
       "</tbody>\n",
       "</table>\n"
      ],
      "text/latex": [
       "A data.frame: 3 × 2\n",
       "\\begin{tabular}{r|ll}\n",
       "  & Incidence.of.no.nausea & Incidence.of.Nausea\\\\\n",
       "  & <int> & <int>\\\\\n",
       "\\hline\n",
       "\tChlorpromazine & 100 & 52\\\\\n",
       "\tPentobarbital(100mg) &  32 & 35\\\\\n",
       "\tPentobarbital(150mg) &  48 & 37\\\\\n",
       "\\end{tabular}\n"
      ],
      "text/markdown": [
       "\n",
       "A data.frame: 3 × 2\n",
       "\n",
       "| <!--/--> | Incidence.of.no.nausea &lt;int&gt; | Incidence.of.Nausea &lt;int&gt; |\n",
       "|---|---|---|\n",
       "| Chlorpromazine | 100 | 52 |\n",
       "| Pentobarbital(100mg) |  32 | 35 |\n",
       "| Pentobarbital(150mg) |  48 | 37 |\n",
       "\n"
      ],
      "text/plain": [
       "                     Incidence.of.no.nausea Incidence.of.Nausea\n",
       "Chlorpromazine       100                    52                 \n",
       "Pentobarbital(100mg)  32                    35                 \n",
       "Pentobarbital(150mg)  48                    37                 "
      ]
     },
     "metadata": {},
     "output_type": "display_data"
    },
    {
     "data": {
      "text/plain": [
       "\n",
       "\tPearson's Chi-squared test\n",
       "\n",
       "data:  nausea\n",
       "X-squared = 6.6248, df = 2, p-value = 0.03643\n"
      ]
     },
     "metadata": {},
     "output_type": "display_data"
    }
   ],
   "source": [
    "nausea = read.table(\"/Users/Wes/Downloads/nauseatable.txt\",header=TRUE)\n",
    "View(nausea)\n",
    "z = chisq.test(nausea) ; z\n",
    "#--> p-value = 0.03643"
   ]
  },
  {
   "cell_type": "code",
   "execution_count": 3,
   "metadata": {},
   "outputs": [
    {
     "data": {
      "text/html": [
       "<table class=\"dataframe\">\n",
       "<caption>A matrix: 3 × 2 of type dbl</caption>\n",
       "<thead>\n",
       "\t<tr><th></th><th scope=col>Incidence.of.no.nausea</th><th scope=col>Incidence.of.Nausea</th></tr>\n",
       "</thead>\n",
       "<tbody>\n",
       "\t<tr><th scope=row>Chlorpromazine</th><td>90.00000</td><td>62.00000</td></tr>\n",
       "\t<tr><th scope=row>Pentobarbital(100mg)</th><td>39.67105</td><td>27.32895</td></tr>\n",
       "\t<tr><th scope=row>Pentobarbital(150mg)</th><td>50.32895</td><td>34.67105</td></tr>\n",
       "</tbody>\n",
       "</table>\n"
      ],
      "text/latex": [
       "A matrix: 3 × 2 of type dbl\n",
       "\\begin{tabular}{r|ll}\n",
       "  & Incidence.of.no.nausea & Incidence.of.Nausea\\\\\n",
       "\\hline\n",
       "\tChlorpromazine & 90.00000 & 62.00000\\\\\n",
       "\tPentobarbital(100mg) & 39.67105 & 27.32895\\\\\n",
       "\tPentobarbital(150mg) & 50.32895 & 34.67105\\\\\n",
       "\\end{tabular}\n"
      ],
      "text/markdown": [
       "\n",
       "A matrix: 3 × 2 of type dbl\n",
       "\n",
       "| <!--/--> | Incidence.of.no.nausea | Incidence.of.Nausea |\n",
       "|---|---|---|\n",
       "| Chlorpromazine | 90.00000 | 62.00000 |\n",
       "| Pentobarbital(100mg) | 39.67105 | 27.32895 |\n",
       "| Pentobarbital(150mg) | 50.32895 | 34.67105 |\n",
       "\n"
      ],
      "text/plain": [
       "                     Incidence.of.no.nausea Incidence.of.Nausea\n",
       "Chlorpromazine       90.00000               62.00000           \n",
       "Pentobarbital(100mg) 39.67105               27.32895           \n",
       "Pentobarbital(150mg) 50.32895               34.67105           "
      ]
     },
     "metadata": {},
     "output_type": "display_data"
    },
    {
     "data": {
      "text/html": [
       "<table class=\"dataframe\">\n",
       "<caption>A matrix: 3 × 2 of type int</caption>\n",
       "<thead>\n",
       "\t<tr><th></th><th scope=col>Incidence.of.no.nausea</th><th scope=col>Incidence.of.Nausea</th></tr>\n",
       "</thead>\n",
       "<tbody>\n",
       "\t<tr><th scope=row>Chlorpromazine</th><td>100</td><td>52</td></tr>\n",
       "\t<tr><th scope=row>Pentobarbital(100mg)</th><td> 32</td><td>35</td></tr>\n",
       "\t<tr><th scope=row>Pentobarbital(150mg)</th><td> 48</td><td>37</td></tr>\n",
       "</tbody>\n",
       "</table>\n"
      ],
      "text/latex": [
       "A matrix: 3 × 2 of type int\n",
       "\\begin{tabular}{r|ll}\n",
       "  & Incidence.of.no.nausea & Incidence.of.Nausea\\\\\n",
       "\\hline\n",
       "\tChlorpromazine & 100 & 52\\\\\n",
       "\tPentobarbital(100mg) &  32 & 35\\\\\n",
       "\tPentobarbital(150mg) &  48 & 37\\\\\n",
       "\\end{tabular}\n"
      ],
      "text/markdown": [
       "\n",
       "A matrix: 3 × 2 of type int\n",
       "\n",
       "| <!--/--> | Incidence.of.no.nausea | Incidence.of.Nausea |\n",
       "|---|---|---|\n",
       "| Chlorpromazine | 100 | 52 |\n",
       "| Pentobarbital(100mg) |  32 | 35 |\n",
       "| Pentobarbital(150mg) |  48 | 37 |\n",
       "\n"
      ],
      "text/plain": [
       "                     Incidence.of.no.nausea Incidence.of.Nausea\n",
       "Chlorpromazine       100                    52                 \n",
       "Pentobarbital(100mg)  32                    35                 \n",
       "Pentobarbital(150mg)  48                    37                 "
      ]
     },
     "metadata": {},
     "output_type": "display_data"
    },
    {
     "data": {
      "text/html": [
       "<table class=\"dataframe\">\n",
       "<caption>A matrix: 3 × 2 of type dbl</caption>\n",
       "<thead>\n",
       "\t<tr><th></th><th scope=col>Incidence.of.no.nausea</th><th scope=col>Incidence.of.Nausea</th></tr>\n",
       "</thead>\n",
       "<tbody>\n",
       "\t<tr><th scope=row>Chlorpromazine</th><td> 1.0540926</td><td>-1.270001</td></tr>\n",
       "\t<tr><th scope=row>Pentobarbital(100mg)</th><td>-1.2179181</td><td> 1.467383</td></tr>\n",
       "\t<tr><th scope=row>Pentobarbital(150mg)</th><td>-0.3282848</td><td> 0.395527</td></tr>\n",
       "</tbody>\n",
       "</table>\n"
      ],
      "text/latex": [
       "A matrix: 3 × 2 of type dbl\n",
       "\\begin{tabular}{r|ll}\n",
       "  & Incidence.of.no.nausea & Incidence.of.Nausea\\\\\n",
       "\\hline\n",
       "\tChlorpromazine &  1.0540926 & -1.270001\\\\\n",
       "\tPentobarbital(100mg) & -1.2179181 &  1.467383\\\\\n",
       "\tPentobarbital(150mg) & -0.3282848 &  0.395527\\\\\n",
       "\\end{tabular}\n"
      ],
      "text/markdown": [
       "\n",
       "A matrix: 3 × 2 of type dbl\n",
       "\n",
       "| <!--/--> | Incidence.of.no.nausea | Incidence.of.Nausea |\n",
       "|---|---|---|\n",
       "| Chlorpromazine |  1.0540926 | -1.270001 |\n",
       "| Pentobarbital(100mg) | -1.2179181 |  1.467383 |\n",
       "| Pentobarbital(150mg) | -0.3282848 |  0.395527 |\n",
       "\n"
      ],
      "text/plain": [
       "                     Incidence.of.no.nausea Incidence.of.Nausea\n",
       "Chlorpromazine        1.0540926             -1.270001          \n",
       "Pentobarbital(100mg) -1.2179181              1.467383          \n",
       "Pentobarbital(150mg) -0.3282848              0.395527          "
      ]
     },
     "metadata": {},
     "output_type": "display_data"
    }
   ],
   "source": [
    "z$expected #table of expected values, no need to state inconsistency since values are all bigger than 5\n",
    "z$observed # original table values\n",
    "z$residuals"
   ]
  },
  {
   "cell_type": "markdown",
   "metadata": {},
   "source": [
    "#### The different medicines work equally well against nausea?\n",
    "No, this looks like the test for homogeneity (http://analyticswithr.com/chisquare.html). \n",
    "\n",
    "if p-value is < significance level (0.05), then it's more Heterogeneous\n",
    " \n",
    "if p-value is > significance level (0.05), then it's more Homogeneous\n",
    "\n",
    "Since the p-value is 0.036, we can reject the null hypothesis and conclude that medicines and nausea levels are not independent from each other.\n",
    "\n",
    "Also, we can conclude that the samples differ in their distribution between the categories/levels, so the samples are more heterogeneous.\n",
    "\n",
    "(they do not work equally well)"
   ]
  },
  {
   "cell_type": "markdown",
   "metadata": {},
   "source": [
    "---"
   ]
  },
  {
   "cell_type": "markdown",
   "metadata": {},
   "source": [
    "### b)  Perform a permutation test in order to test whether the different medicines work equally well against nausea. Permute the medicine labels for this purpose. Use as test statistic the chisquare test statistic for contingency tables, which can be extracted from the output of the command chisq.test. (Hint: make a data frame in R consisting of two columns. One column should contain an indicator whether or not the patient in that row suffered from nausea, and the other column should indicate the medicine.)"
   ]
  },
  {
   "cell_type": "markdown",
   "metadata": {},
   "source": [
    "#### create dataframe of two factors (nausea_level and medicine)\n"
   ]
  },
  {
   "cell_type": "code",
   "execution_count": 5,
   "metadata": {},
   "outputs": [
    {
     "data": {
      "text/html": [
       "<table class=\"dataframe\">\n",
       "<caption>A data.frame: 304 × 2</caption>\n",
       "<thead>\n",
       "\t<tr><th scope=col>nausea_level</th><th scope=col>medicine</th></tr>\n",
       "\t<tr><th scope=col>&lt;fct&gt;</th><th scope=col>&lt;fct&gt;</th></tr>\n",
       "</thead>\n",
       "<tbody>\n",
       "\t<tr><td>no_nausea</td><td>Chlorpromazine</td></tr>\n",
       "\t<tr><td>no_nausea</td><td>Chlorpromazine</td></tr>\n",
       "\t<tr><td>no_nausea</td><td>Chlorpromazine</td></tr>\n",
       "\t<tr><td>no_nausea</td><td>Chlorpromazine</td></tr>\n",
       "\t<tr><td>no_nausea</td><td>Chlorpromazine</td></tr>\n",
       "\t<tr><td>no_nausea</td><td>Chlorpromazine</td></tr>\n",
       "\t<tr><td>no_nausea</td><td>Chlorpromazine</td></tr>\n",
       "\t<tr><td>no_nausea</td><td>Chlorpromazine</td></tr>\n",
       "\t<tr><td>no_nausea</td><td>Chlorpromazine</td></tr>\n",
       "\t<tr><td>no_nausea</td><td>Chlorpromazine</td></tr>\n",
       "\t<tr><td>no_nausea</td><td>Chlorpromazine</td></tr>\n",
       "\t<tr><td>no_nausea</td><td>Chlorpromazine</td></tr>\n",
       "\t<tr><td>no_nausea</td><td>Chlorpromazine</td></tr>\n",
       "\t<tr><td>no_nausea</td><td>Chlorpromazine</td></tr>\n",
       "\t<tr><td>no_nausea</td><td>Chlorpromazine</td></tr>\n",
       "\t<tr><td>no_nausea</td><td>Chlorpromazine</td></tr>\n",
       "\t<tr><td>no_nausea</td><td>Chlorpromazine</td></tr>\n",
       "\t<tr><td>no_nausea</td><td>Chlorpromazine</td></tr>\n",
       "\t<tr><td>no_nausea</td><td>Chlorpromazine</td></tr>\n",
       "\t<tr><td>no_nausea</td><td>Chlorpromazine</td></tr>\n",
       "\t<tr><td>no_nausea</td><td>Chlorpromazine</td></tr>\n",
       "\t<tr><td>no_nausea</td><td>Chlorpromazine</td></tr>\n",
       "\t<tr><td>no_nausea</td><td>Chlorpromazine</td></tr>\n",
       "\t<tr><td>no_nausea</td><td>Chlorpromazine</td></tr>\n",
       "\t<tr><td>no_nausea</td><td>Chlorpromazine</td></tr>\n",
       "\t<tr><td>no_nausea</td><td>Chlorpromazine</td></tr>\n",
       "\t<tr><td>no_nausea</td><td>Chlorpromazine</td></tr>\n",
       "\t<tr><td>no_nausea</td><td>Chlorpromazine</td></tr>\n",
       "\t<tr><td>no_nausea</td><td>Chlorpromazine</td></tr>\n",
       "\t<tr><td>no_nausea</td><td>Chlorpromazine</td></tr>\n",
       "\t<tr><td>⋮</td><td>⋮</td></tr>\n",
       "\t<tr><td>nausea</td><td>Pentobarbital(150mg)</td></tr>\n",
       "\t<tr><td>nausea</td><td>Pentobarbital(150mg)</td></tr>\n",
       "\t<tr><td>nausea</td><td>Pentobarbital(150mg)</td></tr>\n",
       "\t<tr><td>nausea</td><td>Pentobarbital(150mg)</td></tr>\n",
       "\t<tr><td>nausea</td><td>Pentobarbital(150mg)</td></tr>\n",
       "\t<tr><td>nausea</td><td>Pentobarbital(150mg)</td></tr>\n",
       "\t<tr><td>nausea</td><td>Pentobarbital(150mg)</td></tr>\n",
       "\t<tr><td>nausea</td><td>Pentobarbital(150mg)</td></tr>\n",
       "\t<tr><td>nausea</td><td>Pentobarbital(150mg)</td></tr>\n",
       "\t<tr><td>nausea</td><td>Pentobarbital(150mg)</td></tr>\n",
       "\t<tr><td>nausea</td><td>Pentobarbital(150mg)</td></tr>\n",
       "\t<tr><td>nausea</td><td>Pentobarbital(150mg)</td></tr>\n",
       "\t<tr><td>nausea</td><td>Pentobarbital(150mg)</td></tr>\n",
       "\t<tr><td>nausea</td><td>Pentobarbital(150mg)</td></tr>\n",
       "\t<tr><td>nausea</td><td>Pentobarbital(150mg)</td></tr>\n",
       "\t<tr><td>nausea</td><td>Pentobarbital(150mg)</td></tr>\n",
       "\t<tr><td>nausea</td><td>Pentobarbital(150mg)</td></tr>\n",
       "\t<tr><td>nausea</td><td>Pentobarbital(150mg)</td></tr>\n",
       "\t<tr><td>nausea</td><td>Pentobarbital(150mg)</td></tr>\n",
       "\t<tr><td>nausea</td><td>Pentobarbital(150mg)</td></tr>\n",
       "\t<tr><td>nausea</td><td>Pentobarbital(150mg)</td></tr>\n",
       "\t<tr><td>nausea</td><td>Pentobarbital(150mg)</td></tr>\n",
       "\t<tr><td>nausea</td><td>Pentobarbital(150mg)</td></tr>\n",
       "\t<tr><td>nausea</td><td>Pentobarbital(150mg)</td></tr>\n",
       "\t<tr><td>nausea</td><td>Pentobarbital(150mg)</td></tr>\n",
       "\t<tr><td>nausea</td><td>Pentobarbital(150mg)</td></tr>\n",
       "\t<tr><td>nausea</td><td>Pentobarbital(150mg)</td></tr>\n",
       "\t<tr><td>nausea</td><td>Pentobarbital(150mg)</td></tr>\n",
       "\t<tr><td>nausea</td><td>Pentobarbital(150mg)</td></tr>\n",
       "\t<tr><td>nausea</td><td>Pentobarbital(150mg)</td></tr>\n",
       "</tbody>\n",
       "</table>\n"
      ],
      "text/latex": [
       "A data.frame: 304 × 2\n",
       "\\begin{tabular}{ll}\n",
       " nausea\\_level & medicine\\\\\n",
       " <fct> & <fct>\\\\\n",
       "\\hline\n",
       "\t no\\_nausea & Chlorpromazine\\\\\n",
       "\t no\\_nausea & Chlorpromazine\\\\\n",
       "\t no\\_nausea & Chlorpromazine\\\\\n",
       "\t no\\_nausea & Chlorpromazine\\\\\n",
       "\t no\\_nausea & Chlorpromazine\\\\\n",
       "\t no\\_nausea & Chlorpromazine\\\\\n",
       "\t no\\_nausea & Chlorpromazine\\\\\n",
       "\t no\\_nausea & Chlorpromazine\\\\\n",
       "\t no\\_nausea & Chlorpromazine\\\\\n",
       "\t no\\_nausea & Chlorpromazine\\\\\n",
       "\t no\\_nausea & Chlorpromazine\\\\\n",
       "\t no\\_nausea & Chlorpromazine\\\\\n",
       "\t no\\_nausea & Chlorpromazine\\\\\n",
       "\t no\\_nausea & Chlorpromazine\\\\\n",
       "\t no\\_nausea & Chlorpromazine\\\\\n",
       "\t no\\_nausea & Chlorpromazine\\\\\n",
       "\t no\\_nausea & Chlorpromazine\\\\\n",
       "\t no\\_nausea & Chlorpromazine\\\\\n",
       "\t no\\_nausea & Chlorpromazine\\\\\n",
       "\t no\\_nausea & Chlorpromazine\\\\\n",
       "\t no\\_nausea & Chlorpromazine\\\\\n",
       "\t no\\_nausea & Chlorpromazine\\\\\n",
       "\t no\\_nausea & Chlorpromazine\\\\\n",
       "\t no\\_nausea & Chlorpromazine\\\\\n",
       "\t no\\_nausea & Chlorpromazine\\\\\n",
       "\t no\\_nausea & Chlorpromazine\\\\\n",
       "\t no\\_nausea & Chlorpromazine\\\\\n",
       "\t no\\_nausea & Chlorpromazine\\\\\n",
       "\t no\\_nausea & Chlorpromazine\\\\\n",
       "\t no\\_nausea & Chlorpromazine\\\\\n",
       "\t ⋮ & ⋮\\\\\n",
       "\t nausea & Pentobarbital(150mg)\\\\\n",
       "\t nausea & Pentobarbital(150mg)\\\\\n",
       "\t nausea & Pentobarbital(150mg)\\\\\n",
       "\t nausea & Pentobarbital(150mg)\\\\\n",
       "\t nausea & Pentobarbital(150mg)\\\\\n",
       "\t nausea & Pentobarbital(150mg)\\\\\n",
       "\t nausea & Pentobarbital(150mg)\\\\\n",
       "\t nausea & Pentobarbital(150mg)\\\\\n",
       "\t nausea & Pentobarbital(150mg)\\\\\n",
       "\t nausea & Pentobarbital(150mg)\\\\\n",
       "\t nausea & Pentobarbital(150mg)\\\\\n",
       "\t nausea & Pentobarbital(150mg)\\\\\n",
       "\t nausea & Pentobarbital(150mg)\\\\\n",
       "\t nausea & Pentobarbital(150mg)\\\\\n",
       "\t nausea & Pentobarbital(150mg)\\\\\n",
       "\t nausea & Pentobarbital(150mg)\\\\\n",
       "\t nausea & Pentobarbital(150mg)\\\\\n",
       "\t nausea & Pentobarbital(150mg)\\\\\n",
       "\t nausea & Pentobarbital(150mg)\\\\\n",
       "\t nausea & Pentobarbital(150mg)\\\\\n",
       "\t nausea & Pentobarbital(150mg)\\\\\n",
       "\t nausea & Pentobarbital(150mg)\\\\\n",
       "\t nausea & Pentobarbital(150mg)\\\\\n",
       "\t nausea & Pentobarbital(150mg)\\\\\n",
       "\t nausea & Pentobarbital(150mg)\\\\\n",
       "\t nausea & Pentobarbital(150mg)\\\\\n",
       "\t nausea & Pentobarbital(150mg)\\\\\n",
       "\t nausea & Pentobarbital(150mg)\\\\\n",
       "\t nausea & Pentobarbital(150mg)\\\\\n",
       "\t nausea & Pentobarbital(150mg)\\\\\n",
       "\\end{tabular}\n"
      ],
      "text/markdown": [
       "\n",
       "A data.frame: 304 × 2\n",
       "\n",
       "| nausea_level &lt;fct&gt; | medicine &lt;fct&gt; |\n",
       "|---|---|\n",
       "| no_nausea | Chlorpromazine |\n",
       "| no_nausea | Chlorpromazine |\n",
       "| no_nausea | Chlorpromazine |\n",
       "| no_nausea | Chlorpromazine |\n",
       "| no_nausea | Chlorpromazine |\n",
       "| no_nausea | Chlorpromazine |\n",
       "| no_nausea | Chlorpromazine |\n",
       "| no_nausea | Chlorpromazine |\n",
       "| no_nausea | Chlorpromazine |\n",
       "| no_nausea | Chlorpromazine |\n",
       "| no_nausea | Chlorpromazine |\n",
       "| no_nausea | Chlorpromazine |\n",
       "| no_nausea | Chlorpromazine |\n",
       "| no_nausea | Chlorpromazine |\n",
       "| no_nausea | Chlorpromazine |\n",
       "| no_nausea | Chlorpromazine |\n",
       "| no_nausea | Chlorpromazine |\n",
       "| no_nausea | Chlorpromazine |\n",
       "| no_nausea | Chlorpromazine |\n",
       "| no_nausea | Chlorpromazine |\n",
       "| no_nausea | Chlorpromazine |\n",
       "| no_nausea | Chlorpromazine |\n",
       "| no_nausea | Chlorpromazine |\n",
       "| no_nausea | Chlorpromazine |\n",
       "| no_nausea | Chlorpromazine |\n",
       "| no_nausea | Chlorpromazine |\n",
       "| no_nausea | Chlorpromazine |\n",
       "| no_nausea | Chlorpromazine |\n",
       "| no_nausea | Chlorpromazine |\n",
       "| no_nausea | Chlorpromazine |\n",
       "| ⋮ | ⋮ |\n",
       "| nausea | Pentobarbital(150mg) |\n",
       "| nausea | Pentobarbital(150mg) |\n",
       "| nausea | Pentobarbital(150mg) |\n",
       "| nausea | Pentobarbital(150mg) |\n",
       "| nausea | Pentobarbital(150mg) |\n",
       "| nausea | Pentobarbital(150mg) |\n",
       "| nausea | Pentobarbital(150mg) |\n",
       "| nausea | Pentobarbital(150mg) |\n",
       "| nausea | Pentobarbital(150mg) |\n",
       "| nausea | Pentobarbital(150mg) |\n",
       "| nausea | Pentobarbital(150mg) |\n",
       "| nausea | Pentobarbital(150mg) |\n",
       "| nausea | Pentobarbital(150mg) |\n",
       "| nausea | Pentobarbital(150mg) |\n",
       "| nausea | Pentobarbital(150mg) |\n",
       "| nausea | Pentobarbital(150mg) |\n",
       "| nausea | Pentobarbital(150mg) |\n",
       "| nausea | Pentobarbital(150mg) |\n",
       "| nausea | Pentobarbital(150mg) |\n",
       "| nausea | Pentobarbital(150mg) |\n",
       "| nausea | Pentobarbital(150mg) |\n",
       "| nausea | Pentobarbital(150mg) |\n",
       "| nausea | Pentobarbital(150mg) |\n",
       "| nausea | Pentobarbital(150mg) |\n",
       "| nausea | Pentobarbital(150mg) |\n",
       "| nausea | Pentobarbital(150mg) |\n",
       "| nausea | Pentobarbital(150mg) |\n",
       "| nausea | Pentobarbital(150mg) |\n",
       "| nausea | Pentobarbital(150mg) |\n",
       "| nausea | Pentobarbital(150mg) |\n",
       "\n"
      ],
      "text/plain": [
       "    nausea_level medicine            \n",
       "1   no_nausea    Chlorpromazine      \n",
       "2   no_nausea    Chlorpromazine      \n",
       "3   no_nausea    Chlorpromazine      \n",
       "4   no_nausea    Chlorpromazine      \n",
       "5   no_nausea    Chlorpromazine      \n",
       "6   no_nausea    Chlorpromazine      \n",
       "7   no_nausea    Chlorpromazine      \n",
       "8   no_nausea    Chlorpromazine      \n",
       "9   no_nausea    Chlorpromazine      \n",
       "10  no_nausea    Chlorpromazine      \n",
       "11  no_nausea    Chlorpromazine      \n",
       "12  no_nausea    Chlorpromazine      \n",
       "13  no_nausea    Chlorpromazine      \n",
       "14  no_nausea    Chlorpromazine      \n",
       "15  no_nausea    Chlorpromazine      \n",
       "16  no_nausea    Chlorpromazine      \n",
       "17  no_nausea    Chlorpromazine      \n",
       "18  no_nausea    Chlorpromazine      \n",
       "19  no_nausea    Chlorpromazine      \n",
       "20  no_nausea    Chlorpromazine      \n",
       "21  no_nausea    Chlorpromazine      \n",
       "22  no_nausea    Chlorpromazine      \n",
       "23  no_nausea    Chlorpromazine      \n",
       "24  no_nausea    Chlorpromazine      \n",
       "25  no_nausea    Chlorpromazine      \n",
       "26  no_nausea    Chlorpromazine      \n",
       "27  no_nausea    Chlorpromazine      \n",
       "28  no_nausea    Chlorpromazine      \n",
       "29  no_nausea    Chlorpromazine      \n",
       "30  no_nausea    Chlorpromazine      \n",
       "⋮   ⋮            ⋮                   \n",
       "275 nausea       Pentobarbital(150mg)\n",
       "276 nausea       Pentobarbital(150mg)\n",
       "277 nausea       Pentobarbital(150mg)\n",
       "278 nausea       Pentobarbital(150mg)\n",
       "279 nausea       Pentobarbital(150mg)\n",
       "280 nausea       Pentobarbital(150mg)\n",
       "281 nausea       Pentobarbital(150mg)\n",
       "282 nausea       Pentobarbital(150mg)\n",
       "283 nausea       Pentobarbital(150mg)\n",
       "284 nausea       Pentobarbital(150mg)\n",
       "285 nausea       Pentobarbital(150mg)\n",
       "286 nausea       Pentobarbital(150mg)\n",
       "287 nausea       Pentobarbital(150mg)\n",
       "288 nausea       Pentobarbital(150mg)\n",
       "289 nausea       Pentobarbital(150mg)\n",
       "290 nausea       Pentobarbital(150mg)\n",
       "291 nausea       Pentobarbital(150mg)\n",
       "292 nausea       Pentobarbital(150mg)\n",
       "293 nausea       Pentobarbital(150mg)\n",
       "294 nausea       Pentobarbital(150mg)\n",
       "295 nausea       Pentobarbital(150mg)\n",
       "296 nausea       Pentobarbital(150mg)\n",
       "297 nausea       Pentobarbital(150mg)\n",
       "298 nausea       Pentobarbital(150mg)\n",
       "299 nausea       Pentobarbital(150mg)\n",
       "300 nausea       Pentobarbital(150mg)\n",
       "301 nausea       Pentobarbital(150mg)\n",
       "302 nausea       Pentobarbital(150mg)\n",
       "303 nausea       Pentobarbital(150mg)\n",
       "304 nausea       Pentobarbital(150mg)"
      ]
     },
     "metadata": {},
     "output_type": "display_data"
    }
   ],
   "source": [
    "medicine = factor(rep(1:3,c(152,67,85)), labels = c(\"Chlorpromazine\",\"Pentobarbital(100mg)\",\"Pentobarbital(150mg)\"))\n",
    "nausea_level = factor(rep(1:6,c(100,52,32,35,48,37)), labels = c(\"no_nausea\", \"nausea\",\"no_nausea\", \"nausea\",\"no_nausea\", \"nausea\"))\n",
    "perm_df = data.frame(nausea_level,medicine)\n",
    "perm_df"
   ]
  },
  {
   "cell_type": "markdown",
   "metadata": {},
   "source": [
    "#### Perform permutation test itself"
   ]
  },
  {
   "cell_type": "code",
   "execution_count": 8,
   "metadata": {},
   "outputs": [
    {
     "name": "stderr",
     "output_type": "stream",
     "text": [
      "The following objects are masked _by_ .GlobalEnv:\n",
      "\n",
      "    medicine, nausea_level\n",
      "\n",
      "\n",
      "The following objects are masked from perm_df (pos = 3):\n",
      "\n",
      "    medicine, nausea_level\n",
      "\n",
      "\n",
      "The following objects are masked from perm_df (pos = 4):\n",
      "\n",
      "    medicine, nausea_level\n",
      "\n",
      "\n"
     ]
    },
    {
     "data": {
      "text/html": [
       "<strong>X-squared:</strong> 6.62476460203725"
      ],
      "text/latex": [
       "\\textbf{X-squared:} 6.62476460203725"
      ],
      "text/markdown": [
       "**X-squared:** 6.62476460203725"
      ],
      "text/plain": [
       "X-squared \n",
       " 6.624765 "
      ]
     },
     "metadata": {},
     "output_type": "display_data"
    },
    {
     "data": {
      "text/html": [
       "0.036"
      ],
      "text/latex": [
       "0.036"
      ],
      "text/markdown": [
       "0.036"
      ],
      "text/plain": [
       "[1] 0.036"
      ]
     },
     "metadata": {},
     "output_type": "display_data"
    },
    {
     "data": {
      "image/png": "[encoded data removed]",
      "text/plain": [
       "Plot with title “Histogram of tstar”"
      ]
     },
     "metadata": {
      "image/png": {
       "height": 420,
       "width": 420
      }
     },
     "output_type": "display_data"
    }
   ],
   "source": [
    "attach(perm_df)\n",
    "mystat=function(x,y)  chisq.test(x,y)$statistic\n",
    "\n",
    "B=10000\n",
    "tstar=numeric(B)\n",
    "for (i in 1:B) {\n",
    "  medicinestar=sample(medicine)    ## permuting the labels\n",
    "  tstar[i]=mystat(nausea_level, medicinestar) }\n",
    "myt=mystat(nausea_level,medicine)\n",
    "\n",
    "hist(tstar)\n",
    "myt\n",
    "\n",
    "pl=sum(tstar<myt)/B\n",
    "pr=sum(tstar>myt)/B\n",
    "#pl\n",
    "#pr\n",
    "min(pl,pr)"
   ]
  },
  {
   "cell_type": "markdown",
   "metadata": {},
   "source": [
    "---"
   ]
  },
  {
   "cell_type": "markdown",
   "metadata": {},
   "source": [
    "### c)  Compare the p-value found by the permutation test with the p-value found from the chisquare test for contingency tables. Explain the difference/equality of the two p-values."
   ]
  },
  {
   "cell_type": "markdown",
   "metadata": {},
   "source": [
    "A random run of the permutation test (B=10000) yields a p-value of 0.036, whereas the p-value of the chisquare test for contingency tables is 0.0364.\n",
    "\n",
    "The similarity in p-values is expected, since the distributions are the same (?). \n",
    "\n",
    "The permutation consists also of the same test-statistic as the contingency table test (chisquare test)."
   ]
  },
  {
   "cell_type": "code",
   "execution_count": null,
   "metadata": {},
   "outputs": [],
   "source": []
  }
 ],
 "metadata": {
  "kernelspec": {
   "display_name": "R",
   "language": "R",
   "name": "ir"
  },
  "language_info": {
   "codemirror_mode": "r",
   "file_extension": ".r",
   "mimetype": "text/x-r-source",
   "name": "R",
   "pygments_lexer": "r",
   "version": "3.6.3"
  }
 },
 "nbformat": 4,
 "nbformat_minor": 4
}
