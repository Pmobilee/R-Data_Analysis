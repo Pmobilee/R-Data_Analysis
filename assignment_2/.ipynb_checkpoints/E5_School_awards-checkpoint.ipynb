{
 "cells": [
  {
   "cell_type": "markdown",
   "metadata": {},
   "source": [
    "# Exercise 5. School awards\n",
    "The file awards.txt contains data on the numbers of awards earned by students at one high school. Predictors of the number of awards earned include the type of program (column prog) in which the student was enrolled (1=vocational, 2=general, 3=academic) and the score on their final exam in math (column math)."
   ]
  },
  {
   "cell_type": "code",
   "execution_count": 1,
   "metadata": {},
   "outputs": [
    {
     "data": {
      "text/html": [
       "<table>\n",
       "<thead><tr><th scope=col>num_awards</th><th scope=col>prog</th><th scope=col>math</th></tr></thead>\n",
       "<tbody>\n",
       "\t<tr><td>1 </td><td>3 </td><td>41</td></tr>\n",
       "\t<tr><td>1 </td><td>1 </td><td>41</td></tr>\n",
       "\t<tr><td>1 </td><td>3 </td><td>44</td></tr>\n",
       "\t<tr><td>1 </td><td>3 </td><td>42</td></tr>\n",
       "\t<tr><td>1 </td><td>3 </td><td>40</td></tr>\n",
       "\t<tr><td>1 </td><td>1 </td><td>42</td></tr>\n",
       "</tbody>\n",
       "</table>\n"
      ],
      "text/latex": [
       "\\begin{tabular}{r|lll}\n",
       " num\\_awards & prog & math\\\\\n",
       "\\hline\n",
       "\t 1  & 3  & 41\\\\\n",
       "\t 1  & 1  & 41\\\\\n",
       "\t 1  & 3  & 44\\\\\n",
       "\t 1  & 3  & 42\\\\\n",
       "\t 1  & 3  & 40\\\\\n",
       "\t 1  & 1  & 42\\\\\n",
       "\\end{tabular}\n"
      ],
      "text/markdown": [
       "\n",
       "| num_awards | prog | math |\n",
       "|---|---|---|\n",
       "| 1  | 3  | 41 |\n",
       "| 1  | 1  | 41 |\n",
       "| 1  | 3  | 44 |\n",
       "| 1  | 3  | 42 |\n",
       "| 1  | 3  | 40 |\n",
       "| 1  | 1  | 42 |\n",
       "\n"
      ],
      "text/plain": [
       "  num_awards prog math\n",
       "1 1          3    41  \n",
       "2 1          1    41  \n",
       "3 1          3    44  \n",
       "4 1          3    42  \n",
       "5 1          3    40  \n",
       "6 1          1    42  "
      ]
     },
     "metadata": {},
     "output_type": "display_data"
    }
   ],
   "source": [
    "awardsdata = read.table('awards.txt', header=T)\n",
    "head(awardsdata)"
   ]
  },
  {
   "cell_type": "markdown",
   "metadata": {},
   "source": [
    "### 5a) Investigate whether the type of program influences the number of awards by performing a Poisson regression, without taking variable math into account. Estimate the numbers of awards for all the three types of program. Which program type is the best for the number of awards for this model?"
   ]
  },
  {
   "cell_type": "code",
   "execution_count": 2,
   "metadata": {},
   "outputs": [],
   "source": [
    "awardsdata$prog = as.factor(awardsdata$prog)"
   ]
  },
  {
   "cell_type": "code",
   "execution_count": 3,
   "metadata": {},
   "outputs": [
    {
     "data": {
      "text/plain": [
       "\n",
       "Call:\n",
       "glm(formula = num_awards ~ prog, family = poisson, data = awardsdata)\n",
       "\n",
       "Deviance Residuals: \n",
       "    Min       1Q   Median       3Q      Max  \n",
       "-1.5306  -1.0750  -0.1625   0.5027   3.1536  \n",
       "\n",
       "Coefficients:\n",
       "            Estimate Std. Error z value Pr(>|z|)   \n",
       "(Intercept)  -0.5486     0.1961  -2.797  0.00515 **\n",
       "prog2         0.7068     0.2158   3.275  0.00106 **\n",
       "prog3         0.4432     0.2463   1.799  0.07199 . \n",
       "---\n",
       "Signif. codes:  0 '***' 0.001 '**' 0.01 '*' 0.05 '.' 0.1 ' ' 1\n",
       "\n",
       "(Dispersion parameter for poisson family taken to be 1)\n",
       "\n",
       "    Null deviance: 228.83  on 199  degrees of freedom\n",
       "Residual deviance: 216.10  on 197  degrees of freedom\n",
       "AIC: 512.42\n",
       "\n",
       "Number of Fisher Scoring iterations: 5\n"
      ]
     },
     "metadata": {},
     "output_type": "display_data"
    }
   ],
   "source": [
    "awardsglm = glm(num_awards~prog, family=poisson, data=awardsdata)\n",
    "summary(awardsglm)"
   ]
  },
  {
   "cell_type": "markdown",
   "metadata": {},
   "source": [
    "With significant p-values being present for the first and second programs, it becomes clear that the type of program definitely influences the number of awards. "
   ]
  },
  {
   "cell_type": "code",
   "execution_count": 4,
   "metadata": {},
   "outputs": [
    {
     "name": "stderr",
     "output_type": "stream",
     "text": [
      "Waiting for profiling to be done...\n"
     ]
    },
    {
     "data": {
      "text/html": [
       "<table>\n",
       "<thead><tr><th></th><th scope=col>2.5 %</th><th scope=col>97.5 %</th></tr></thead>\n",
       "<tbody>\n",
       "\t<tr><th scope=row>(Intercept)</th><td>-0.95925869</td><td>-0.1873355 </td></tr>\n",
       "\t<tr><th scope=row>prog2</th><td> 0.30143506</td><td> 1.1511576 </td></tr>\n",
       "\t<tr><th scope=row>prog3</th><td>-0.03155533</td><td> 0.9389063 </td></tr>\n",
       "</tbody>\n",
       "</table>\n"
      ],
      "text/latex": [
       "\\begin{tabular}{r|ll}\n",
       "  & 2.5 \\% & 97.5 \\%\\\\\n",
       "\\hline\n",
       "\t(Intercept) & -0.95925869 & -0.1873355 \\\\\n",
       "\tprog2 &  0.30143506 &  1.1511576 \\\\\n",
       "\tprog3 & -0.03155533 &  0.9389063 \\\\\n",
       "\\end{tabular}\n"
      ],
      "text/markdown": [
       "\n",
       "| <!--/--> | 2.5 % | 97.5 % |\n",
       "|---|---|---|\n",
       "| (Intercept) | -0.95925869 | -0.1873355  |\n",
       "| prog2 |  0.30143506 |  1.1511576  |\n",
       "| prog3 | -0.03155533 |  0.9389063  |\n",
       "\n"
      ],
      "text/plain": [
       "            2.5 %       97.5 %    \n",
       "(Intercept) -0.95925869 -0.1873355\n",
       "prog2        0.30143506  1.1511576\n",
       "prog3       -0.03155533  0.9389063"
      ]
     },
     "metadata": {},
     "output_type": "display_data"
    }
   ],
   "source": [
    "confint(awardsglm)"
   ]
  },
  {
   "cell_type": "markdown",
   "metadata": {},
   "source": [
    "From this confidence interval we observe that the second program is the best for achieving awards."
   ]
  },
  {
   "cell_type": "markdown",
   "metadata": {},
   "source": [
    "### 5b) For the situation in a), can the Kruskall-Wallis test also be used? If yes, apply the test and comment on the results; if no, explain why this test cannot be used."
   ]
  },
  {
   "cell_type": "code",
   "execution_count": 5,
   "metadata": {},
   "outputs": [
    {
     "data": {
      "text/plain": [
       "\n",
       "\tKruskal-Wallis rank sum test\n",
       "\n",
       "data:  awardsdata$num_awards and awardsdata$prog\n",
       "Kruskal-Wallis chi-squared = 10.755, df = 2, p-value = 0.00462\n"
      ]
     },
     "metadata": {},
     "output_type": "display_data"
    }
   ],
   "source": [
    "kruskal.test(awardsdata$num_awards, awardsdata$prog)"
   ]
  },
  {
   "cell_type": "markdown",
   "metadata": {},
   "source": [
    "The Kruskall-Wallis test also shows significant influence of program on the number of awards, which makes sense, as the Poisson Regression test also showed this. However, situation a) is more complex than only the presence of an influence. The question also wants to know the estimated values and the best program for many awards. The Kruskall-Wallis can not provide an answer to those questions."
   ]
  },
  {
   "cell_type": "markdown",
   "metadata": {},
   "source": [
    "### 5c)  Now include predictor math into analysis and investigate the influence of the explanatory variables prog and math (and their interaction) on the numbers of awards. Which program type is the best for the number of awards? Comments on your findings. Estimate the numbers of awards for the vocational program and math score 55."
   ]
  },
  {
   "cell_type": "code",
   "execution_count": 12,
   "metadata": {},
   "outputs": [
    {
     "data": {
      "text/plain": [
       "\n",
       "Call:\n",
       "glm(formula = num_awards ~ prog * math, family = poisson, data = awardsdata)\n",
       "\n",
       "Deviance Residuals: \n",
       "     Min        1Q    Median        3Q       Max  \n",
       "-2.11193  -1.11317   0.03167   0.37709   2.44301  \n",
       "\n",
       "Coefficients:\n",
       "             Estimate Std. Error z value Pr(>|z|)\n",
       "(Intercept) -1.578440   1.391426  -1.134    0.257\n",
       "prog2       -1.061226   1.534523  -0.692    0.489\n",
       "prog3        0.962144   1.635965   0.588    0.556\n",
       "math         0.020365   0.026950   0.756    0.450\n",
       "prog2:math   0.027437   0.028969   0.947    0.344\n",
       "prog3:math  -0.009441   0.032396  -0.291    0.771\n",
       "\n",
       "(Dispersion parameter for poisson family taken to be 1)\n",
       "\n",
       "    Null deviance: 228.83  on 199  degrees of freedom\n",
       "Residual deviance: 194.36  on 194  degrees of freedom\n",
       "AIC: 496.67\n",
       "\n",
       "Number of Fisher Scoring iterations: 5\n"
      ]
     },
     "metadata": {},
     "output_type": "display_data"
    }
   ],
   "source": [
    "complete_glm = glm(num_awards~prog*math, family=poisson, data=awardsdata)\n",
    "summary(complete_glm)"
   ]
  },
  {
   "cell_type": "code",
   "execution_count": 14,
   "metadata": {},
   "outputs": [
    {
     "data": {
      "text/html": [
       "<table>\n",
       "<thead><tr><th scope=col>prog</th><th scope=col>num_awards</th></tr></thead>\n",
       "<tbody>\n",
       "\t<tr><td>1        </td><td>0.5777778</td></tr>\n",
       "\t<tr><td>2        </td><td>1.1714286</td></tr>\n",
       "\t<tr><td>3        </td><td>0.9000000</td></tr>\n",
       "</tbody>\n",
       "</table>\n"
      ],
      "text/latex": [
       "\\begin{tabular}{r|ll}\n",
       " prog & num\\_awards\\\\\n",
       "\\hline\n",
       "\t 1         & 0.5777778\\\\\n",
       "\t 2         & 1.1714286\\\\\n",
       "\t 3         & 0.9000000\\\\\n",
       "\\end{tabular}\n"
      ],
      "text/markdown": [
       "\n",
       "| prog | num_awards |\n",
       "|---|---|\n",
       "| 1         | 0.5777778 |\n",
       "| 2         | 1.1714286 |\n",
       "| 3         | 0.9000000 |\n",
       "\n"
      ],
      "text/plain": [
       "  prog num_awards\n",
       "1 1    0.5777778 \n",
       "2 2    1.1714286 \n",
       "3 3    0.9000000 "
      ]
     },
     "metadata": {},
     "output_type": "display_data"
    }
   ],
   "source": [
    "aggregate(num_awards ~ prog, awardsdata, mean)"
   ]
  },
  {
   "cell_type": "code",
   "execution_count": 26,
   "metadata": {},
   "outputs": [
    {
     "data": {
      "text/html": [
       "<table>\n",
       "<thead><tr><th scope=col>prog</th><th scope=col>num_awards</th></tr></thead>\n",
       "<tbody>\n",
       "\t<tr><td>1</td><td>1</td></tr>\n",
       "\t<tr><td>2</td><td>0</td></tr>\n",
       "\t<tr><td>3</td><td>0</td></tr>\n",
       "</tbody>\n",
       "</table>\n"
      ],
      "text/latex": [
       "\\begin{tabular}{r|ll}\n",
       " prog & num\\_awards\\\\\n",
       "\\hline\n",
       "\t 1 & 1\\\\\n",
       "\t 2 & 0\\\\\n",
       "\t 3 & 0\\\\\n",
       "\\end{tabular}\n"
      ],
      "text/markdown": [
       "\n",
       "| prog | num_awards |\n",
       "|---|---|\n",
       "| 1 | 1 |\n",
       "| 2 | 0 |\n",
       "| 3 | 0 |\n",
       "\n"
      ],
      "text/plain": [
       "  prog num_awards\n",
       "1 1    1         \n",
       "2 2    0         \n",
       "3 3    0         "
      ]
     },
     "metadata": {},
     "output_type": "display_data"
    },
    {
     "data": {
      "text/html": [
       "<table>\n",
       "<thead><tr><th></th><th scope=col>num_awards</th><th scope=col>prog</th><th scope=col>math</th></tr></thead>\n",
       "<tbody>\n",
       "\t<tr><th scope=row>77</th><td>0 </td><td>3 </td><td>55</td></tr>\n",
       "\t<tr><th scope=row>92</th><td>1 </td><td>1 </td><td>55</td></tr>\n",
       "\t<tr><th scope=row>108</th><td>1 </td><td>1 </td><td>55</td></tr>\n",
       "\t<tr><th scope=row>129</th><td>0 </td><td>2 </td><td>55</td></tr>\n",
       "\t<tr><th scope=row>149</th><td>0 </td><td>2 </td><td>55</td></tr>\n",
       "</tbody>\n",
       "</table>\n"
      ],
      "text/latex": [
       "\\begin{tabular}{r|lll}\n",
       "  & num\\_awards & prog & math\\\\\n",
       "\\hline\n",
       "\t77 & 0  & 3  & 55\\\\\n",
       "\t92 & 1  & 1  & 55\\\\\n",
       "\t108 & 1  & 1  & 55\\\\\n",
       "\t129 & 0  & 2  & 55\\\\\n",
       "\t149 & 0  & 2  & 55\\\\\n",
       "\\end{tabular}\n"
      ],
      "text/markdown": [
       "\n",
       "| <!--/--> | num_awards | prog | math |\n",
       "|---|---|---|---|\n",
       "| 77 | 0  | 3  | 55 |\n",
       "| 92 | 1  | 1  | 55 |\n",
       "| 108 | 1  | 1  | 55 |\n",
       "| 129 | 0  | 2  | 55 |\n",
       "| 149 | 0  | 2  | 55 |\n",
       "\n"
      ],
      "text/plain": [
       "    num_awards prog math\n",
       "77  0          3    55  \n",
       "92  1          1    55  \n",
       "108 1          1    55  \n",
       "129 0          2    55  \n",
       "149 0          2    55  "
      ]
     },
     "metadata": {},
     "output_type": "display_data"
    }
   ],
   "source": [
    "awards_math55 = subset(awardsdata, math==55)\n",
    "aggregate(num_awards ~ prog, awards_math55, mean)\n",
    "awards_math55"
   ]
  },
  {
   "cell_type": "markdown",
   "metadata": {},
   "source": [
    "The second program is the best for the number of awards, and when the math score is 55, the estimates for the amount of awards is 1 for the 1st program and 0 for the 2nd and 3rd programs."
   ]
  }
 ],
 "metadata": {
  "kernelspec": {
   "display_name": "R",
   "language": "R",
   "name": "ir"
  },
  "language_info": {
   "codemirror_mode": "r",
   "file_extension": ".r",
   "mimetype": "text/x-r-source",
   "name": "R",
   "pygments_lexer": "r",
   "version": "3.6.1"
  }
 },
 "nbformat": 4,
 "nbformat_minor": 2
}
