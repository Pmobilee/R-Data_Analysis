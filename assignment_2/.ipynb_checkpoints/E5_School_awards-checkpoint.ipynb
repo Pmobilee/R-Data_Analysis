{
 "cells": [
  {
   "cell_type": "markdown",
   "metadata": {},
   "source": [
    "# Exercise 5. School awards\n",
    "The file awards.txt contains data on the numbers of awards earned by students at one high school. Predictors of the number of awards earned include the type of program (column prog) in which the student was enrolled (1=vocational, 2=general, 3=academic) and the score on their final exam in math (column math)."
   ]
  },
  {
   "cell_type": "code",
   "execution_count": 1,
   "metadata": {},
   "outputs": [
    {
     "data": {
      "text/html": [
       "<table>\n",
       "<thead><tr><th scope=col>num_awards</th><th scope=col>prog</th><th scope=col>math</th></tr></thead>\n",
       "<tbody>\n",
       "\t<tr><td>1 </td><td>3 </td><td>41</td></tr>\n",
       "\t<tr><td>1 </td><td>1 </td><td>41</td></tr>\n",
       "\t<tr><td>1 </td><td>3 </td><td>44</td></tr>\n",
       "\t<tr><td>1 </td><td>3 </td><td>42</td></tr>\n",
       "\t<tr><td>1 </td><td>3 </td><td>40</td></tr>\n",
       "\t<tr><td>1 </td><td>1 </td><td>42</td></tr>\n",
       "</tbody>\n",
       "</table>\n"
      ],
      "text/latex": [
       "\\begin{tabular}{r|lll}\n",
       " num\\_awards & prog & math\\\\\n",
       "\\hline\n",
       "\t 1  & 3  & 41\\\\\n",
       "\t 1  & 1  & 41\\\\\n",
       "\t 1  & 3  & 44\\\\\n",
       "\t 1  & 3  & 42\\\\\n",
       "\t 1  & 3  & 40\\\\\n",
       "\t 1  & 1  & 42\\\\\n",
       "\\end{tabular}\n"
      ],
      "text/markdown": [
       "\n",
       "| num_awards | prog | math |\n",
       "|---|---|---|\n",
       "| 1  | 3  | 41 |\n",
       "| 1  | 1  | 41 |\n",
       "| 1  | 3  | 44 |\n",
       "| 1  | 3  | 42 |\n",
       "| 1  | 3  | 40 |\n",
       "| 1  | 1  | 42 |\n",
       "\n"
      ],
      "text/plain": [
       "  num_awards prog math\n",
       "1 1          3    41  \n",
       "2 1          1    41  \n",
       "3 1          3    44  \n",
       "4 1          3    42  \n",
       "5 1          3    40  \n",
       "6 1          1    42  "
      ]
     },
     "metadata": {},
     "output_type": "display_data"
    }
   ],
   "source": [
    "awardsdata = read.table('awards.txt', header=T)\n",
    "plot(awardsdata)"
   ]
  },
  {
   "cell_type": "markdown",
   "metadata": {},
   "source": [
    "### 5a) Investigate whether the type of program influences the number of awards by performing a Poisson regression, without taking variable math into account. Estimate the numbers of awards for all the three types of program. Which program type is the best for the number of awards for this model?"
   ]
  },
  {
   "cell_type": "code",
   "execution_count": 2,
   "metadata": {},
   "outputs": [],
   "source": [
    "awardsdata$prog = as.factor(awardsdata$prog)"
   ]
  },
  {
   "cell_type": "code",
   "execution_count": 3,
   "metadata": {},
   "outputs": [
    {
     "data": {
      "text/plain": [
       "\n",
       "Call:\n",
       "glm(formula = num_awards ~ prog, family = poisson, data = awardsdata)\n",
       "\n",
       "Deviance Residuals: \n",
       "    Min       1Q   Median       3Q      Max  \n",
       "-1.5306  -1.0750  -0.1625   0.5027   3.1536  \n",
       "\n",
       "Coefficients:\n",
       "            Estimate Std. Error z value Pr(>|z|)   \n",
       "(Intercept)  -0.5486     0.1961  -2.797  0.00515 **\n",
       "prog2         0.7068     0.2158   3.275  0.00106 **\n",
       "prog3         0.4432     0.2463   1.799  0.07199 . \n",
       "---\n",
       "Signif. codes:  0 '***' 0.001 '**' 0.01 '*' 0.05 '.' 0.1 ' ' 1\n",
       "\n",
       "(Dispersion parameter for poisson family taken to be 1)\n",
       "\n",
       "    Null deviance: 228.83  on 199  degrees of freedom\n",
       "Residual deviance: 216.10  on 197  degrees of freedom\n",
       "AIC: 512.42\n",
       "\n",
       "Number of Fisher Scoring iterations: 5\n"
      ]
     },
     "metadata": {},
     "output_type": "display_data"
    }
   ],
   "source": [
    "awardsglm = glm(num_awards~prog, family=poisson, data=awardsdata)\n",
    "summary(awardsglm)"
   ]
  },
  {
   "cell_type": "markdown",
   "metadata": {},
   "source": [
    "With significant p-values being present for the first and second programs, it becomes clear that the type of program definitely influences the number of awards. "
   ]
  },
  {
   "cell_type": "code",
   "execution_count": 10,
   "metadata": {},
   "outputs": [
    {
     "name": "stderr",
     "output_type": "stream",
     "text": [
      "Waiting for profiling to be done...\n"
     ]
    },
    {
     "data": {
      "text/html": [
       "<table>\n",
       "<thead><tr><th></th><th scope=col>2.5 %</th><th scope=col>97.5 %</th></tr></thead>\n",
       "<tbody>\n",
       "\t<tr><th scope=row>(Intercept)</th><td>-0.95925869</td><td>-0.1873355 </td></tr>\n",
       "\t<tr><th scope=row>prog2</th><td> 0.30143506</td><td> 1.1511576 </td></tr>\n",
       "\t<tr><th scope=row>prog3</th><td>-0.03155533</td><td> 0.9389063 </td></tr>\n",
       "</tbody>\n",
       "</table>\n"
      ],
      "text/latex": [
       "\\begin{tabular}{r|ll}\n",
       "  & 2.5 \\% & 97.5 \\%\\\\\n",
       "\\hline\n",
       "\t(Intercept) & -0.95925869 & -0.1873355 \\\\\n",
       "\tprog2 &  0.30143506 &  1.1511576 \\\\\n",
       "\tprog3 & -0.03155533 &  0.9389063 \\\\\n",
       "\\end{tabular}\n"
      ],
      "text/markdown": [
       "\n",
       "| <!--/--> | 2.5 % | 97.5 % |\n",
       "|---|---|---|\n",
       "| (Intercept) | -0.95925869 | -0.1873355  |\n",
       "| prog2 |  0.30143506 |  1.1511576  |\n",
       "| prog3 | -0.03155533 |  0.9389063  |\n",
       "\n"
      ],
      "text/plain": [
       "            2.5 %       97.5 %    \n",
       "(Intercept) -0.95925869 -0.1873355\n",
       "prog2        0.30143506  1.1511576\n",
       "prog3       -0.03155533  0.9389063"
      ]
     },
     "metadata": {},
     "output_type": "display_data"
    }
   ],
   "source": [
    "confint(awardsglm)"
   ]
  },
  {
   "cell_type": "markdown",
   "metadata": {},
   "source": [
    "From this confidence interval we observe that the second program is the best for achieving awards."
   ]
  },
  {
   "cell_type": "markdown",
   "metadata": {},
   "source": [
    "### 5b) For the situation in a), can the Kruskall-Wallis test also be used? If yes, apply the test and comment on the results; if no, explain why this test cannot be used."
   ]
  },
  {
   "cell_type": "markdown",
   "metadata": {},
   "source": [
    "### 5c)  Now include predictor math into analysis and investigate the influence of the explanatory variables prog and math (and their interaction) on the numbers of awards. Which program type is the best for the number of awards? Comments on your findings. Estimate the numbers of awards for the vocational program and math score 55."
   ]
  }
 ],
 "metadata": {
  "kernelspec": {
   "display_name": "R",
   "language": "R",
   "name": "ir"
  },
  "language_info": {
   "codemirror_mode": "r",
   "file_extension": ".r",
   "mimetype": "text/x-r-source",
   "name": "R",
   "pygments_lexer": "r",
   "version": "3.6.1"
  }
 },
 "nbformat": 4,
 "nbformat_minor": 2
}
