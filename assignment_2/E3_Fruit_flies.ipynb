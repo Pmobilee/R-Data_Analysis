{
 "cells": [
  {
   "cell_type": "markdown",
   "metadata": {},
   "source": [
    "# Exercise 3. Fruit Flies"
   ]
  },
  {
   "cell_type": "markdown",
   "metadata": {},
   "source": [
    "![picture 3](../images/7f174e16e99a70ca7e1d64c76743e52c1b6aa296944479dbaaeae3b29b8a75f0.png)  \n",
    "\n",
    "### 3a)  Make an informative plot of the data. Investigate whether sexual activity influences longevity by performing a statistical test, without taking the thorax length into account. What are the estimated longevities for the three conditions? Comment."
   ]
  },
  {
   "cell_type": "code",
   "execution_count": 2,
   "metadata": {},
   "outputs": [
    {
     "data": {
      "text/html": [
       "<table>\n",
       "<thead><tr><th scope=col>thorax</th><th scope=col>longevity</th><th scope=col>activity</th><th scope=col>loglongevity</th></tr></thead>\n",
       "<tbody>\n",
       "\t<tr><td>0.64    </td><td>40      </td><td>isolated</td><td>3.688879</td></tr>\n",
       "\t<tr><td>0.70    </td><td>37      </td><td>isolated</td><td>3.610918</td></tr>\n",
       "\t<tr><td>0.72    </td><td>44      </td><td>isolated</td><td>3.784190</td></tr>\n",
       "\t<tr><td>0.72    </td><td>47      </td><td>isolated</td><td>3.850148</td></tr>\n",
       "\t<tr><td>0.72    </td><td>47      </td><td>isolated</td><td>3.850148</td></tr>\n",
       "\t<tr><td>0.76    </td><td>47      </td><td>isolated</td><td>3.850148</td></tr>\n",
       "</tbody>\n",
       "</table>\n"
      ],
      "text/latex": [
       "\\begin{tabular}{r|llll}\n",
       " thorax & longevity & activity & loglongevity\\\\\n",
       "\\hline\n",
       "\t 0.64     & 40       & isolated & 3.688879\\\\\n",
       "\t 0.70     & 37       & isolated & 3.610918\\\\\n",
       "\t 0.72     & 44       & isolated & 3.784190\\\\\n",
       "\t 0.72     & 47       & isolated & 3.850148\\\\\n",
       "\t 0.72     & 47       & isolated & 3.850148\\\\\n",
       "\t 0.76     & 47       & isolated & 3.850148\\\\\n",
       "\\end{tabular}\n"
      ],
      "text/markdown": [
       "\n",
       "| thorax | longevity | activity | loglongevity |\n",
       "|---|---|---|---|\n",
       "| 0.64     | 40       | isolated | 3.688879 |\n",
       "| 0.70     | 37       | isolated | 3.610918 |\n",
       "| 0.72     | 44       | isolated | 3.784190 |\n",
       "| 0.72     | 47       | isolated | 3.850148 |\n",
       "| 0.72     | 47       | isolated | 3.850148 |\n",
       "| 0.76     | 47       | isolated | 3.850148 |\n",
       "\n"
      ],
      "text/plain": [
       "  thorax longevity activity loglongevity\n",
       "1 0.64   40        isolated 3.688879    \n",
       "2 0.70   37        isolated 3.610918    \n",
       "3 0.72   44        isolated 3.784190    \n",
       "4 0.72   47        isolated 3.850148    \n",
       "5 0.72   47        isolated 3.850148    \n",
       "6 0.76   47        isolated 3.850148    "
      ]
     },
     "metadata": {},
     "output_type": "display_data"
    }
   ],
   "source": [
    "fruitflies = read.table('fruitflies.txt', header=T)\n",
    "fruitflies$loglongevity = log(fruitflies$longevity)\n",
    "attach((fruitflies))\n",
    "head(fruitflies)"
   ]
  },
  {
   "cell_type": "markdown",
   "metadata": {},
   "source": [
    "#### Make an informative plot of the data."
   ]
  },
  {
   "cell_type": "code",
   "execution_count": 3,
   "metadata": {},
   "outputs": [
    {
     "data": {
      "image/png": "[encoded data removed]",
      "text/plain": [
       "plot without title"
      ]
     },
     "metadata": {},
     "output_type": "display_data"
    }
   ],
   "source": [
    "pairs(fruitflies)"
   ]
  },
  {
   "cell_type": "markdown",
   "metadata": {},
   "source": [
    "### Investigate whether sexual activity influences longevity by performing a statistical test, without taking the thorax length into account. "
   ]
  },
  {
   "cell_type": "code",
   "execution_count": 4,
   "metadata": {},
   "outputs": [
    {
     "data": {
      "text/html": [
       "<table>\n",
       "<thead><tr><th></th><th scope=col>Df</th><th scope=col>Sum Sq</th><th scope=col>Mean Sq</th><th scope=col>F value</th><th scope=col>Pr(&gt;F)</th></tr></thead>\n",
       "<tbody>\n",
       "\t<tr><th scope=row>fruitflies$activity</th><td> 2          </td><td>3.666493    </td><td>1.83324651  </td><td>19.42061    </td><td>1.797719e-07</td></tr>\n",
       "\t<tr><th scope=row>Residuals</th><td>72          </td><td>6.796579    </td><td>0.09439694  </td><td>      NA    </td><td>          NA</td></tr>\n",
       "</tbody>\n",
       "</table>\n"
      ],
      "text/latex": [
       "\\begin{tabular}{r|lllll}\n",
       "  & Df & Sum Sq & Mean Sq & F value & Pr(>F)\\\\\n",
       "\\hline\n",
       "\tfruitflies\\$activity &  2           & 3.666493     & 1.83324651   & 19.42061     & 1.797719e-07\\\\\n",
       "\tResiduals & 72           & 6.796579     & 0.09439694   &       NA     &           NA\\\\\n",
       "\\end{tabular}\n"
      ],
      "text/markdown": [
       "\n",
       "| <!--/--> | Df | Sum Sq | Mean Sq | F value | Pr(>F) |\n",
       "|---|---|---|---|---|---|\n",
       "| fruitflies$activity |  2           | 3.666493     | 1.83324651   | 19.42061     | 1.797719e-07 |\n",
       "| Residuals | 72           | 6.796579     | 0.09439694   |       NA     |           NA |\n",
       "\n"
      ],
      "text/plain": [
       "                    Df Sum Sq   Mean Sq    F value  Pr(>F)      \n",
       "fruitflies$activity  2 3.666493 1.83324651 19.42061 1.797719e-07\n",
       "Residuals           72 6.796579 0.09439694       NA           NA"
      ]
     },
     "metadata": {},
     "output_type": "display_data"
    }
   ],
   "source": [
    "fruitflies$activity = factor(fruitflies$activity)\n",
    "fruitaov = lm(fruitflies$loglongevity ~ fruitflies$activity)\n",
    "anova(fruitaov)"
   ]
  },
  {
   "cell_type": "code",
   "execution_count": 5,
   "metadata": {},
   "outputs": [
    {
     "data": {
      "text/plain": [
       "\n",
       "Call:\n",
       "lm(formula = fruitflies$loglongevity ~ fruitflies$activity)\n",
       "\n",
       "Residuals:\n",
       "     Min       1Q   Median       3Q      Max \n",
       "-0.95531 -0.13338  0.02552  0.20891  0.49222 \n",
       "\n",
       "Coefficients:\n",
       "                            Estimate Std. Error t value Pr(>|t|)    \n",
       "(Intercept)                  3.60212    0.06145  58.621  < 2e-16 ***\n",
       "fruitflies$activityisolated  0.51722    0.08690   5.952 8.82e-08 ***\n",
       "fruitflies$activitylow       0.39771    0.08690   4.577 1.93e-05 ***\n",
       "---\n",
       "Signif. codes:  0 '***' 0.001 '**' 0.01 '*' 0.05 '.' 0.1 ' ' 1\n",
       "\n",
       "Residual standard error: 0.3072 on 72 degrees of freedom\n",
       "Multiple R-squared:  0.3504,\tAdjusted R-squared:  0.3324 \n",
       "F-statistic: 19.42 on 2 and 72 DF,  p-value: 1.798e-07\n"
      ]
     },
     "metadata": {},
     "output_type": "display_data"
    }
   ],
   "source": [
    "summary(fruitaov)"
   ]
  },
  {
   "cell_type": "markdown",
   "metadata": {},
   "source": [
    "#### obligatory residuals check:"
   ]
  },
  {
   "cell_type": "code",
   "execution_count": 6,
   "metadata": {},
   "outputs": [
    {
     "data": {
      "text/plain": [
       "\n",
       "\tShapiro-Wilk normality test\n",
       "\n",
       "data:  (residuals(fruitaov))\n",
       "W = 0.95431, p-value = 0.008652\n"
      ]
     },
     "metadata": {},
     "output_type": "display_data"
    },
    {
     "data": {
      "image/png": "[encoded data removed]",
      "text/plain": [
       "Plot with title \"Normal Q-Q Plot\""
      ]
     },
     "metadata": {},
     "output_type": "display_data"
    }
   ],
   "source": [
    "par(mfrow=c(1, 2))\n",
    "qqnorm(residuals(fruitaov)); qqline(residuals(fruitaov)); plot(fitted(fruitaov), residuals(fruitaov)); shapiro.test((residuals(fruitaov)))"
   ]
  },
  {
   "cell_type": "markdown",
   "metadata": {},
   "source": [
    "### Sadly data does not appear normal so we proceed with a kruskal wallis:"
   ]
  },
  {
   "cell_type": "code",
   "execution_count": 7,
   "metadata": {},
   "outputs": [
    {
     "data": {
      "text/plain": [
       "\n",
       "\tKruskal-Wallis rank sum test\n",
       "\n",
       "data:  fruitflies$loglongevity and fruitflies$activity\n",
       "Kruskal-Wallis chi-squared = 27.444, df = 2, p-value = 1.098e-06\n"
      ]
     },
     "metadata": {},
     "output_type": "display_data"
    }
   ],
   "source": [
    "kruskal.test(fruitflies$loglongevity, fruitflies$activity)"
   ]
  },
  {
   "cell_type": "markdown",
   "metadata": {},
   "source": [
    "#### Clearly different type of activity has an affect on longevity (in this case I used loglongevity, as was stated in the assignment on canvas)\n",
    "\n",
    "#### What are the estimated longevities for the three conditions? Comment."
   ]
  },
  {
   "cell_type": "code",
   "execution_count": 8,
   "metadata": {},
   "outputs": [
    {
     "data": {
      "text/html": [
       "63.56"
      ],
      "text/latex": [
       "63.56"
      ],
      "text/markdown": [
       "63.56"
      ],
      "text/plain": [
       "[1] 63.56"
      ]
     },
     "metadata": {},
     "output_type": "display_data"
    },
    {
     "data": {
      "text/html": [
       "56.76"
      ],
      "text/latex": [
       "56.76"
      ],
      "text/markdown": [
       "56.76"
      ],
      "text/plain": [
       "[1] 56.76"
      ]
     },
     "metadata": {},
     "output_type": "display_data"
    },
    {
     "data": {
      "text/html": [
       "38.72"
      ],
      "text/latex": [
       "38.72"
      ],
      "text/markdown": [
       "38.72"
      ],
      "text/plain": [
       "[1] 38.72"
      ]
     },
     "metadata": {},
     "output_type": "display_data"
    }
   ],
   "source": [
    "isolated <- subset(fruitflies, fruitflies$activity == 'isolated')\n",
    "low <- subset(fruitflies, fruitflies$activity == 'low')\n",
    "high <- subset(fruitflies, fruitflies$activity == 'high')\n",
    "\n",
    "mean(isolated$longevity); mean(low$longevity); mean(high$longevity)"
   ]
  },
  {
   "cell_type": "markdown",
   "metadata": {},
   "source": [
    "#### Sex kills"
   ]
  },
  {
   "cell_type": "markdown",
   "metadata": {},
   "source": [
    "### 3b Investigate whether sexual activity influences longevity by performing a statistical test, now including thorax length as an explanatory variable into the analysis. "
   ]
  },
  {
   "cell_type": "code",
   "execution_count": 9,
   "metadata": {},
   "outputs": [
    {
     "data": {
      "text/html": [
       "<table>\n",
       "<thead><tr><th></th><th scope=col>Df</th><th scope=col>Sum Sq</th><th scope=col>Mean Sq</th><th scope=col>F value</th><th scope=col>Pr(&gt;F)</th></tr></thead>\n",
       "<tbody>\n",
       "\t<tr><th scope=row>thorax</th><td> 1          </td><td>5.4321872   </td><td>5.43218720  </td><td>135.619477  </td><td>6.023067e-18</td></tr>\n",
       "\t<tr><th scope=row>activity</th><td> 2          </td><td>2.1129016   </td><td>1.05645080  </td><td> 26.375252  </td><td>3.101360e-09</td></tr>\n",
       "\t<tr><th scope=row>thorax:activity</th><td> 2          </td><td>0.1542146   </td><td>0.07710729  </td><td>  1.925053  </td><td>1.536215e-01</td></tr>\n",
       "\t<tr><th scope=row>Residuals</th><td>69          </td><td>2.7637691   </td><td>0.04005462  </td><td>        NA  </td><td>          NA</td></tr>\n",
       "</tbody>\n",
       "</table>\n"
      ],
      "text/latex": [
       "\\begin{tabular}{r|lllll}\n",
       "  & Df & Sum Sq & Mean Sq & F value & Pr(>F)\\\\\n",
       "\\hline\n",
       "\tthorax &  1           & 5.4321872    & 5.43218720   & 135.619477   & 6.023067e-18\\\\\n",
       "\tactivity &  2           & 2.1129016    & 1.05645080   &  26.375252   & 3.101360e-09\\\\\n",
       "\tthorax:activity &  2           & 0.1542146    & 0.07710729   &   1.925053   & 1.536215e-01\\\\\n",
       "\tResiduals & 69           & 2.7637691    & 0.04005462   &         NA   &           NA\\\\\n",
       "\\end{tabular}\n"
      ],
      "text/markdown": [
       "\n",
       "| <!--/--> | Df | Sum Sq | Mean Sq | F value | Pr(>F) |\n",
       "|---|---|---|---|---|---|\n",
       "| thorax |  1           | 5.4321872    | 5.43218720   | 135.619477   | 6.023067e-18 |\n",
       "| activity |  2           | 2.1129016    | 1.05645080   |  26.375252   | 3.101360e-09 |\n",
       "| thorax:activity |  2           | 0.1542146    | 0.07710729   |   1.925053   | 1.536215e-01 |\n",
       "| Residuals | 69           | 2.7637691    | 0.04005462   |         NA   |           NA |\n",
       "\n"
      ],
      "text/plain": [
       "                Df Sum Sq    Mean Sq    F value    Pr(>F)      \n",
       "thorax           1 5.4321872 5.43218720 135.619477 6.023067e-18\n",
       "activity         2 2.1129016 1.05645080  26.375252 3.101360e-09\n",
       "thorax:activity  2 0.1542146 0.07710729   1.925053 1.536215e-01\n",
       "Residuals       69 2.7637691 0.04005462         NA           NA"
      ]
     },
     "metadata": {},
     "output_type": "display_data"
    },
    {
     "data": {
      "text/plain": [
       "\n",
       "\tShapiro-Wilk normality test\n",
       "\n",
       "data:  residuals(fruitova)\n",
       "W = 0.9794, p-value = 0.2607\n"
      ]
     },
     "metadata": {},
     "output_type": "display_data"
    },
    {
     "data": {
      "text/plain": [
       "\n",
       "Call:\n",
       "lm(formula = loglongevity ~ thorax * activity, data = fruitflies)\n",
       "\n",
       "Residuals:\n",
       "     Min       1Q   Median       3Q      Max \n",
       "-0.49803 -0.15920 -0.00031  0.14624  0.35984 \n",
       "\n",
       "Coefficients:\n",
       "                        Estimate Std. Error t value Pr(>|t|)    \n",
       "(Intercept)               0.5978     0.4192   1.426   0.1584    \n",
       "thorax                    3.7554     0.5216   7.199 5.78e-10 ***\n",
       "activityisolated          1.5465     0.5845   2.646   0.0101 *  \n",
       "activitylow               0.9717     0.6423   1.513   0.1349    \n",
       "thorax:activityisolated  -1.3929     0.7122  -1.956   0.0545 .  \n",
       "thorax:activitylow       -0.8539     0.7794  -1.096   0.2771    \n",
       "---\n",
       "Signif. codes:  0 '***' 0.001 '**' 0.01 '*' 0.05 '.' 0.1 ' ' 1\n",
       "\n",
       "Residual standard error: 0.2001 on 69 degrees of freedom\n",
       "Multiple R-squared:  0.7359,\tAdjusted R-squared:  0.7167 \n",
       "F-statistic: 38.44 on 5 and 69 DF,  p-value: < 2.2e-16\n"
      ]
     },
     "metadata": {},
     "output_type": "display_data"
    }
   ],
   "source": [
    "fruitova = lm(loglongevity~thorax  * activity, data=fruitflies)\n",
    "anova(fruitova); shapiro.test(residuals(fruitova)); summary(fruitova)"
   ]
  },
  {
   "cell_type": "markdown",
   "metadata": {},
   "source": [
    "### Data is normal so ancova is able to be used. Sexual activity has a significant effect on longevity as seen in the anova table. And as seen in the summary, being isolated significantly increases the longevity compared to the intercept, meaning sexual activity decreases longevity.\n",
    "#### What are the estimated longevities for the three groups, for flies with the minimal and maximal thorax lengths?"
   ]
  },
  {
   "cell_type": "code",
   "execution_count": 10,
   "metadata": {},
   "outputs": [
    {
     "data": {
      "text/html": [
       "<table>\n",
       "<thead><tr><th></th><th scope=col>Df</th><th scope=col>Sum Sq</th><th scope=col>Mean Sq</th><th scope=col>F value</th><th scope=col>Pr(&gt;F)</th></tr></thead>\n",
       "<tbody>\n",
       "\t<tr><th scope=row>thorax</th><td> 1          </td><td>10959.256   </td><td>10959.2557  </td><td>101.40854   </td><td>2.557325e-15</td></tr>\n",
       "\t<tr><th scope=row>activity</th><td> 2          </td><td> 4966.737   </td><td> 2483.3683  </td><td> 22.97918   </td><td>2.016323e-08</td></tr>\n",
       "\t<tr><th scope=row>Residuals</th><td>71          </td><td> 7672.994   </td><td>  108.0703  </td><td>       NA   </td><td>          NA</td></tr>\n",
       "</tbody>\n",
       "</table>\n"
      ],
      "text/latex": [
       "\\begin{tabular}{r|lllll}\n",
       "  & Df & Sum Sq & Mean Sq & F value & Pr(>F)\\\\\n",
       "\\hline\n",
       "\tthorax &  1           & 10959.256    & 10959.2557   & 101.40854    & 2.557325e-15\\\\\n",
       "\tactivity &  2           &  4966.737    &  2483.3683   &  22.97918    & 2.016323e-08\\\\\n",
       "\tResiduals & 71           &  7672.994    &   108.0703   &        NA    &           NA\\\\\n",
       "\\end{tabular}\n"
      ],
      "text/markdown": [
       "\n",
       "| <!--/--> | Df | Sum Sq | Mean Sq | F value | Pr(>F) |\n",
       "|---|---|---|---|---|---|\n",
       "| thorax |  1           | 10959.256    | 10959.2557   | 101.40854    | 2.557325e-15 |\n",
       "| activity |  2           |  4966.737    |  2483.3683   |  22.97918    | 2.016323e-08 |\n",
       "| Residuals | 71           |  7672.994    |   108.0703   |        NA    |           NA |\n",
       "\n"
      ],
      "text/plain": [
       "          Df Sum Sq    Mean Sq    F value   Pr(>F)      \n",
       "thorax     1 10959.256 10959.2557 101.40854 2.557325e-15\n",
       "activity   2  4966.737  2483.3683  22.97918 2.016323e-08\n",
       "Residuals 71  7672.994   108.0703        NA           NA"
      ]
     },
     "metadata": {},
     "output_type": "display_data"
    },
    {
     "data": {
      "text/plain": [
       "\n",
       "\tShapiro-Wilk normality test\n",
       "\n",
       "data:  residuals(fruitavo2)\n",
       "W = 0.98091, p-value = 0.3176\n"
      ]
     },
     "metadata": {},
     "output_type": "display_data"
    },
    {
     "data": {
      "text/plain": [
       "\n",
       "Call:\n",
       "lm(formula = longevity ~ thorax + activity, data = fruitflies)\n",
       "\n",
       "Residuals:\n",
       "    Min      1Q  Median      3Q     Max \n",
       "-19.688  -8.622  -1.176   6.790  26.605 \n",
       "\n",
       "Coefficients:\n",
       "                 Estimate Std. Error t value Pr(>|t|)    \n",
       "(Intercept)       -67.375     12.750  -5.284 1.33e-06 ***\n",
       "thorax            132.618     15.725   8.434 2.62e-12 ***\n",
       "activityisolated   20.066      2.994   6.701 4.13e-09 ***\n",
       "activitylow        13.054      2.999   4.352 4.43e-05 ***\n",
       "---\n",
       "Signif. codes:  0 '***' 0.001 '**' 0.01 '*' 0.05 '.' 0.1 ' ' 1\n",
       "\n",
       "Residual standard error: 10.4 on 71 degrees of freedom\n",
       "Multiple R-squared:  0.6749,\tAdjusted R-squared:  0.6611 \n",
       "F-statistic: 49.12 on 3 and 71 DF,  p-value: < 2.2e-16\n"
      ]
     },
     "metadata": {},
     "output_type": "display_data"
    },
    {
     "data": {
      "text/html": [
       "<table>\n",
       "<thead><tr><th></th><th scope=col>Df</th><th scope=col>Sum of Sq</th><th scope=col>RSS</th><th scope=col>AIC</th><th scope=col>F value</th><th scope=col>Pr(&gt;F)</th></tr></thead>\n",
       "<tbody>\n",
       "\t<tr><th scope=row>&lt;none&gt;</th><td>NA          </td><td>      NA    </td><td> 7672.994   </td><td>355.0981    </td><td>      NA    </td><td>          NA</td></tr>\n",
       "\t<tr><th scope=row>thorax</th><td> 1          </td><td>7686.766    </td><td>15359.760   </td><td>405.1514    </td><td>71.12743    </td><td>2.623943e-12</td></tr>\n",
       "\t<tr><th scope=row>activity</th><td> 2          </td><td>4966.737    </td><td>12639.731   </td><td>388.5334    </td><td>22.97918    </td><td>2.016323e-08</td></tr>\n",
       "</tbody>\n",
       "</table>\n"
      ],
      "text/latex": [
       "\\begin{tabular}{r|llllll}\n",
       "  & Df & Sum of Sq & RSS & AIC & F value & Pr(>F)\\\\\n",
       "\\hline\n",
       "\t<none> & NA           &       NA     &  7672.994    & 355.0981     &       NA     &           NA\\\\\n",
       "\tthorax &  1           & 7686.766     & 15359.760    & 405.1514     & 71.12743     & 2.623943e-12\\\\\n",
       "\tactivity &  2           & 4966.737     & 12639.731    & 388.5334     & 22.97918     & 2.016323e-08\\\\\n",
       "\\end{tabular}\n"
      ],
      "text/markdown": [
       "\n",
       "| <!--/--> | Df | Sum of Sq | RSS | AIC | F value | Pr(>F) |\n",
       "|---|---|---|---|---|---|---|\n",
       "| <none> | NA           |       NA     |  7672.994    | 355.0981     |       NA     |           NA |\n",
       "| thorax |  1           | 7686.766     | 15359.760    | 405.1514     | 71.12743     | 2.623943e-12 |\n",
       "| activity |  2           | 4966.737     | 12639.731    | 388.5334     | 22.97918     | 2.016323e-08 |\n",
       "\n"
      ],
      "text/plain": [
       "         Df Sum of Sq RSS       AIC      F value  Pr(>F)      \n",
       "<none>   NA       NA   7672.994 355.0981       NA           NA\n",
       "thorax    1 7686.766  15359.760 405.1514 71.12743 2.623943e-12\n",
       "activity  2 4966.737  12639.731 388.5334 22.97918 2.016323e-08"
      ]
     },
     "metadata": {},
     "output_type": "display_data"
    }
   ],
   "source": [
    "# # For the minimal thorax lengths:\n",
    "# min_thorax = subset(fruitflies, thorax == min(thorax)) \n",
    "# max_thorax = subset(fruitflies, thorax == max(thorax)) \n",
    "# head(min_thorax); head(max_thorax)\n",
    "\n",
    "#B)\n",
    "\n",
    "#log convertor to number\n",
    "#https://www.omnicalculator.com/math/natural-log\n",
    "\n",
    "fruitavo2 = lm(longevity~thorax + activity, data=fruitflies)\n",
    "anova(fruitavo2)\n",
    "shapiro.test(residuals(fruitavo2))\n",
    "summary(fruitavo2)\n",
    "\n",
    "#better to use drop1, so both activity and thorax are the right p-values in ancova\n",
    "drop1(fruitavo2,test=\"F\")  \n",
    "\n",
    "# does sexual activity increase or decrease longevity?\n",
    "# --> does decrease (look at summary table)\n",
    "# isolated is largest value, larger than low. Low on its turn is larger than a1 (cuz a1 = 0)\n",
    "# so it can be observed that sex activity decreases longevity!\n",
    "\n",
    "\n",
    "#What are the estimated longevities for the three groups, for flies with the minimal and maximal thorax lengths?\n",
    "# --> okay so the (linear) formula is basically now: mu + Beta*x + alpha + e\n",
    "# using non-log instead of log for clarification\n",
    "# running summary of fruitavo2 results in the beta, alphas and mu.\n",
    "# respectively: mu=-67.375, beta=132.618, a1=0 (by default), a2=20.066, a3=13.054  \n",
    "# now it's asked to calculate the ESTIMATES for the 3 groups, for flies with minimal and maximal thorax lenghts\n",
    "# Looking in the fruitflies table, we see that the min thorax lenght is 0.64 and the max lenght in 0.94\n",
    "\n",
    "# so starting with minimum, fill in the formula above with x=0.64\n",
    "# -activity high: -67.375 + 132.618*0.64 + 0 = 17.50052\n",
    "# -activity low:  -67.375 + 132.618*0.64 + 13.054 = 30.55452\n",
    "# -activity iolated:  -67.375 + 132.618*0.64 + 20.066 = 37.56652\n",
    "\n",
    "# now for the max thorax lenght, so x=0.94:\n",
    "# -activity high: -67.375 + 132.618*0.94 + 0 = 57.28592\n",
    "# -activity low:  -67.375 + 132.618*0.94 + 13.054 = 70.33992\n",
    "# -activity iolated:  -67.375 + 132.618*0.94 + 20.066 = 77.35192\n",
    "\n",
    "#So those are 6 estimates in total (3x2)\n"
   ]
  },
  {
   "cell_type": "markdown",
   "metadata": {},
   "source": [
    "![picture 4](../images/a28c109441169963749bc8d5b38efd635a7e973e81a7187fae61b05548917b88.png)  \n"
   ]
  },
  {
   "cell_type": "markdown",
   "metadata": {},
   "source": [
    "### 3C How does thorax length influence longevity? Investigate graphically and by using an appropriate test whether this dependence is similar under all three conditions of sexual activity."
   ]
  },
  {
   "cell_type": "code",
   "execution_count": 99,
   "metadata": {},
   "outputs": [
    {
     "data": {
      "image/png": "[encoded data removed]",
      "text/plain": [
       "plot without title"
      ]
     },
     "metadata": {},
     "output_type": "display_data"
    }
   ],
   "source": [
    "plot(loglongevity~thorax,pch=as.character(activity), data=fruitflies)\n",
    "abline(lm(loglongevity~thorax,data=high), col='red')\n",
    "abline(lm(loglongevity~thorax,data= low), col='orange')\n",
    "abline(lm(loglongevity~thorax,data=isolated), col='yellow')"
   ]
  },
  {
   "cell_type": "code",
   "execution_count": 106,
   "metadata": {},
   "outputs": [],
   "source": [
    "highaov = lm(loglongevity~thorax,data=high)\n",
    "lowaov = lm(loglongevity~thorax,data= low)\n",
    "isoaov = lm(loglongevity~thorax,data=isolated)"
   ]
  },
  {
   "cell_type": "code",
   "execution_count": 107,
   "metadata": {},
   "outputs": [
    {
     "data": {
      "text/html": [
       "<table>\n",
       "<thead><tr><th></th><th scope=col>Df</th><th scope=col>Sum Sq</th><th scope=col>Mean Sq</th><th scope=col>F value</th><th scope=col>Pr(&gt;F)</th></tr></thead>\n",
       "<tbody>\n",
       "\t<tr><th scope=row>thorax</th><td> 1          </td><td>2.076008    </td><td>2.07600844  </td><td>53.61423    </td><td>1.892357e-07</td></tr>\n",
       "\t<tr><th scope=row>Residuals</th><td>23          </td><td>0.890588    </td><td>0.03872122  </td><td>      NA    </td><td>          NA</td></tr>\n",
       "</tbody>\n",
       "</table>\n"
      ],
      "text/latex": [
       "\\begin{tabular}{r|lllll}\n",
       "  & Df & Sum Sq & Mean Sq & F value & Pr(>F)\\\\\n",
       "\\hline\n",
       "\tthorax &  1           & 2.076008     & 2.07600844   & 53.61423     & 1.892357e-07\\\\\n",
       "\tResiduals & 23           & 0.890588     & 0.03872122   &       NA     &           NA\\\\\n",
       "\\end{tabular}\n"
      ],
      "text/markdown": [
       "\n",
       "| <!--/--> | Df | Sum Sq | Mean Sq | F value | Pr(>F) |\n",
       "|---|---|---|---|---|---|\n",
       "| thorax |  1           | 2.076008     | 2.07600844   | 53.61423     | 1.892357e-07 |\n",
       "| Residuals | 23           | 0.890588     | 0.03872122   |       NA     |           NA |\n",
       "\n"
      ],
      "text/plain": [
       "          Df Sum Sq   Mean Sq    F value  Pr(>F)      \n",
       "thorax     1 2.076008 2.07600844 53.61423 1.892357e-07\n",
       "Residuals 23 0.890588 0.03872122       NA           NA"
      ]
     },
     "metadata": {},
     "output_type": "display_data"
    },
    {
     "data": {
      "text/html": [
       "<table>\n",
       "<thead><tr><th></th><th scope=col>Df</th><th scope=col>Sum Sq</th><th scope=col>Mean Sq</th><th scope=col>F value</th><th scope=col>Pr(&gt;F)</th></tr></thead>\n",
       "<tbody>\n",
       "\t<tr><th scope=row>thorax</th><td> 1          </td><td>1.005705    </td><td>1.00570486  </td><td>19.81031    </td><td>0.0001829714</td></tr>\n",
       "\t<tr><th scope=row>Residuals</th><td>23          </td><td>1.167635    </td><td>0.05076674  </td><td>      NA    </td><td>          NA</td></tr>\n",
       "</tbody>\n",
       "</table>\n"
      ],
      "text/latex": [
       "\\begin{tabular}{r|lllll}\n",
       "  & Df & Sum Sq & Mean Sq & F value & Pr(>F)\\\\\n",
       "\\hline\n",
       "\tthorax &  1           & 1.005705     & 1.00570486   & 19.81031     & 0.0001829714\\\\\n",
       "\tResiduals & 23           & 1.167635     & 0.05076674   &       NA     &           NA\\\\\n",
       "\\end{tabular}\n"
      ],
      "text/markdown": [
       "\n",
       "| <!--/--> | Df | Sum Sq | Mean Sq | F value | Pr(>F) |\n",
       "|---|---|---|---|---|---|\n",
       "| thorax |  1           | 1.005705     | 1.00570486   | 19.81031     | 0.0001829714 |\n",
       "| Residuals | 23           | 1.167635     | 0.05076674   |       NA     |           NA |\n",
       "\n"
      ],
      "text/plain": [
       "          Df Sum Sq   Mean Sq    F value  Pr(>F)      \n",
       "thorax     1 1.005705 1.00570486 19.81031 0.0001829714\n",
       "Residuals 23 1.167635 0.05076674       NA           NA"
      ]
     },
     "metadata": {},
     "output_type": "display_data"
    },
    {
     "data": {
      "text/html": [
       "<table>\n",
       "<thead><tr><th></th><th scope=col>Df</th><th scope=col>Sum Sq</th><th scope=col>Mean Sq</th><th scope=col>F value</th><th scope=col>Pr(&gt;F)</th></tr></thead>\n",
       "<tbody>\n",
       "\t<tr><th scope=row>thorax</th><td> 1          </td><td>0.9510971   </td><td>0.95109706  </td><td>31.00468    </td><td>1.152548e-05</td></tr>\n",
       "\t<tr><th scope=row>Residuals</th><td>23          </td><td>0.7055460   </td><td>0.03067591  </td><td>      NA    </td><td>          NA</td></tr>\n",
       "</tbody>\n",
       "</table>\n"
      ],
      "text/latex": [
       "\\begin{tabular}{r|lllll}\n",
       "  & Df & Sum Sq & Mean Sq & F value & Pr(>F)\\\\\n",
       "\\hline\n",
       "\tthorax &  1           & 0.9510971    & 0.95109706   & 31.00468     & 1.152548e-05\\\\\n",
       "\tResiduals & 23           & 0.7055460    & 0.03067591   &       NA     &           NA\\\\\n",
       "\\end{tabular}\n"
      ],
      "text/markdown": [
       "\n",
       "| <!--/--> | Df | Sum Sq | Mean Sq | F value | Pr(>F) |\n",
       "|---|---|---|---|---|---|\n",
       "| thorax |  1           | 0.9510971    | 0.95109706   | 31.00468     | 1.152548e-05 |\n",
       "| Residuals | 23           | 0.7055460    | 0.03067591   |       NA     |           NA |\n",
       "\n"
      ],
      "text/plain": [
       "          Df Sum Sq    Mean Sq    F value  Pr(>F)      \n",
       "thorax     1 0.9510971 0.95109706 31.00468 1.152548e-05\n",
       "Residuals 23 0.7055460 0.03067591       NA           NA"
      ]
     },
     "metadata": {},
     "output_type": "display_data"
    }
   ],
   "source": [
    "anova(highaov); anova(lowaov); anova(isoaov)"
   ]
  },
  {
   "cell_type": "markdown",
   "metadata": {},
   "source": [
    "### For all three groups of sexual activity, the dependence of logevity on thorax length is demontrated to be significant and similar"
   ]
  },
  {
   "cell_type": "markdown",
   "metadata": {},
   "source": [
    "### 3d)  Which of the two analyses, without or with thorax length, do you prefer? Is one of the analyses wrong?"
   ]
  },
  {
   "cell_type": "markdown",
   "metadata": {},
   "source": [
    "#### As we can see from the graphical representation, thorax length definitely influences longevity, however it produces parralel lines between the groups, indicating the effect of thorax length is almost identical between the groups. Also, our anova results of the interaction between thorax length and activity showed no significant results, so these two variables are independent. Although neither analysis is wrong (I THINK), if the aim is to anbalyse effect of sexual activity on longevity, the thorax length should not be included (SO FOR OUR HYPOTHESIS, THE TEST WITH THORAX LENGTH IS WRONG, BUT THE ACTUAL TEST ISN'T)"
   ]
  },
  {
   "cell_type": "markdown",
   "metadata": {},
   "source": [
    "### 3e)  Perform the ancova analysis with the number of days as the response, rather than its logarithm. Was it wise to use the logarithm as response?\n",
    "\n",
    "#### I'll proceed without the thorax length:"
   ]
  },
  {
   "cell_type": "code",
   "execution_count": 115,
   "metadata": {},
   "outputs": [
    {
     "data": {
      "text/plain": [
       "\n",
       "\tShapiro-Wilk normality test\n",
       "\n",
       "data:  residuals(fruitaov_e)\n",
       "W = 0.99015, p-value = 0.834\n"
      ]
     },
     "metadata": {},
     "output_type": "display_data"
    },
    {
     "data": {
      "text/html": [
       "<table>\n",
       "<thead><tr><th></th><th scope=col>Df</th><th scope=col>Sum Sq</th><th scope=col>Mean Sq</th><th scope=col>F value</th><th scope=col>Pr(&gt;F)</th></tr></thead>\n",
       "<tbody>\n",
       "\t<tr><th scope=row>activity</th><td> 2         </td><td> 8239.227  </td><td>4119.613   </td><td>19.31099   </td><td>1.93054e-07</td></tr>\n",
       "\t<tr><th scope=row>Residuals</th><td>72         </td><td>15359.760  </td><td> 213.330   </td><td>      NA   </td><td>         NA</td></tr>\n",
       "</tbody>\n",
       "</table>\n"
      ],
      "text/latex": [
       "\\begin{tabular}{r|lllll}\n",
       "  & Df & Sum Sq & Mean Sq & F value & Pr(>F)\\\\\n",
       "\\hline\n",
       "\tactivity &  2          &  8239.227   & 4119.613    & 19.31099    & 1.93054e-07\\\\\n",
       "\tResiduals & 72          & 15359.760   &  213.330    &       NA    &          NA\\\\\n",
       "\\end{tabular}\n"
      ],
      "text/markdown": [
       "\n",
       "| <!--/--> | Df | Sum Sq | Mean Sq | F value | Pr(>F) |\n",
       "|---|---|---|---|---|---|\n",
       "| activity |  2          |  8239.227   | 4119.613    | 19.31099    | 1.93054e-07 |\n",
       "| Residuals | 72          | 15359.760   |  213.330    |       NA    |          NA |\n",
       "\n"
      ],
      "text/plain": [
       "          Df Sum Sq    Mean Sq  F value  Pr(>F)     \n",
       "activity   2  8239.227 4119.613 19.31099 1.93054e-07\n",
       "Residuals 72 15359.760  213.330       NA          NA"
      ]
     },
     "metadata": {},
     "output_type": "display_data"
    }
   ],
   "source": [
    "fruitaov_e = lm(longevity ~ activity, data=fruitflies)\n",
    "shapiro.test(residuals(fruitaov_e)); anova(fruitaov_e)"
   ]
  },
  {
   "cell_type": "markdown",
   "metadata": {},
   "source": [
    "### When using the logarithm, we encountered non-normal residuals, requiring use of either a kruskal wallis (which we did) or a permutation test. Not using the logarithm allowed for an Ancova. Using the logarithm simply made the data non-parametric without adding any change to our test results"
   ]
  }
 ],
 "metadata": {
  "kernelspec": {
   "display_name": "R",
   "language": "R",
   "name": "python397jvsc74a57bd0e98a417cd127452877556e884928c4f0fa98249aac01379d1138d338daacda32"
  },
  "language_info": {
   "codemirror_mode": "r",
   "file_extension": ".r",
   "mimetype": "text/x-r-source",
   "name": "R",
   "pygments_lexer": "r",
   "version": "3.6.1"
  },
  "orig_nbformat": 4
 },
 "nbformat": 4,
 "nbformat_minor": 2
}
