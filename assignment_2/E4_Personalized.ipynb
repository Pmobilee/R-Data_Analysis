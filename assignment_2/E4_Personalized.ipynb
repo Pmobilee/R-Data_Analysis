{
 "cells": [
  {
   "cell_type": "markdown",
   "metadata": {},
   "source": [
    "# Exercise 4. Personalized system of instruction\n",
    "![picture 5](../images/4cb4d938f4d9621bf50d49ffeeab1960619add16b4c94a4dac9f6eb37af3311c.png)  \n",
    "## 3A Fit a logistic regression model with both explanatory variables, perform relevant tests.\n"
   ]
  },
  {
   "cell_type": "code",
   "execution_count": 26,
   "metadata": {},
   "outputs": [
    {
     "data": {
      "text/html": [
       "<table>\n",
       "<thead><tr><th scope=col>passed</th><th scope=col>psi</th><th scope=col>gpa</th></tr></thead>\n",
       "<tbody>\n",
       "\t<tr><td>0   </td><td>0   </td><td>2.66</td></tr>\n",
       "\t<tr><td>0   </td><td>0   </td><td>2.89</td></tr>\n",
       "\t<tr><td>0   </td><td>0   </td><td>3.28</td></tr>\n",
       "\t<tr><td>0   </td><td>0   </td><td>2.92</td></tr>\n",
       "\t<tr><td>1   </td><td>0   </td><td>4.00</td></tr>\n",
       "\t<tr><td>0   </td><td>0   </td><td>2.86</td></tr>\n",
       "</tbody>\n",
       "</table>\n"
      ],
      "text/latex": [
       "\\begin{tabular}{r|lll}\n",
       " passed & psi & gpa\\\\\n",
       "\\hline\n",
       "\t 0    & 0    & 2.66\\\\\n",
       "\t 0    & 0    & 2.89\\\\\n",
       "\t 0    & 0    & 3.28\\\\\n",
       "\t 0    & 0    & 2.92\\\\\n",
       "\t 1    & 0    & 4.00\\\\\n",
       "\t 0    & 0    & 2.86\\\\\n",
       "\\end{tabular}\n"
      ],
      "text/markdown": [
       "\n",
       "| passed | psi | gpa |\n",
       "|---|---|---|\n",
       "| 0    | 0    | 2.66 |\n",
       "| 0    | 0    | 2.89 |\n",
       "| 0    | 0    | 3.28 |\n",
       "| 0    | 0    | 2.92 |\n",
       "| 1    | 0    | 4.00 |\n",
       "| 0    | 0    | 2.86 |\n",
       "\n"
      ],
      "text/plain": [
       "  passed psi gpa \n",
       "1 0      0   2.66\n",
       "2 0      0   2.89\n",
       "3 0      0   3.28\n",
       "4 0      0   2.92\n",
       "5 1      0   4.00\n",
       "6 0      0   2.86"
      ]
     },
     "metadata": {},
     "output_type": "display_data"
    }
   ],
   "source": [
    "psidata = read.table('psi.txt', header=T)\n",
    "head(psidata)"
   ]
  },
  {
   "cell_type": "code",
   "execution_count": 27,
   "metadata": {},
   "outputs": [
    {
     "data": {
      "text/html": [
       "<table>\n",
       "<thead><tr><th></th><th scope=col>Df</th><th scope=col>Deviance</th><th scope=col>Resid. Df</th><th scope=col>Resid. Dev</th></tr></thead>\n",
       "<tbody>\n",
       "\t<tr><th scope=row>NULL</th><td>NA      </td><td>      NA</td><td>31      </td><td>7.218750</td></tr>\n",
       "\t<tr><th scope=row>psidata$psi</th><td> 1      </td><td>1.290179</td><td>30      </td><td>5.928571</td></tr>\n",
       "\t<tr><th scope=row>psidata$gpa</th><td> 1      </td><td>1.668400</td><td>29      </td><td>4.260172</td></tr>\n",
       "</tbody>\n",
       "</table>\n"
      ],
      "text/latex": [
       "\\begin{tabular}{r|llll}\n",
       "  & Df & Deviance & Resid. Df & Resid. Dev\\\\\n",
       "\\hline\n",
       "\tNULL & NA       &       NA & 31       & 7.218750\\\\\n",
       "\tpsidata\\$psi &  1       & 1.290179 & 30       & 5.928571\\\\\n",
       "\tpsidata\\$gpa &  1       & 1.668400 & 29       & 4.260172\\\\\n",
       "\\end{tabular}\n"
      ],
      "text/markdown": [
       "\n",
       "| <!--/--> | Df | Deviance | Resid. Df | Resid. Dev |\n",
       "|---|---|---|---|---|\n",
       "| NULL | NA       |       NA | 31       | 7.218750 |\n",
       "| psidata$psi |  1       | 1.290179 | 30       | 5.928571 |\n",
       "| psidata$gpa |  1       | 1.668400 | 29       | 4.260172 |\n",
       "\n"
      ],
      "text/plain": [
       "            Df Deviance Resid. Df Resid. Dev\n",
       "NULL        NA       NA 31        7.218750  \n",
       "psidata$psi  1 1.290179 30        5.928571  \n",
       "psidata$gpa  1 1.668400 29        4.260172  "
      ]
     },
     "metadata": {},
     "output_type": "display_data"
    },
    {
     "data": {
      "text/plain": [
       "\n",
       "Call:\n",
       "glm(formula = psidata$passed ~ psidata$psi + psidata$gpa, data = psidata)\n",
       "\n",
       "Deviance Residuals: \n",
       "     Min        1Q    Median        3Q       Max  \n",
       "-0.75656  -0.26063  -0.01606   0.19867   0.80060  \n",
       "\n",
       "Coefficients:\n",
       "            Estimate Std. Error t value Pr(>|t|)   \n",
       "(Intercept)  -1.3760     0.4666  -2.949  0.00624 **\n",
       "psidata$psi   0.3865     0.1367   2.827  0.00842 **\n",
       "psidata$gpa   0.4975     0.1476   3.370  0.00214 **\n",
       "---\n",
       "Signif. codes:  0 '***' 0.001 '**' 0.01 '*' 0.05 '.' 0.1 ' ' 1\n",
       "\n",
       "(Dispersion parameter for gaussian family taken to be 0.1469025)\n",
       "\n",
       "    Null deviance: 7.2188  on 31  degrees of freedom\n",
       "Residual deviance: 4.2602  on 29  degrees of freedom\n",
       "AIC: 34.286\n",
       "\n",
       "Number of Fisher Scoring iterations: 2\n"
      ]
     },
     "metadata": {},
     "output_type": "display_data"
    }
   ],
   "source": [
    "# psi$passed = factor(psi$passed)\n",
    "# psi$psi = factor(psi$psi)\n",
    "# attach(psi)\n",
    "psiaov = glm(psidata$passed ~ psidata$psi + psidata$gpa, data=psidata)\n",
    "anova(psiaov); summary(psiaov)"
   ]
  },
  {
   "cell_type": "code",
   "execution_count": 28,
   "metadata": {},
   "outputs": [
    {
     "data": {
      "text/html": [
       "0.166666666666667"
      ],
      "text/latex": [
       "0.166666666666667"
      ],
      "text/markdown": [
       "0.166666666666667"
      ],
      "text/plain": [
       "[1] 0.1666667"
      ]
     },
     "metadata": {},
     "output_type": "display_data"
    },
    {
     "data": {
      "text/html": [
       "0.444444444444444"
      ],
      "text/latex": [
       "0.444444444444444"
      ],
      "text/markdown": [
       "0.444444444444444"
      ],
      "text/plain": [
       "[1] 0.4444444"
      ]
     },
     "metadata": {},
     "output_type": "display_data"
    }
   ],
   "source": [
    "# Just a quick check on what percentage of students passed etc\n",
    "sum(subset(psidata, psidata$psi == 0)$passed) / length(subset(psidata, psidata$psi == 0)$passed); sum(subset(psidata, psidata$psi == 1)$passed) / length(subset(psidata, psidata$psi == 0)$passed)"
   ]
  },
  {
   "cell_type": "markdown",
   "metadata": {},
   "source": [
    "#### Does psi work? Yes, the proportion of students passing the test with psi is higher, and the GLM shows psi to have a significant effect on passing the test"
   ]
  },
  {
   "cell_type": "markdown",
   "metadata": {},
   "source": [
    "## 4B Estimate the probability that a student with a gpa equal to 3 who receives psi passes the assignment. Estimate the same probability for a student who does not receive psi. Comment.\n"
   ]
  },
  {
   "cell_type": "code",
   "execution_count": 79,
   "metadata": {},
   "outputs": [
    {
     "name": "stderr",
     "output_type": "stream",
     "text": [
      "Warning message in prop.test(c(2, 5), c(7, 8)):\n",
      "\"Chi-squared approximation may be incorrect\""
     ]
    },
    {
     "data": {
      "text/plain": [
       "\n",
       "\t2-sample test for equality of proportions with continuity correction\n",
       "\n",
       "data:  c(2, 5) out of c(7, 8)\n",
       "X-squared = 0.63257, df = 1, p-value = 0.4264\n",
       "alternative hypothesis: two.sided\n",
       "95 percent confidence interval:\n",
       " -0.9470694  0.2684979\n",
       "sample estimates:\n",
       "   prop 1    prop 2 \n",
       "0.2857143 0.6250000 \n"
      ]
     },
     "metadata": {},
     "output_type": "display_data"
    }
   ],
   "source": [
    "gpa_3 = subset(psidata, psidata$gpa >=3)\n",
    "gpa_3 = subset(gpa_3, gpa_3$gpa < 4)\n",
    "\n",
    "gpa_nopsi = subset(gpa_3, gpa_3$psi == 0)\n",
    "gpa_psi = subset(gpa_3, gpa_3$psi == 1)\n",
    "\n",
    "prop.test(c(2, 5), c(7, 8))"
   ]
  },
  {
   "cell_type": "markdown",
   "metadata": {},
   "source": [
    "#### Quick note: no psi got 2/7, with psi got 5/8, so these are the odds, prop.test shows no significance p=0.426"
   ]
  },
  {
   "cell_type": "markdown",
   "metadata": {},
   "source": [
    "## 4c)  Estimate the relative change in odds of passing the assignment rendered by instructing students with psi rather than the standard method (for an arbitrary student). What is the interpretation of this number? Is it dependent on gpa?"
   ]
  },
  {
   "cell_type": "code",
   "execution_count": 90,
   "metadata": {},
   "outputs": [
    {
     "data": {
      "text/html": [
       "0.166666666666667"
      ],
      "text/latex": [
       "0.166666666666667"
      ],
      "text/markdown": [
       "0.166666666666667"
      ],
      "text/plain": [
       "[1] 0.1666667"
      ]
     },
     "metadata": {},
     "output_type": "display_data"
    },
    {
     "data": {
      "text/html": [
       "0.571428571428571"
      ],
      "text/latex": [
       "0.571428571428571"
      ],
      "text/markdown": [
       "0.571428571428571"
      ],
      "text/plain": [
       "[1] 0.5714286"
      ]
     },
     "metadata": {},
     "output_type": "display_data"
    },
    {
     "name": "stderr",
     "output_type": "stream",
     "text": [
      "Warning message in prop.test(c(passed_nopsi, passed_psi), c(count_nopsi, count_psi)):\n",
      "\"Chi-squared approximation may be incorrect\""
     ]
    },
    {
     "data": {
      "text/plain": [
       "\n",
       "\t2-sample test for equality of proportions with continuity correction\n",
       "\n",
       "data:  c(passed_nopsi, passed_psi) out of c(count_nopsi, count_psi)\n",
       "X-squared = 4.0657, df = 1, p-value = 0.04376\n",
       "alternative hypothesis: two.sided\n",
       "95 percent confidence interval:\n",
       " -0.77944268 -0.03008113\n",
       "sample estimates:\n",
       "   prop 1    prop 2 \n",
       "0.1666667 0.5714286 \n"
      ]
     },
     "metadata": {},
     "output_type": "display_data"
    }
   ],
   "source": [
    "with_psi = subset(psidata, psidata$psi == 1)\n",
    "without_psi = subset(psidata, psidata$psi == 0)\n",
    "\n",
    "count_nopsi = length(without_psi$psi)\n",
    "passed_nopsi = length(subset(without_psi, without_psi$passed == 1)$psi)\n",
    "count_psi = length(with_psi$psi)\n",
    "passed_psi = length(subset(with_psi, with_psi$passed == 1)$psi)\n",
    "\n",
    "passed_nopsi / count_nopsi\n",
    "passed_psi / count_psi\n",
    "\n",
    "prop.test(c(passed_nopsi, passed_psi), c(count_nopsi, count_psi))"
   ]
  },
  {
   "cell_type": "markdown",
   "metadata": {},
   "source": [
    "### Odds of passing increase significantly (p = 0.044) when using psi"
   ]
  },
  {
   "cell_type": "code",
   "execution_count": 100,
   "metadata": {},
   "outputs": [
    {
     "data": {
      "image/png": "[encoded data removed]",
      "text/plain": [
       "plot without title"
      ]
     },
     "metadata": {},
     "output_type": "display_data"
    }
   ],
   "source": [
    "interaction.plot(psidata$psi, psidata$passed, psidata$gpa)\n",
    "# Heeft waarschijnlijk geen belang; maar studenten met lage gpa\n",
    "# krijgen dus eerder psi ofzo?"
   ]
  },
  {
   "cell_type": "code",
   "execution_count": 105,
   "metadata": {},
   "outputs": [
    {
     "data": {
      "text/html": [
       "<table>\n",
       "<thead><tr><th></th><th scope=col>Df</th><th scope=col>Sum Sq</th><th scope=col>Mean Sq</th><th scope=col>F value</th><th scope=col>Pr(&gt;F)</th></tr></thead>\n",
       "<tbody>\n",
       "\t<tr><th scope=row>psidata$psi</th><td> 1         </td><td>1.29017857 </td><td>1.29017857 </td><td> 8.6403166 </td><td>0.006521632</td></tr>\n",
       "\t<tr><th scope=row>psidata$gpa</th><td> 1         </td><td>1.66839951 </td><td>1.66839951 </td><td>11.1732595 </td><td>0.002367289</td></tr>\n",
       "\t<tr><th scope=row>psidata$psi:psidata$gpa</th><td> 1         </td><td>0.07919088 </td><td>0.07919088 </td><td> 0.5303408 </td><td>0.472510561</td></tr>\n",
       "\t<tr><th scope=row>Residuals</th><td>28         </td><td>4.18098104 </td><td>0.14932075 </td><td>        NA </td><td>         NA</td></tr>\n",
       "</tbody>\n",
       "</table>\n"
      ],
      "text/latex": [
       "\\begin{tabular}{r|lllll}\n",
       "  & Df & Sum Sq & Mean Sq & F value & Pr(>F)\\\\\n",
       "\\hline\n",
       "\tpsidata\\$psi &  1          & 1.29017857  & 1.29017857  &  8.6403166  & 0.006521632\\\\\n",
       "\tpsidata\\$gpa &  1          & 1.66839951  & 1.66839951  & 11.1732595  & 0.002367289\\\\\n",
       "\tpsidata\\$psi:psidata\\$gpa &  1          & 0.07919088  & 0.07919088  &  0.5303408  & 0.472510561\\\\\n",
       "\tResiduals & 28          & 4.18098104  & 0.14932075  &         NA  &          NA\\\\\n",
       "\\end{tabular}\n"
      ],
      "text/markdown": [
       "\n",
       "| <!--/--> | Df | Sum Sq | Mean Sq | F value | Pr(>F) |\n",
       "|---|---|---|---|---|---|\n",
       "| psidata$psi |  1          | 1.29017857  | 1.29017857  |  8.6403166  | 0.006521632 |\n",
       "| psidata$gpa |  1          | 1.66839951  | 1.66839951  | 11.1732595  | 0.002367289 |\n",
       "| psidata$psi:psidata$gpa |  1          | 0.07919088  | 0.07919088  |  0.5303408  | 0.472510561 |\n",
       "| Residuals | 28          | 4.18098104  | 0.14932075  |         NA  |          NA |\n",
       "\n"
      ],
      "text/plain": [
       "                        Df Sum Sq     Mean Sq    F value    Pr(>F)     \n",
       "psidata$psi              1 1.29017857 1.29017857  8.6403166 0.006521632\n",
       "psidata$gpa              1 1.66839951 1.66839951 11.1732595 0.002367289\n",
       "psidata$psi:psidata$gpa  1 0.07919088 0.07919088  0.5303408 0.472510561\n",
       "Residuals               28 4.18098104 0.14932075         NA          NA"
      ]
     },
     "metadata": {},
     "output_type": "display_data"
    },
    {
     "data": {
      "text/plain": [
       "\n",
       "\tShapiro-Wilk normality test\n",
       "\n",
       "data:  residuals(test)\n",
       "W = 0.9775, p-value = 0.7244\n"
      ]
     },
     "metadata": {},
     "output_type": "display_data"
    }
   ],
   "source": [
    "test = lm(psidata$passed ~ psidata$psi * psidata$gpa)\n",
    "anova(test); shapiro.test(residuals(test))"
   ]
  },
  {
   "cell_type": "markdown",
   "metadata": {},
   "source": [
    "### GPA influences whether studens pass or not, so passing is dependent on GPA. However, receiving psi is not dependent on gpa, as there is no significant interaction."
   ]
  },
  {
   "cell_type": "markdown",
   "metadata": {},
   "source": [
    "## 4D  Propose and perform an alternative method of analysis based on contingency tables. Compare its results to the results of the first approach.\n",
    "\n",
    "#### Do the chi square test:"
   ]
  },
  {
   "cell_type": "code",
   "execution_count": 107,
   "metadata": {},
   "outputs": [
    {
     "data": {
      "text/html": [
       "<table>\n",
       "<thead><tr><th scope=col>passed</th><th scope=col>psi</th><th scope=col>gpa</th></tr></thead>\n",
       "<tbody>\n",
       "\t<tr><td>0   </td><td>0   </td><td>2.66</td></tr>\n",
       "\t<tr><td>0   </td><td>0   </td><td>2.89</td></tr>\n",
       "\t<tr><td>0   </td><td>0   </td><td>3.28</td></tr>\n",
       "\t<tr><td>0   </td><td>0   </td><td>2.92</td></tr>\n",
       "\t<tr><td>1   </td><td>0   </td><td>4.00</td></tr>\n",
       "\t<tr><td>0   </td><td>0   </td><td>2.86</td></tr>\n",
       "</tbody>\n",
       "</table>\n"
      ],
      "text/latex": [
       "\\begin{tabular}{r|lll}\n",
       " passed & psi & gpa\\\\\n",
       "\\hline\n",
       "\t 0    & 0    & 2.66\\\\\n",
       "\t 0    & 0    & 2.89\\\\\n",
       "\t 0    & 0    & 3.28\\\\\n",
       "\t 0    & 0    & 2.92\\\\\n",
       "\t 1    & 0    & 4.00\\\\\n",
       "\t 0    & 0    & 2.86\\\\\n",
       "\\end{tabular}\n"
      ],
      "text/markdown": [
       "\n",
       "| passed | psi | gpa |\n",
       "|---|---|---|\n",
       "| 0    | 0    | 2.66 |\n",
       "| 0    | 0    | 2.89 |\n",
       "| 0    | 0    | 3.28 |\n",
       "| 0    | 0    | 2.92 |\n",
       "| 1    | 0    | 4.00 |\n",
       "| 0    | 0    | 2.86 |\n",
       "\n"
      ],
      "text/plain": [
       "  passed psi gpa \n",
       "1 0      0   2.66\n",
       "2 0      0   2.89\n",
       "3 0      0   3.28\n",
       "4 0      0   2.92\n",
       "5 1      0   4.00\n",
       "6 0      0   2.86"
      ]
     },
     "metadata": {},
     "output_type": "display_data"
    }
   ],
   "source": [
    "head(psidata)"
   ]
  },
  {
   "cell_type": "code",
   "execution_count": 112,
   "metadata": {},
   "outputs": [
    {
     "data": {
      "text/html": [
       "<table>\n",
       "<thead><tr><th></th><th scope=col>nopsi</th><th scope=col>psi</th></tr></thead>\n",
       "<tbody>\n",
       "\t<tr><th scope=row>count</th><td>18</td><td>14</td></tr>\n",
       "\t<tr><th scope=row>passed</th><td> 3</td><td> 8</td></tr>\n",
       "</tbody>\n",
       "</table>\n"
      ],
      "text/latex": [
       "\\begin{tabular}{r|ll}\n",
       "  & nopsi & psi\\\\\n",
       "\\hline\n",
       "\tcount & 18 & 14\\\\\n",
       "\tpassed &  3 &  8\\\\\n",
       "\\end{tabular}\n"
      ],
      "text/markdown": [
       "\n",
       "| <!--/--> | nopsi | psi |\n",
       "|---|---|---|\n",
       "| count | 18 | 14 |\n",
       "| passed |  3 |  8 |\n",
       "\n"
      ],
      "text/plain": [
       "       nopsi psi\n",
       "count  18    14 \n",
       "passed  3     8 "
      ]
     },
     "metadata": {},
     "output_type": "display_data"
    }
   ],
   "source": [
    "psimatrix = matrix(c(count_nopsi, count_psi, passed_nopsi, passed_psi), byrow=T, ncol=2, nrow=2)\n",
    "rownames(psimatrix) = c(\"count\",\"passed\")\n",
    "colnames(psimatrix) = c(\"nopsi\",\"psi\")\n",
    "psimatrix"
   ]
  },
  {
   "cell_type": "code",
   "execution_count": null,
   "metadata": {},
   "outputs": [],
   "source": []
  }
 ],
 "metadata": {
  "kernelspec": {
   "display_name": "R",
   "language": "R",
   "name": "python397jvsc74a57bd0e98a417cd127452877556e884928c4f0fa98249aac01379d1138d338daacda32"
  },
  "language_info": {
   "codemirror_mode": "r",
   "file_extension": ".r",
   "mimetype": "text/x-r-source",
   "name": "R",
   "pygments_lexer": "r",
   "version": "3.6.1"
  },
  "orig_nbformat": 4
 },
 "nbformat": 4,
 "nbformat_minor": 2
}
